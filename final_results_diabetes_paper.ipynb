{
  "metadata": {
    "kernelspec": {
      "display_name": "Python 3",
      "language": "python",
      "name": "python3"
    },
    "language_info": {
      "codemirror_mode": {
        "name": "ipython",
        "version": 3
      },
      "file_extension": ".py",
      "mimetype": "text/x-python",
      "name": "python",
      "nbconvert_exporter": "python",
      "pygments_lexer": "ipython3",
      "version": "3.7.4"
    },
    "colab": {
      "provenance": []
    }
  },
  "nbformat_minor": 0,
  "nbformat": 4,
  "cells": [
    {
      "cell_type": "markdown",
      "source": [
        "## Importing Important Libraries"
      ],
      "metadata": {
        "id": "crk6lNPJRcAy"
      }
    },
    {
      "cell_type": "code",
      "source": [
        "import pandas as pd\n",
        "import numpy as np\n",
        "import matplotlib.pyplot as plt\n",
        "import seaborn as sns\n",
        "from sklearn.model_selection import train_test_split\n",
        "from sklearn.preprocessing import StandardScaler\n",
        "from sklearn.metrics import confusion_matrix,classification_report,roc_curve,accuracy_score,auc\n",
        "from sklearn.linear_model import LogisticRegression\n",
        "from sklearn.svm import SVC\n",
        "from sklearn.neighbors import KNeighborsClassifier\n",
        "from sklearn.ensemble import RandomForestClassifier\n",
        "from keras.utils import np_utils\n",
        "from keras.models import Sequential, load_model\n",
        "from keras.layers import Dense, Dropout, Activation, Conv2D,MaxPooling2D, Flatten\n",
        "df = pd.read_csv(\"/content/Diabetes.csv\")\n",
        "df.head()"
      ],
      "metadata": {
        "trusted": true,
        "colab": {
          "base_uri": "https://localhost:8080/",
          "height": 285
        },
        "id": "waFeezcARcA0",
        "outputId": "f9912843-bee5-447d-ab06-474a27c1340b"
      },
      "execution_count": 8,
      "outputs": [
        {
          "output_type": "execute_result",
          "data": {
            "text/plain": [
              "    Number of times pregnant   Plasma glucose concentration  \\\n",
              "0                          6                            148   \n",
              "1                          1                             85   \n",
              "2                          8                            183   \n",
              "3                          1                             89   \n",
              "4                          0                            137   \n",
              "\n",
              "    Diastolic blood pressure   Triceps skin fold thickness  \\\n",
              "0                         72                            35   \n",
              "1                         66                            29   \n",
              "2                         64                             0   \n",
              "3                         66                            23   \n",
              "4                         40                            35   \n",
              "\n",
              "    2-Hour serum insulin   Body mass index   Diabetes pedigree function  \\\n",
              "0                      0              33.6                        0.627   \n",
              "1                      0              26.6                        0.351   \n",
              "2                      0              23.3                        0.672   \n",
              "3                     94              28.1                        0.167   \n",
              "4                    168              43.1                        2.288   \n",
              "\n",
              "    Age (years)  Class variable  \n",
              "0            50             YES  \n",
              "1            31              NO  \n",
              "2            32             YES  \n",
              "3            21              NO  \n",
              "4            33             YES  "
            ],
            "text/html": [
              "\n",
              "  <div id=\"df-71870c24-a447-49f8-b7c0-d5a6556b9fbd\">\n",
              "    <div class=\"colab-df-container\">\n",
              "      <div>\n",
              "<style scoped>\n",
              "    .dataframe tbody tr th:only-of-type {\n",
              "        vertical-align: middle;\n",
              "    }\n",
              "\n",
              "    .dataframe tbody tr th {\n",
              "        vertical-align: top;\n",
              "    }\n",
              "\n",
              "    .dataframe thead th {\n",
              "        text-align: right;\n",
              "    }\n",
              "</style>\n",
              "<table border=\"1\" class=\"dataframe\">\n",
              "  <thead>\n",
              "    <tr style=\"text-align: right;\">\n",
              "      <th></th>\n",
              "      <th>Number of times pregnant</th>\n",
              "      <th>Plasma glucose concentration</th>\n",
              "      <th>Diastolic blood pressure</th>\n",
              "      <th>Triceps skin fold thickness</th>\n",
              "      <th>2-Hour serum insulin</th>\n",
              "      <th>Body mass index</th>\n",
              "      <th>Diabetes pedigree function</th>\n",
              "      <th>Age (years)</th>\n",
              "      <th>Class variable</th>\n",
              "    </tr>\n",
              "  </thead>\n",
              "  <tbody>\n",
              "    <tr>\n",
              "      <th>0</th>\n",
              "      <td>6</td>\n",
              "      <td>148</td>\n",
              "      <td>72</td>\n",
              "      <td>35</td>\n",
              "      <td>0</td>\n",
              "      <td>33.6</td>\n",
              "      <td>0.627</td>\n",
              "      <td>50</td>\n",
              "      <td>YES</td>\n",
              "    </tr>\n",
              "    <tr>\n",
              "      <th>1</th>\n",
              "      <td>1</td>\n",
              "      <td>85</td>\n",
              "      <td>66</td>\n",
              "      <td>29</td>\n",
              "      <td>0</td>\n",
              "      <td>26.6</td>\n",
              "      <td>0.351</td>\n",
              "      <td>31</td>\n",
              "      <td>NO</td>\n",
              "    </tr>\n",
              "    <tr>\n",
              "      <th>2</th>\n",
              "      <td>8</td>\n",
              "      <td>183</td>\n",
              "      <td>64</td>\n",
              "      <td>0</td>\n",
              "      <td>0</td>\n",
              "      <td>23.3</td>\n",
              "      <td>0.672</td>\n",
              "      <td>32</td>\n",
              "      <td>YES</td>\n",
              "    </tr>\n",
              "    <tr>\n",
              "      <th>3</th>\n",
              "      <td>1</td>\n",
              "      <td>89</td>\n",
              "      <td>66</td>\n",
              "      <td>23</td>\n",
              "      <td>94</td>\n",
              "      <td>28.1</td>\n",
              "      <td>0.167</td>\n",
              "      <td>21</td>\n",
              "      <td>NO</td>\n",
              "    </tr>\n",
              "    <tr>\n",
              "      <th>4</th>\n",
              "      <td>0</td>\n",
              "      <td>137</td>\n",
              "      <td>40</td>\n",
              "      <td>35</td>\n",
              "      <td>168</td>\n",
              "      <td>43.1</td>\n",
              "      <td>2.288</td>\n",
              "      <td>33</td>\n",
              "      <td>YES</td>\n",
              "    </tr>\n",
              "  </tbody>\n",
              "</table>\n",
              "</div>\n",
              "      <button class=\"colab-df-convert\" onclick=\"convertToInteractive('df-71870c24-a447-49f8-b7c0-d5a6556b9fbd')\"\n",
              "              title=\"Convert this dataframe to an interactive table.\"\n",
              "              style=\"display:none;\">\n",
              "        \n",
              "  <svg xmlns=\"http://www.w3.org/2000/svg\" height=\"24px\"viewBox=\"0 0 24 24\"\n",
              "       width=\"24px\">\n",
              "    <path d=\"M0 0h24v24H0V0z\" fill=\"none\"/>\n",
              "    <path d=\"M18.56 5.44l.94 2.06.94-2.06 2.06-.94-2.06-.94-.94-2.06-.94 2.06-2.06.94zm-11 1L8.5 8.5l.94-2.06 2.06-.94-2.06-.94L8.5 2.5l-.94 2.06-2.06.94zm10 10l.94 2.06.94-2.06 2.06-.94-2.06-.94-.94-2.06-.94 2.06-2.06.94z\"/><path d=\"M17.41 7.96l-1.37-1.37c-.4-.4-.92-.59-1.43-.59-.52 0-1.04.2-1.43.59L10.3 9.45l-7.72 7.72c-.78.78-.78 2.05 0 2.83L4 21.41c.39.39.9.59 1.41.59.51 0 1.02-.2 1.41-.59l7.78-7.78 2.81-2.81c.8-.78.8-2.07 0-2.86zM5.41 20L4 18.59l7.72-7.72 1.47 1.35L5.41 20z\"/>\n",
              "  </svg>\n",
              "      </button>\n",
              "      \n",
              "  <style>\n",
              "    .colab-df-container {\n",
              "      display:flex;\n",
              "      flex-wrap:wrap;\n",
              "      gap: 12px;\n",
              "    }\n",
              "\n",
              "    .colab-df-convert {\n",
              "      background-color: #E8F0FE;\n",
              "      border: none;\n",
              "      border-radius: 50%;\n",
              "      cursor: pointer;\n",
              "      display: none;\n",
              "      fill: #1967D2;\n",
              "      height: 32px;\n",
              "      padding: 0 0 0 0;\n",
              "      width: 32px;\n",
              "    }\n",
              "\n",
              "    .colab-df-convert:hover {\n",
              "      background-color: #E2EBFA;\n",
              "      box-shadow: 0px 1px 2px rgba(60, 64, 67, 0.3), 0px 1px 3px 1px rgba(60, 64, 67, 0.15);\n",
              "      fill: #174EA6;\n",
              "    }\n",
              "\n",
              "    [theme=dark] .colab-df-convert {\n",
              "      background-color: #3B4455;\n",
              "      fill: #D2E3FC;\n",
              "    }\n",
              "\n",
              "    [theme=dark] .colab-df-convert:hover {\n",
              "      background-color: #434B5C;\n",
              "      box-shadow: 0px 1px 3px 1px rgba(0, 0, 0, 0.15);\n",
              "      filter: drop-shadow(0px 1px 2px rgba(0, 0, 0, 0.3));\n",
              "      fill: #FFFFFF;\n",
              "    }\n",
              "  </style>\n",
              "\n",
              "      <script>\n",
              "        const buttonEl =\n",
              "          document.querySelector('#df-71870c24-a447-49f8-b7c0-d5a6556b9fbd button.colab-df-convert');\n",
              "        buttonEl.style.display =\n",
              "          google.colab.kernel.accessAllowed ? 'block' : 'none';\n",
              "\n",
              "        async function convertToInteractive(key) {\n",
              "          const element = document.querySelector('#df-71870c24-a447-49f8-b7c0-d5a6556b9fbd');\n",
              "          const dataTable =\n",
              "            await google.colab.kernel.invokeFunction('convertToInteractive',\n",
              "                                                     [key], {});\n",
              "          if (!dataTable) return;\n",
              "\n",
              "          const docLinkHtml = 'Like what you see? Visit the ' +\n",
              "            '<a target=\"_blank\" href=https://colab.research.google.com/notebooks/data_table.ipynb>data table notebook</a>'\n",
              "            + ' to learn more about interactive tables.';\n",
              "          element.innerHTML = '';\n",
              "          dataTable['output_type'] = 'display_data';\n",
              "          await google.colab.output.renderOutput(dataTable, element);\n",
              "          const docLink = document.createElement('div');\n",
              "          docLink.innerHTML = docLinkHtml;\n",
              "          element.appendChild(docLink);\n",
              "        }\n",
              "      </script>\n",
              "    </div>\n",
              "  </div>\n",
              "  "
            ]
          },
          "metadata": {},
          "execution_count": 8
        }
      ]
    },
    {
      "cell_type": "code",
      "source": [
        "title_mapping = {'YES':1,'NO':0}\n",
        "df[' Class variable']=df[' Class variable'].map(title_mapping)"
      ],
      "metadata": {
        "trusted": true,
        "id": "Oj4HsJ2WRcA1"
      },
      "execution_count": 10,
      "outputs": []
    },
    {
      "cell_type": "markdown",
      "source": [
        "## Plotting Zeros Count in Data"
      ],
      "metadata": {
        "id": "r_2uRXJuRcA1"
      }
    },
    {
      "cell_type": "code",
      "source": [
        "z=(df == 0).sum(axis=0)\n",
        "z=pd.DataFrame(z)\n",
        "z.columns=['Zeros Count']\n",
        "z.drop(' Class variable',inplace=True)\n",
        "z.plot(kind='bar',stacked=True, figsize=(10,5),grid=True)"
      ],
      "metadata": {
        "trusted": true,
        "colab": {
          "base_uri": "https://localhost:8080/",
          "height": 480
        },
        "id": "0j8OJqTZRcA1",
        "outputId": "6b866af9-93b4-4143-96ac-90927074f536"
      },
      "execution_count": 11,
      "outputs": [
        {
          "output_type": "execute_result",
          "data": {
            "text/plain": [
              "<matplotlib.axes._subplots.AxesSubplot at 0x7fa1808ff3a0>"
            ]
          },
          "metadata": {},
          "execution_count": 11
        },
        {
          "output_type": "display_data",
          "data": {
            "text/plain": [
              "<Figure size 720x360 with 1 Axes>"
            ],
            "image/png": "[encoded data removed]"
          },
          "metadata": {
            "needs_background": "light"
          }
        }
      ]
    },
    {
      "cell_type": "code",
      "source": [
        "col=['n_pregnant','glucose_conc','bp','skin_len','insulin','bmi','pedigree_fun','age','Output']\n",
        "df.columns=col\n",
        "df.head()"
      ],
      "metadata": {
        "trusted": true,
        "colab": {
          "base_uri": "https://localhost:8080/",
          "height": 206
        },
        "id": "JgkxEyIjRcA2",
        "outputId": "e6701b65-d882-484c-a882-1671f198a338"
      },
      "execution_count": 12,
      "outputs": [
        {
          "output_type": "execute_result",
          "data": {
            "text/plain": [
              "   n_pregnant  glucose_conc  bp  skin_len  insulin   bmi  pedigree_fun  age  \\\n",
              "0           6           148  72        35        0  33.6         0.627   50   \n",
              "1           1            85  66        29        0  26.6         0.351   31   \n",
              "2           8           183  64         0        0  23.3         0.672   32   \n",
              "3           1            89  66        23       94  28.1         0.167   21   \n",
              "4           0           137  40        35      168  43.1         2.288   33   \n",
              "\n",
              "   Output  \n",
              "0       1  \n",
              "1       0  \n",
              "2       1  \n",
              "3       0  \n",
              "4       1  "
            ],
            "text/html": [
              "\n",
              "  <div id=\"df-7ec5c699-d046-40ee-8387-9a68a257b91a\">\n",
              "    <div class=\"colab-df-container\">\n",
              "      <div>\n",
              "<style scoped>\n",
              "    .dataframe tbody tr th:only-of-type {\n",
              "        vertical-align: middle;\n",
              "    }\n",
              "\n",
              "    .dataframe tbody tr th {\n",
              "        vertical-align: top;\n",
              "    }\n",
              "\n",
              "    .dataframe thead th {\n",
              "        text-align: right;\n",
              "    }\n",
              "</style>\n",
              "<table border=\"1\" class=\"dataframe\">\n",
              "  <thead>\n",
              "    <tr style=\"text-align: right;\">\n",
              "      <th></th>\n",
              "      <th>n_pregnant</th>\n",
              "      <th>glucose_conc</th>\n",
              "      <th>bp</th>\n",
              "      <th>skin_len</th>\n",
              "      <th>insulin</th>\n",
              "      <th>bmi</th>\n",
              "      <th>pedigree_fun</th>\n",
              "      <th>age</th>\n",
              "      <th>Output</th>\n",
              "    </tr>\n",
              "  </thead>\n",
              "  <tbody>\n",
              "    <tr>\n",
              "      <th>0</th>\n",
              "      <td>6</td>\n",
              "      <td>148</td>\n",
              "      <td>72</td>\n",
              "      <td>35</td>\n",
              "      <td>0</td>\n",
              "      <td>33.6</td>\n",
              "      <td>0.627</td>\n",
              "      <td>50</td>\n",
              "      <td>1</td>\n",
              "    </tr>\n",
              "    <tr>\n",
              "      <th>1</th>\n",
              "      <td>1</td>\n",
              "      <td>85</td>\n",
              "      <td>66</td>\n",
              "      <td>29</td>\n",
              "      <td>0</td>\n",
              "      <td>26.6</td>\n",
              "      <td>0.351</td>\n",
              "      <td>31</td>\n",
              "      <td>0</td>\n",
              "    </tr>\n",
              "    <tr>\n",
              "      <th>2</th>\n",
              "      <td>8</td>\n",
              "      <td>183</td>\n",
              "      <td>64</td>\n",
              "      <td>0</td>\n",
              "      <td>0</td>\n",
              "      <td>23.3</td>\n",
              "      <td>0.672</td>\n",
              "      <td>32</td>\n",
              "      <td>1</td>\n",
              "    </tr>\n",
              "    <tr>\n",
              "      <th>3</th>\n",
              "      <td>1</td>\n",
              "      <td>89</td>\n",
              "      <td>66</td>\n",
              "      <td>23</td>\n",
              "      <td>94</td>\n",
              "      <td>28.1</td>\n",
              "      <td>0.167</td>\n",
              "      <td>21</td>\n",
              "      <td>0</td>\n",
              "    </tr>\n",
              "    <tr>\n",
              "      <th>4</th>\n",
              "      <td>0</td>\n",
              "      <td>137</td>\n",
              "      <td>40</td>\n",
              "      <td>35</td>\n",
              "      <td>168</td>\n",
              "      <td>43.1</td>\n",
              "      <td>2.288</td>\n",
              "      <td>33</td>\n",
              "      <td>1</td>\n",
              "    </tr>\n",
              "  </tbody>\n",
              "</table>\n",
              "</div>\n",
              "      <button class=\"colab-df-convert\" onclick=\"convertToInteractive('df-7ec5c699-d046-40ee-8387-9a68a257b91a')\"\n",
              "              title=\"Convert this dataframe to an interactive table.\"\n",
              "              style=\"display:none;\">\n",
              "        \n",
              "  <svg xmlns=\"http://www.w3.org/2000/svg\" height=\"24px\"viewBox=\"0 0 24 24\"\n",
              "       width=\"24px\">\n",
              "    <path d=\"M0 0h24v24H0V0z\" fill=\"none\"/>\n",
              "    <path d=\"M18.56 5.44l.94 2.06.94-2.06 2.06-.94-2.06-.94-.94-2.06-.94 2.06-2.06.94zm-11 1L8.5 8.5l.94-2.06 2.06-.94-2.06-.94L8.5 2.5l-.94 2.06-2.06.94zm10 10l.94 2.06.94-2.06 2.06-.94-2.06-.94-.94-2.06-.94 2.06-2.06.94z\"/><path d=\"M17.41 7.96l-1.37-1.37c-.4-.4-.92-.59-1.43-.59-.52 0-1.04.2-1.43.59L10.3 9.45l-7.72 7.72c-.78.78-.78 2.05 0 2.83L4 21.41c.39.39.9.59 1.41.59.51 0 1.02-.2 1.41-.59l7.78-7.78 2.81-2.81c.8-.78.8-2.07 0-2.86zM5.41 20L4 18.59l7.72-7.72 1.47 1.35L5.41 20z\"/>\n",
              "  </svg>\n",
              "      </button>\n",
              "      \n",
              "  <style>\n",
              "    .colab-df-container {\n",
              "      display:flex;\n",
              "      flex-wrap:wrap;\n",
              "      gap: 12px;\n",
              "    }\n",
              "\n",
              "    .colab-df-convert {\n",
              "      background-color: #E8F0FE;\n",
              "      border: none;\n",
              "      border-radius: 50%;\n",
              "      cursor: pointer;\n",
              "      display: none;\n",
              "      fill: #1967D2;\n",
              "      height: 32px;\n",
              "      padding: 0 0 0 0;\n",
              "      width: 32px;\n",
              "    }\n",
              "\n",
              "    .colab-df-convert:hover {\n",
              "      background-color: #E2EBFA;\n",
              "      box-shadow: 0px 1px 2px rgba(60, 64, 67, 0.3), 0px 1px 3px 1px rgba(60, 64, 67, 0.15);\n",
              "      fill: #174EA6;\n",
              "    }\n",
              "\n",
              "    [theme=dark] .colab-df-convert {\n",
              "      background-color: #3B4455;\n",
              "      fill: #D2E3FC;\n",
              "    }\n",
              "\n",
              "    [theme=dark] .colab-df-convert:hover {\n",
              "      background-color: #434B5C;\n",
              "      box-shadow: 0px 1px 3px 1px rgba(0, 0, 0, 0.15);\n",
              "      filter: drop-shadow(0px 1px 2px rgba(0, 0, 0, 0.3));\n",
              "      fill: #FFFFFF;\n",
              "    }\n",
              "  </style>\n",
              "\n",
              "      <script>\n",
              "        const buttonEl =\n",
              "          document.querySelector('#df-7ec5c699-d046-40ee-8387-9a68a257b91a button.colab-df-convert');\n",
              "        buttonEl.style.display =\n",
              "          google.colab.kernel.accessAllowed ? 'block' : 'none';\n",
              "\n",
              "        async function convertToInteractive(key) {\n",
              "          const element = document.querySelector('#df-7ec5c699-d046-40ee-8387-9a68a257b91a');\n",
              "          const dataTable =\n",
              "            await google.colab.kernel.invokeFunction('convertToInteractive',\n",
              "                                                     [key], {});\n",
              "          if (!dataTable) return;\n",
              "\n",
              "          const docLinkHtml = 'Like what you see? Visit the ' +\n",
              "            '<a target=\"_blank\" href=https://colab.research.google.com/notebooks/data_table.ipynb>data table notebook</a>'\n",
              "            + ' to learn more about interactive tables.';\n",
              "          element.innerHTML = '';\n",
              "          dataTable['output_type'] = 'display_data';\n",
              "          await google.colab.output.renderOutput(dataTable, element);\n",
              "          const docLink = document.createElement('div');\n",
              "          docLink.innerHTML = docLinkHtml;\n",
              "          element.appendChild(docLink);\n",
              "        }\n",
              "      </script>\n",
              "    </div>\n",
              "  </div>\n",
              "  "
            ]
          },
          "metadata": {},
          "execution_count": 12
        }
      ]
    },
    {
      "cell_type": "code",
      "source": [
        "diabetes_true_count = len(df.loc[df['Output'] == True])\n",
        "diabetes_false_count = len(df.loc[df['Output'] == False])\n",
        "(diabetes_true_count,diabetes_false_count)"
      ],
      "metadata": {
        "trusted": true,
        "colab": {
          "base_uri": "https://localhost:8080/"
        },
        "id": "hLUo8z0NRcA2",
        "outputId": "7bc44661-c3bf-49cf-f9d8-756939ea611c"
      },
      "execution_count": 13,
      "outputs": [
        {
          "output_type": "execute_result",
          "data": {
            "text/plain": [
              "(268, 500)"
            ]
          },
          "metadata": {},
          "execution_count": 13
        }
      ]
    },
    {
      "cell_type": "markdown",
      "source": [
        "## Replacing 0 with NaN to Handle Easily"
      ],
      "metadata": {
        "id": "Z9mffVALRcA2"
      }
    },
    {
      "cell_type": "code",
      "source": [
        "col=['glucose_conc','bp','insulin','bmi','skin_len']\n",
        "for i in col:\n",
        "    df[i].replace(0, np.nan, inplace= True)"
      ],
      "metadata": {
        "trusted": true,
        "id": "J1bB9daSRcA2"
      },
      "execution_count": 14,
      "outputs": []
    },
    {
      "cell_type": "code",
      "source": [
        "df.isnull().sum()"
      ],
      "metadata": {
        "trusted": true,
        "colab": {
          "base_uri": "https://localhost:8080/"
        },
        "id": "173jRf3vRcA3",
        "outputId": "67e29c68-ca08-47b3-a7d4-5c05edd6fe1c"
      },
      "execution_count": 15,
      "outputs": [
        {
          "output_type": "execute_result",
          "data": {
            "text/plain": [
              "n_pregnant        0\n",
              "glucose_conc      5\n",
              "bp               35\n",
              "skin_len        227\n",
              "insulin         374\n",
              "bmi              11\n",
              "pedigree_fun      0\n",
              "age               0\n",
              "Output            0\n",
              "dtype: int64"
            ]
          },
          "metadata": {},
          "execution_count": 15
        }
      ]
    },
    {
      "cell_type": "markdown",
      "source": [
        "### Function to calculate Median according to the Output"
      ],
      "metadata": {
        "id": "vf-wA0OsRcA3"
      }
    },
    {
      "cell_type": "code",
      "source": [
        "def median_target(var):   \n",
        "    temp = df[df[var].notnull()]\n",
        "    temp = temp[[var, 'Output']].groupby(['Output'])[[var]].median().reset_index()\n",
        "    return temp"
      ],
      "metadata": {
        "trusted": true,
        "id": "IBymwSjeRcA3"
      },
      "execution_count": 16,
      "outputs": []
    },
    {
      "cell_type": "code",
      "source": [
        "median_target('insulin')"
      ],
      "metadata": {
        "trusted": true,
        "colab": {
          "base_uri": "https://localhost:8080/",
          "height": 112
        },
        "id": "I90_AwjhRcA3",
        "outputId": "263391c6-9411-4835-ec98-07685bc97a8f"
      },
      "execution_count": 17,
      "outputs": [
        {
          "output_type": "execute_result",
          "data": {
            "text/plain": [
              "   Output  insulin\n",
              "0       0    102.5\n",
              "1       1    169.5"
            ],
            "text/html": [
              "\n",
              "  <div id=\"df-227357bb-2dde-4672-9a85-b6e4c1b39d29\">\n",
              "    <div class=\"colab-df-container\">\n",
              "      <div>\n",
              "<style scoped>\n",
              "    .dataframe tbody tr th:only-of-type {\n",
              "        vertical-align: middle;\n",
              "    }\n",
              "\n",
              "    .dataframe tbody tr th {\n",
              "        vertical-align: top;\n",
              "    }\n",
              "\n",
              "    .dataframe thead th {\n",
              "        text-align: right;\n",
              "    }\n",
              "</style>\n",
              "<table border=\"1\" class=\"dataframe\">\n",
              "  <thead>\n",
              "    <tr style=\"text-align: right;\">\n",
              "      <th></th>\n",
              "      <th>Output</th>\n",
              "      <th>insulin</th>\n",
              "    </tr>\n",
              "  </thead>\n",
              "  <tbody>\n",
              "    <tr>\n",
              "      <th>0</th>\n",
              "      <td>0</td>\n",
              "      <td>102.5</td>\n",
              "    </tr>\n",
              "    <tr>\n",
              "      <th>1</th>\n",
              "      <td>1</td>\n",
              "      <td>169.5</td>\n",
              "    </tr>\n",
              "  </tbody>\n",
              "</table>\n",
              "</div>\n",
              "      <button class=\"colab-df-convert\" onclick=\"convertToInteractive('df-227357bb-2dde-4672-9a85-b6e4c1b39d29')\"\n",
              "              title=\"Convert this dataframe to an interactive table.\"\n",
              "              style=\"display:none;\">\n",
              "        \n",
              "  <svg xmlns=\"http://www.w3.org/2000/svg\" height=\"24px\"viewBox=\"0 0 24 24\"\n",
              "       width=\"24px\">\n",
              "    <path d=\"M0 0h24v24H0V0z\" fill=\"none\"/>\n",
              "    <path d=\"M18.56 5.44l.94 2.06.94-2.06 2.06-.94-2.06-.94-.94-2.06-.94 2.06-2.06.94zm-11 1L8.5 8.5l.94-2.06 2.06-.94-2.06-.94L8.5 2.5l-.94 2.06-2.06.94zm10 10l.94 2.06.94-2.06 2.06-.94-2.06-.94-.94-2.06-.94 2.06-2.06.94z\"/><path d=\"M17.41 7.96l-1.37-1.37c-.4-.4-.92-.59-1.43-.59-.52 0-1.04.2-1.43.59L10.3 9.45l-7.72 7.72c-.78.78-.78 2.05 0 2.83L4 21.41c.39.39.9.59 1.41.59.51 0 1.02-.2 1.41-.59l7.78-7.78 2.81-2.81c.8-.78.8-2.07 0-2.86zM5.41 20L4 18.59l7.72-7.72 1.47 1.35L5.41 20z\"/>\n",
              "  </svg>\n",
              "      </button>\n",
              "      \n",
              "  <style>\n",
              "    .colab-df-container {\n",
              "      display:flex;\n",
              "      flex-wrap:wrap;\n",
              "      gap: 12px;\n",
              "    }\n",
              "\n",
              "    .colab-df-convert {\n",
              "      background-color: #E8F0FE;\n",
              "      border: none;\n",
              "      border-radius: 50%;\n",
              "      cursor: pointer;\n",
              "      display: none;\n",
              "      fill: #1967D2;\n",
              "      height: 32px;\n",
              "      padding: 0 0 0 0;\n",
              "      width: 32px;\n",
              "    }\n",
              "\n",
              "    .colab-df-convert:hover {\n",
              "      background-color: #E2EBFA;\n",
              "      box-shadow: 0px 1px 2px rgba(60, 64, 67, 0.3), 0px 1px 3px 1px rgba(60, 64, 67, 0.15);\n",
              "      fill: #174EA6;\n",
              "    }\n",
              "\n",
              "    [theme=dark] .colab-df-convert {\n",
              "      background-color: #3B4455;\n",
              "      fill: #D2E3FC;\n",
              "    }\n",
              "\n",
              "    [theme=dark] .colab-df-convert:hover {\n",
              "      background-color: #434B5C;\n",
              "      box-shadow: 0px 1px 3px 1px rgba(0, 0, 0, 0.15);\n",
              "      filter: drop-shadow(0px 1px 2px rgba(0, 0, 0, 0.3));\n",
              "      fill: #FFFFFF;\n",
              "    }\n",
              "  </style>\n",
              "\n",
              "      <script>\n",
              "        const buttonEl =\n",
              "          document.querySelector('#df-227357bb-2dde-4672-9a85-b6e4c1b39d29 button.colab-df-convert');\n",
              "        buttonEl.style.display =\n",
              "          google.colab.kernel.accessAllowed ? 'block' : 'none';\n",
              "\n",
              "        async function convertToInteractive(key) {\n",
              "          const element = document.querySelector('#df-227357bb-2dde-4672-9a85-b6e4c1b39d29');\n",
              "          const dataTable =\n",
              "            await google.colab.kernel.invokeFunction('convertToInteractive',\n",
              "                                                     [key], {});\n",
              "          if (!dataTable) return;\n",
              "\n",
              "          const docLinkHtml = 'Like what you see? Visit the ' +\n",
              "            '<a target=\"_blank\" href=https://colab.research.google.com/notebooks/data_table.ipynb>data table notebook</a>'\n",
              "            + ' to learn more about interactive tables.';\n",
              "          element.innerHTML = '';\n",
              "          dataTable['output_type'] = 'display_data';\n",
              "          await google.colab.output.renderOutput(dataTable, element);\n",
              "          const docLink = document.createElement('div');\n",
              "          docLink.innerHTML = docLinkHtml;\n",
              "          element.appendChild(docLink);\n",
              "        }\n",
              "      </script>\n",
              "    </div>\n",
              "  </div>\n",
              "  "
            ]
          },
          "metadata": {},
          "execution_count": 17
        }
      ]
    },
    {
      "cell_type": "code",
      "source": [
        "median_target('glucose_conc')"
      ],
      "metadata": {
        "trusted": true,
        "colab": {
          "base_uri": "https://localhost:8080/",
          "height": 112
        },
        "id": "ksGL-fHNRcA4",
        "outputId": "a0aa77df-955a-479a-ddaa-634570157d18"
      },
      "execution_count": 18,
      "outputs": [
        {
          "output_type": "execute_result",
          "data": {
            "text/plain": [
              "   Output  glucose_conc\n",
              "0       0         107.0\n",
              "1       1         140.0"
            ],
            "text/html": [
              "\n",
              "  <div id=\"df-008eda32-39c9-4ac7-b4b9-2536069295aa\">\n",
              "    <div class=\"colab-df-container\">\n",
              "      <div>\n",
              "<style scoped>\n",
              "    .dataframe tbody tr th:only-of-type {\n",
              "        vertical-align: middle;\n",
              "    }\n",
              "\n",
              "    .dataframe tbody tr th {\n",
              "        vertical-align: top;\n",
              "    }\n",
              "\n",
              "    .dataframe thead th {\n",
              "        text-align: right;\n",
              "    }\n",
              "</style>\n",
              "<table border=\"1\" class=\"dataframe\">\n",
              "  <thead>\n",
              "    <tr style=\"text-align: right;\">\n",
              "      <th></th>\n",
              "      <th>Output</th>\n",
              "      <th>glucose_conc</th>\n",
              "    </tr>\n",
              "  </thead>\n",
              "  <tbody>\n",
              "    <tr>\n",
              "      <th>0</th>\n",
              "      <td>0</td>\n",
              "      <td>107.0</td>\n",
              "    </tr>\n",
              "    <tr>\n",
              "      <th>1</th>\n",
              "      <td>1</td>\n",
              "      <td>140.0</td>\n",
              "    </tr>\n",
              "  </tbody>\n",
              "</table>\n",
              "</div>\n",
              "      <button class=\"colab-df-convert\" onclick=\"convertToInteractive('df-008eda32-39c9-4ac7-b4b9-2536069295aa')\"\n",
              "              title=\"Convert this dataframe to an interactive table.\"\n",
              "              style=\"display:none;\">\n",
              "        \n",
              "  <svg xmlns=\"http://www.w3.org/2000/svg\" height=\"24px\"viewBox=\"0 0 24 24\"\n",
              "       width=\"24px\">\n",
              "    <path d=\"M0 0h24v24H0V0z\" fill=\"none\"/>\n",
              "    <path d=\"M18.56 5.44l.94 2.06.94-2.06 2.06-.94-2.06-.94-.94-2.06-.94 2.06-2.06.94zm-11 1L8.5 8.5l.94-2.06 2.06-.94-2.06-.94L8.5 2.5l-.94 2.06-2.06.94zm10 10l.94 2.06.94-2.06 2.06-.94-2.06-.94-.94-2.06-.94 2.06-2.06.94z\"/><path d=\"M17.41 7.96l-1.37-1.37c-.4-.4-.92-.59-1.43-.59-.52 0-1.04.2-1.43.59L10.3 9.45l-7.72 7.72c-.78.78-.78 2.05 0 2.83L4 21.41c.39.39.9.59 1.41.59.51 0 1.02-.2 1.41-.59l7.78-7.78 2.81-2.81c.8-.78.8-2.07 0-2.86zM5.41 20L4 18.59l7.72-7.72 1.47 1.35L5.41 20z\"/>\n",
              "  </svg>\n",
              "      </button>\n",
              "      \n",
              "  <style>\n",
              "    .colab-df-container {\n",
              "      display:flex;\n",
              "      flex-wrap:wrap;\n",
              "      gap: 12px;\n",
              "    }\n",
              "\n",
              "    .colab-df-convert {\n",
              "      background-color: #E8F0FE;\n",
              "      border: none;\n",
              "      border-radius: 50%;\n",
              "      cursor: pointer;\n",
              "      display: none;\n",
              "      fill: #1967D2;\n",
              "      height: 32px;\n",
              "      padding: 0 0 0 0;\n",
              "      width: 32px;\n",
              "    }\n",
              "\n",
              "    .colab-df-convert:hover {\n",
              "      background-color: #E2EBFA;\n",
              "      box-shadow: 0px 1px 2px rgba(60, 64, 67, 0.3), 0px 1px 3px 1px rgba(60, 64, 67, 0.15);\n",
              "      fill: #174EA6;\n",
              "    }\n",
              "\n",
              "    [theme=dark] .colab-df-convert {\n",
              "      background-color: #3B4455;\n",
              "      fill: #D2E3FC;\n",
              "    }\n",
              "\n",
              "    [theme=dark] .colab-df-convert:hover {\n",
              "      background-color: #434B5C;\n",
              "      box-shadow: 0px 1px 3px 1px rgba(0, 0, 0, 0.15);\n",
              "      filter: drop-shadow(0px 1px 2px rgba(0, 0, 0, 0.3));\n",
              "      fill: #FFFFFF;\n",
              "    }\n",
              "  </style>\n",
              "\n",
              "      <script>\n",
              "        const buttonEl =\n",
              "          document.querySelector('#df-008eda32-39c9-4ac7-b4b9-2536069295aa button.colab-df-convert');\n",
              "        buttonEl.style.display =\n",
              "          google.colab.kernel.accessAllowed ? 'block' : 'none';\n",
              "\n",
              "        async function convertToInteractive(key) {\n",
              "          const element = document.querySelector('#df-008eda32-39c9-4ac7-b4b9-2536069295aa');\n",
              "          const dataTable =\n",
              "            await google.colab.kernel.invokeFunction('convertToInteractive',\n",
              "                                                     [key], {});\n",
              "          if (!dataTable) return;\n",
              "\n",
              "          const docLinkHtml = 'Like what you see? Visit the ' +\n",
              "            '<a target=\"_blank\" href=https://colab.research.google.com/notebooks/data_table.ipynb>data table notebook</a>'\n",
              "            + ' to learn more about interactive tables.';\n",
              "          element.innerHTML = '';\n",
              "          dataTable['output_type'] = 'display_data';\n",
              "          await google.colab.output.renderOutput(dataTable, element);\n",
              "          const docLink = document.createElement('div');\n",
              "          docLink.innerHTML = docLinkHtml;\n",
              "          element.appendChild(docLink);\n",
              "        }\n",
              "      </script>\n",
              "    </div>\n",
              "  </div>\n",
              "  "
            ]
          },
          "metadata": {},
          "execution_count": 18
        }
      ]
    },
    {
      "cell_type": "code",
      "source": [
        "median_target('skin_len')"
      ],
      "metadata": {
        "trusted": true,
        "colab": {
          "base_uri": "https://localhost:8080/",
          "height": 112
        },
        "id": "dGupkFdsRcA4",
        "outputId": "e4b4ffbf-b9b7-46c4-e868-f61fd8c37274"
      },
      "execution_count": 21,
      "outputs": [
        {
          "output_type": "execute_result",
          "data": {
            "text/plain": [
              "   Output  skin_len\n",
              "0       0      27.0\n",
              "1       1      32.0"
            ],
            "text/html": [
              "\n",
              "  <div id=\"df-5ebc8721-aadf-4c24-a5cb-33653e4a9ff5\">\n",
              "    <div class=\"colab-df-container\">\n",
              "      <div>\n",
              "<style scoped>\n",
              "    .dataframe tbody tr th:only-of-type {\n",
              "        vertical-align: middle;\n",
              "    }\n",
              "\n",
              "    .dataframe tbody tr th {\n",
              "        vertical-align: top;\n",
              "    }\n",
              "\n",
              "    .dataframe thead th {\n",
              "        text-align: right;\n",
              "    }\n",
              "</style>\n",
              "<table border=\"1\" class=\"dataframe\">\n",
              "  <thead>\n",
              "    <tr style=\"text-align: right;\">\n",
              "      <th></th>\n",
              "      <th>Output</th>\n",
              "      <th>skin_len</th>\n",
              "    </tr>\n",
              "  </thead>\n",
              "  <tbody>\n",
              "    <tr>\n",
              "      <th>0</th>\n",
              "      <td>0</td>\n",
              "      <td>27.0</td>\n",
              "    </tr>\n",
              "    <tr>\n",
              "      <th>1</th>\n",
              "      <td>1</td>\n",
              "      <td>32.0</td>\n",
              "    </tr>\n",
              "  </tbody>\n",
              "</table>\n",
              "</div>\n",
              "      <button class=\"colab-df-convert\" onclick=\"convertToInteractive('df-5ebc8721-aadf-4c24-a5cb-33653e4a9ff5')\"\n",
              "              title=\"Convert this dataframe to an interactive table.\"\n",
              "              style=\"display:none;\">\n",
              "        \n",
              "  <svg xmlns=\"http://www.w3.org/2000/svg\" height=\"24px\"viewBox=\"0 0 24 24\"\n",
              "       width=\"24px\">\n",
              "    <path d=\"M0 0h24v24H0V0z\" fill=\"none\"/>\n",
              "    <path d=\"M18.56 5.44l.94 2.06.94-2.06 2.06-.94-2.06-.94-.94-2.06-.94 2.06-2.06.94zm-11 1L8.5 8.5l.94-2.06 2.06-.94-2.06-.94L8.5 2.5l-.94 2.06-2.06.94zm10 10l.94 2.06.94-2.06 2.06-.94-2.06-.94-.94-2.06-.94 2.06-2.06.94z\"/><path d=\"M17.41 7.96l-1.37-1.37c-.4-.4-.92-.59-1.43-.59-.52 0-1.04.2-1.43.59L10.3 9.45l-7.72 7.72c-.78.78-.78 2.05 0 2.83L4 21.41c.39.39.9.59 1.41.59.51 0 1.02-.2 1.41-.59l7.78-7.78 2.81-2.81c.8-.78.8-2.07 0-2.86zM5.41 20L4 18.59l7.72-7.72 1.47 1.35L5.41 20z\"/>\n",
              "  </svg>\n",
              "      </button>\n",
              "      \n",
              "  <style>\n",
              "    .colab-df-container {\n",
              "      display:flex;\n",
              "      flex-wrap:wrap;\n",
              "      gap: 12px;\n",
              "    }\n",
              "\n",
              "    .colab-df-convert {\n",
              "      background-color: #E8F0FE;\n",
              "      border: none;\n",
              "      border-radius: 50%;\n",
              "      cursor: pointer;\n",
              "      display: none;\n",
              "      fill: #1967D2;\n",
              "      height: 32px;\n",
              "      padding: 0 0 0 0;\n",
              "      width: 32px;\n",
              "    }\n",
              "\n",
              "    .colab-df-convert:hover {\n",
              "      background-color: #E2EBFA;\n",
              "      box-shadow: 0px 1px 2px rgba(60, 64, 67, 0.3), 0px 1px 3px 1px rgba(60, 64, 67, 0.15);\n",
              "      fill: #174EA6;\n",
              "    }\n",
              "\n",
              "    [theme=dark] .colab-df-convert {\n",
              "      background-color: #3B4455;\n",
              "      fill: #D2E3FC;\n",
              "    }\n",
              "\n",
              "    [theme=dark] .colab-df-convert:hover {\n",
              "      background-color: #434B5C;\n",
              "      box-shadow: 0px 1px 3px 1px rgba(0, 0, 0, 0.15);\n",
              "      filter: drop-shadow(0px 1px 2px rgba(0, 0, 0, 0.3));\n",
              "      fill: #FFFFFF;\n",
              "    }\n",
              "  </style>\n",
              "\n",
              "      <script>\n",
              "        const buttonEl =\n",
              "          document.querySelector('#df-5ebc8721-aadf-4c24-a5cb-33653e4a9ff5 button.colab-df-convert');\n",
              "        buttonEl.style.display =\n",
              "          google.colab.kernel.accessAllowed ? 'block' : 'none';\n",
              "\n",
              "        async function convertToInteractive(key) {\n",
              "          const element = document.querySelector('#df-5ebc8721-aadf-4c24-a5cb-33653e4a9ff5');\n",
              "          const dataTable =\n",
              "            await google.colab.kernel.invokeFunction('convertToInteractive',\n",
              "                                                     [key], {});\n",
              "          if (!dataTable) return;\n",
              "\n",
              "          const docLinkHtml = 'Like what you see? Visit the ' +\n",
              "            '<a target=\"_blank\" href=https://colab.research.google.com/notebooks/data_table.ipynb>data table notebook</a>'\n",
              "            + ' to learn more about interactive tables.';\n",
              "          element.innerHTML = '';\n",
              "          dataTable['output_type'] = 'display_data';\n",
              "          await google.colab.output.renderOutput(dataTable, element);\n",
              "          const docLink = document.createElement('div');\n",
              "          docLink.innerHTML = docLinkHtml;\n",
              "          element.appendChild(docLink);\n",
              "        }\n",
              "      </script>\n",
              "    </div>\n",
              "  </div>\n",
              "  "
            ]
          },
          "metadata": {},
          "execution_count": 21
        }
      ]
    },
    {
      "cell_type": "code",
      "source": [
        "median_target('bp')"
      ],
      "metadata": {
        "trusted": true,
        "colab": {
          "base_uri": "https://localhost:8080/",
          "height": 112
        },
        "id": "RCBgkh6sRcA4",
        "outputId": "a3b79d7e-01d6-490d-f64a-caa2e9a5a6cb"
      },
      "execution_count": 20,
      "outputs": [
        {
          "output_type": "execute_result",
          "data": {
            "text/plain": [
              "   Output    bp\n",
              "0       0  70.0\n",
              "1       1  74.5"
            ],
            "text/html": [
              "\n",
              "  <div id=\"df-d15ad345-02aa-447d-84ae-bd7bf70ed013\">\n",
              "    <div class=\"colab-df-container\">\n",
              "      <div>\n",
              "<style scoped>\n",
              "    .dataframe tbody tr th:only-of-type {\n",
              "        vertical-align: middle;\n",
              "    }\n",
              "\n",
              "    .dataframe tbody tr th {\n",
              "        vertical-align: top;\n",
              "    }\n",
              "\n",
              "    .dataframe thead th {\n",
              "        text-align: right;\n",
              "    }\n",
              "</style>\n",
              "<table border=\"1\" class=\"dataframe\">\n",
              "  <thead>\n",
              "    <tr style=\"text-align: right;\">\n",
              "      <th></th>\n",
              "      <th>Output</th>\n",
              "      <th>bp</th>\n",
              "    </tr>\n",
              "  </thead>\n",
              "  <tbody>\n",
              "    <tr>\n",
              "      <th>0</th>\n",
              "      <td>0</td>\n",
              "      <td>70.0</td>\n",
              "    </tr>\n",
              "    <tr>\n",
              "      <th>1</th>\n",
              "      <td>1</td>\n",
              "      <td>74.5</td>\n",
              "    </tr>\n",
              "  </tbody>\n",
              "</table>\n",
              "</div>\n",
              "      <button class=\"colab-df-convert\" onclick=\"convertToInteractive('df-d15ad345-02aa-447d-84ae-bd7bf70ed013')\"\n",
              "              title=\"Convert this dataframe to an interactive table.\"\n",
              "              style=\"display:none;\">\n",
              "        \n",
              "  <svg xmlns=\"http://www.w3.org/2000/svg\" height=\"24px\"viewBox=\"0 0 24 24\"\n",
              "       width=\"24px\">\n",
              "    <path d=\"M0 0h24v24H0V0z\" fill=\"none\"/>\n",
              "    <path d=\"M18.56 5.44l.94 2.06.94-2.06 2.06-.94-2.06-.94-.94-2.06-.94 2.06-2.06.94zm-11 1L8.5 8.5l.94-2.06 2.06-.94-2.06-.94L8.5 2.5l-.94 2.06-2.06.94zm10 10l.94 2.06.94-2.06 2.06-.94-2.06-.94-.94-2.06-.94 2.06-2.06.94z\"/><path d=\"M17.41 7.96l-1.37-1.37c-.4-.4-.92-.59-1.43-.59-.52 0-1.04.2-1.43.59L10.3 9.45l-7.72 7.72c-.78.78-.78 2.05 0 2.83L4 21.41c.39.39.9.59 1.41.59.51 0 1.02-.2 1.41-.59l7.78-7.78 2.81-2.81c.8-.78.8-2.07 0-2.86zM5.41 20L4 18.59l7.72-7.72 1.47 1.35L5.41 20z\"/>\n",
              "  </svg>\n",
              "      </button>\n",
              "      \n",
              "  <style>\n",
              "    .colab-df-container {\n",
              "      display:flex;\n",
              "      flex-wrap:wrap;\n",
              "      gap: 12px;\n",
              "    }\n",
              "\n",
              "    .colab-df-convert {\n",
              "      background-color: #E8F0FE;\n",
              "      border: none;\n",
              "      border-radius: 50%;\n",
              "      cursor: pointer;\n",
              "      display: none;\n",
              "      fill: #1967D2;\n",
              "      height: 32px;\n",
              "      padding: 0 0 0 0;\n",
              "      width: 32px;\n",
              "    }\n",
              "\n",
              "    .colab-df-convert:hover {\n",
              "      background-color: #E2EBFA;\n",
              "      box-shadow: 0px 1px 2px rgba(60, 64, 67, 0.3), 0px 1px 3px 1px rgba(60, 64, 67, 0.15);\n",
              "      fill: #174EA6;\n",
              "    }\n",
              "\n",
              "    [theme=dark] .colab-df-convert {\n",
              "      background-color: #3B4455;\n",
              "      fill: #D2E3FC;\n",
              "    }\n",
              "\n",
              "    [theme=dark] .colab-df-convert:hover {\n",
              "      background-color: #434B5C;\n",
              "      box-shadow: 0px 1px 3px 1px rgba(0, 0, 0, 0.15);\n",
              "      filter: drop-shadow(0px 1px 2px rgba(0, 0, 0, 0.3));\n",
              "      fill: #FFFFFF;\n",
              "    }\n",
              "  </style>\n",
              "\n",
              "      <script>\n",
              "        const buttonEl =\n",
              "          document.querySelector('#df-d15ad345-02aa-447d-84ae-bd7bf70ed013 button.colab-df-convert');\n",
              "        buttonEl.style.display =\n",
              "          google.colab.kernel.accessAllowed ? 'block' : 'none';\n",
              "\n",
              "        async function convertToInteractive(key) {\n",
              "          const element = document.querySelector('#df-d15ad345-02aa-447d-84ae-bd7bf70ed013');\n",
              "          const dataTable =\n",
              "            await google.colab.kernel.invokeFunction('convertToInteractive',\n",
              "                                                     [key], {});\n",
              "          if (!dataTable) return;\n",
              "\n",
              "          const docLinkHtml = 'Like what you see? Visit the ' +\n",
              "            '<a target=\"_blank\" href=https://colab.research.google.com/notebooks/data_table.ipynb>data table notebook</a>'\n",
              "            + ' to learn more about interactive tables.';\n",
              "          element.innerHTML = '';\n",
              "          dataTable['output_type'] = 'display_data';\n",
              "          await google.colab.output.renderOutput(dataTable, element);\n",
              "          const docLink = document.createElement('div');\n",
              "          docLink.innerHTML = docLinkHtml;\n",
              "          element.appendChild(docLink);\n",
              "        }\n",
              "      </script>\n",
              "    </div>\n",
              "  </div>\n",
              "  "
            ]
          },
          "metadata": {},
          "execution_count": 20
        }
      ]
    },
    {
      "cell_type": "code",
      "source": [
        "median_target('bmi')"
      ],
      "metadata": {
        "trusted": true,
        "colab": {
          "base_uri": "https://localhost:8080/",
          "height": 112
        },
        "id": "NBQOSKYdRcA4",
        "outputId": "77d7a2ad-c6df-476a-810e-458790f3bbbb"
      },
      "execution_count": 19,
      "outputs": [
        {
          "output_type": "execute_result",
          "data": {
            "text/plain": [
              "   Output   bmi\n",
              "0       0  30.1\n",
              "1       1  34.3"
            ],
            "text/html": [
              "\n",
              "  <div id=\"df-f79ca876-0d73-47b7-b559-1aac56838779\">\n",
              "    <div class=\"colab-df-container\">\n",
              "      <div>\n",
              "<style scoped>\n",
              "    .dataframe tbody tr th:only-of-type {\n",
              "        vertical-align: middle;\n",
              "    }\n",
              "\n",
              "    .dataframe tbody tr th {\n",
              "        vertical-align: top;\n",
              "    }\n",
              "\n",
              "    .dataframe thead th {\n",
              "        text-align: right;\n",
              "    }\n",
              "</style>\n",
              "<table border=\"1\" class=\"dataframe\">\n",
              "  <thead>\n",
              "    <tr style=\"text-align: right;\">\n",
              "      <th></th>\n",
              "      <th>Output</th>\n",
              "      <th>bmi</th>\n",
              "    </tr>\n",
              "  </thead>\n",
              "  <tbody>\n",
              "    <tr>\n",
              "      <th>0</th>\n",
              "      <td>0</td>\n",
              "      <td>30.1</td>\n",
              "    </tr>\n",
              "    <tr>\n",
              "      <th>1</th>\n",
              "      <td>1</td>\n",
              "      <td>34.3</td>\n",
              "    </tr>\n",
              "  </tbody>\n",
              "</table>\n",
              "</div>\n",
              "      <button class=\"colab-df-convert\" onclick=\"convertToInteractive('df-f79ca876-0d73-47b7-b559-1aac56838779')\"\n",
              "              title=\"Convert this dataframe to an interactive table.\"\n",
              "              style=\"display:none;\">\n",
              "        \n",
              "  <svg xmlns=\"http://www.w3.org/2000/svg\" height=\"24px\"viewBox=\"0 0 24 24\"\n",
              "       width=\"24px\">\n",
              "    <path d=\"M0 0h24v24H0V0z\" fill=\"none\"/>\n",
              "    <path d=\"M18.56 5.44l.94 2.06.94-2.06 2.06-.94-2.06-.94-.94-2.06-.94 2.06-2.06.94zm-11 1L8.5 8.5l.94-2.06 2.06-.94-2.06-.94L8.5 2.5l-.94 2.06-2.06.94zm10 10l.94 2.06.94-2.06 2.06-.94-2.06-.94-.94-2.06-.94 2.06-2.06.94z\"/><path d=\"M17.41 7.96l-1.37-1.37c-.4-.4-.92-.59-1.43-.59-.52 0-1.04.2-1.43.59L10.3 9.45l-7.72 7.72c-.78.78-.78 2.05 0 2.83L4 21.41c.39.39.9.59 1.41.59.51 0 1.02-.2 1.41-.59l7.78-7.78 2.81-2.81c.8-.78.8-2.07 0-2.86zM5.41 20L4 18.59l7.72-7.72 1.47 1.35L5.41 20z\"/>\n",
              "  </svg>\n",
              "      </button>\n",
              "      \n",
              "  <style>\n",
              "    .colab-df-container {\n",
              "      display:flex;\n",
              "      flex-wrap:wrap;\n",
              "      gap: 12px;\n",
              "    }\n",
              "\n",
              "    .colab-df-convert {\n",
              "      background-color: #E8F0FE;\n",
              "      border: none;\n",
              "      border-radius: 50%;\n",
              "      cursor: pointer;\n",
              "      display: none;\n",
              "      fill: #1967D2;\n",
              "      height: 32px;\n",
              "      padding: 0 0 0 0;\n",
              "      width: 32px;\n",
              "    }\n",
              "\n",
              "    .colab-df-convert:hover {\n",
              "      background-color: #E2EBFA;\n",
              "      box-shadow: 0px 1px 2px rgba(60, 64, 67, 0.3), 0px 1px 3px 1px rgba(60, 64, 67, 0.15);\n",
              "      fill: #174EA6;\n",
              "    }\n",
              "\n",
              "    [theme=dark] .colab-df-convert {\n",
              "      background-color: #3B4455;\n",
              "      fill: #D2E3FC;\n",
              "    }\n",
              "\n",
              "    [theme=dark] .colab-df-convert:hover {\n",
              "      background-color: #434B5C;\n",
              "      box-shadow: 0px 1px 3px 1px rgba(0, 0, 0, 0.15);\n",
              "      filter: drop-shadow(0px 1px 2px rgba(0, 0, 0, 0.3));\n",
              "      fill: #FFFFFF;\n",
              "    }\n",
              "  </style>\n",
              "\n",
              "      <script>\n",
              "        const buttonEl =\n",
              "          document.querySelector('#df-f79ca876-0d73-47b7-b559-1aac56838779 button.colab-df-convert');\n",
              "        buttonEl.style.display =\n",
              "          google.colab.kernel.accessAllowed ? 'block' : 'none';\n",
              "\n",
              "        async function convertToInteractive(key) {\n",
              "          const element = document.querySelector('#df-f79ca876-0d73-47b7-b559-1aac56838779');\n",
              "          const dataTable =\n",
              "            await google.colab.kernel.invokeFunction('convertToInteractive',\n",
              "                                                     [key], {});\n",
              "          if (!dataTable) return;\n",
              "\n",
              "          const docLinkHtml = 'Like what you see? Visit the ' +\n",
              "            '<a target=\"_blank\" href=https://colab.research.google.com/notebooks/data_table.ipynb>data table notebook</a>'\n",
              "            + ' to learn more about interactive tables.';\n",
              "          element.innerHTML = '';\n",
              "          dataTable['output_type'] = 'display_data';\n",
              "          await google.colab.output.renderOutput(dataTable, element);\n",
              "          const docLink = document.createElement('div');\n",
              "          docLink.innerHTML = docLinkHtml;\n",
              "          element.appendChild(docLink);\n",
              "        }\n",
              "      </script>\n",
              "    </div>\n",
              "  </div>\n",
              "  "
            ]
          },
          "metadata": {},
          "execution_count": 19
        }
      ]
    },
    {
      "cell_type": "markdown",
      "source": [
        "## Filling the NaN value with Median according to Output"
      ],
      "metadata": {
        "id": "yzzUJulXRcA4"
      }
    },
    {
      "cell_type": "code",
      "source": [
        "df.loc[(df['Output'] == 0 ) & (df['insulin'].isnull()), 'insulin'] = 102.5\n",
        "df.loc[(df['Output'] == 1 ) & (df['insulin'].isnull()), 'insulin'] = 169.5\n",
        "df.loc[(df['Output'] == 0 ) & (df['glucose_conc'].isnull()), 'glucose_conc'] = 107\n",
        "df.loc[(df['Output'] == 1 ) & (df['glucose_conc'].isnull()), 'glucose_conc'] = 140\n",
        "df.loc[(df['Output'] == 0 ) & (df['skin_len'].isnull()), 'skin_len'] = 27\n",
        "df.loc[(df['Output'] == 1 ) & (df['skin_len'].isnull()), 'skin_len'] = 32\n",
        "df.loc[(df['Output'] == 0 ) & (df['bp'].isnull()), 'bp'] = 70\n",
        "df.loc[(df['Output'] == 1 ) & (df['bp'].isnull()), 'bp'] = 74.5\n",
        "df.loc[(df['Output'] == 0 ) & (df['bmi'].isnull()), 'bmi'] = 30.1\n",
        "df.loc[(df['Output'] == 1 ) & (df['bmi'].isnull()), 'bmi'] = 34.3"
      ],
      "metadata": {
        "trusted": true,
        "id": "k8ikLuo4RcA5"
      },
      "execution_count": 22,
      "outputs": []
    },
    {
      "cell_type": "code",
      "source": [
        "df.isnull().sum()"
      ],
      "metadata": {
        "trusted": true,
        "colab": {
          "base_uri": "https://localhost:8080/"
        },
        "id": "1BMydploRcA5",
        "outputId": "cd564192-b9cf-4eb8-9f49-e3aa95b2bcda"
      },
      "execution_count": 23,
      "outputs": [
        {
          "output_type": "execute_result",
          "data": {
            "text/plain": [
              "n_pregnant      0\n",
              "glucose_conc    0\n",
              "bp              0\n",
              "skin_len        0\n",
              "insulin         0\n",
              "bmi             0\n",
              "pedigree_fun    0\n",
              "age             0\n",
              "Output          0\n",
              "dtype: int64"
            ]
          },
          "metadata": {},
          "execution_count": 23
        }
      ]
    },
    {
      "cell_type": "markdown",
      "source": [
        "## Box Plot to check for Outliers in the Data"
      ],
      "metadata": {
        "id": "3U2q2mvrRcA5"
      }
    },
    {
      "cell_type": "code",
      "source": [
        "plt.style.use('ggplot') # Using ggplot2 style visuals \n",
        "\n",
        "f, ax = plt.subplots(figsize=(11, 15))\n",
        "\n",
        "ax.set_facecolor('#fafafa')\n",
        "ax.set(xlim=(-.05, 200))\n",
        "plt.ylabel('Variables')\n",
        "plt.title(\"Overview Data Set\")\n",
        "ax = sns.boxplot(data = df, \n",
        "  orient = 'h', \n",
        "  palette = 'Set2')"
      ],
      "metadata": {
        "trusted": true,
        "colab": {
          "base_uri": "https://localhost:8080/",
          "height": 880
        },
        "id": "OkxdkAQ3RcA5",
        "outputId": "ff630c4f-7037-483a-b7e1-23b2c430d029"
      },
      "execution_count": 24,
      "outputs": [
        {
          "output_type": "display_data",
          "data": {
            "text/plain": [
              "<Figure size 792x1080 with 1 Axes>"
            ],
            "image/png": "[encoded data removed]"
          },
          "metadata": {}
        }
      ]
    },
    {
      "cell_type": "markdown",
      "source": [
        "# Outlier Correction with Median"
      ],
      "metadata": {
        "id": "LONAd3HQRcA5"
      }
    },
    {
      "cell_type": "code",
      "source": [
        "sns.boxplot(df.n_pregnant)"
      ],
      "metadata": {
        "trusted": true,
        "colab": {
          "base_uri": "https://localhost:8080/",
          "height": 354
        },
        "id": "Qs4u2Vt4RcA6",
        "outputId": "9b21dfb0-a832-4308-ceb9-864e8e66fab8"
      },
      "execution_count": 25,
      "outputs": [
        {
          "output_type": "stream",
          "name": "stderr",
          "text": [
            "/usr/local/lib/python3.8/dist-packages/seaborn/_decorators.py:36: FutureWarning: Pass the following variable as a keyword arg: x. From version 0.12, the only valid positional argument will be `data`, and passing other arguments without an explicit keyword will result in an error or misinterpretation.\n",
            "  warnings.warn(\n"
          ]
        },
        {
          "output_type": "execute_result",
          "data": {
            "text/plain": [
              "<matplotlib.axes._subplots.AxesSubplot at 0x7fa180262c70>"
            ]
          },
          "metadata": {},
          "execution_count": 25
        },
        {
          "output_type": "display_data",
          "data": {
            "text/plain": [
              "<Figure size 432x288 with 1 Axes>"
            ],
            "image/png": "[encoded data removed]"
          },
          "metadata": {}
        }
      ]
    },
    {
      "cell_type": "code",
      "source": [
        "df['n_pregnant'].value_counts()"
      ],
      "metadata": {
        "trusted": true,
        "colab": {
          "base_uri": "https://localhost:8080/"
        },
        "id": "ReNTB45JRcA6",
        "outputId": "9bb2f799-79cd-48ba-fb70-e15a12a86c39"
      },
      "execution_count": 26,
      "outputs": [
        {
          "output_type": "execute_result",
          "data": {
            "text/plain": [
              "1     135\n",
              "0     111\n",
              "2     103\n",
              "3      75\n",
              "4      68\n",
              "5      57\n",
              "6      50\n",
              "7      45\n",
              "8      38\n",
              "9      28\n",
              "10     24\n",
              "11     11\n",
              "13     10\n",
              "12      9\n",
              "14      2\n",
              "15      1\n",
              "17      1\n",
              "Name: n_pregnant, dtype: int64"
            ]
          },
          "metadata": {},
          "execution_count": 26
        }
      ]
    },
    {
      "cell_type": "code",
      "source": [
        "median_target('n_pregnant')"
      ],
      "metadata": {
        "trusted": true,
        "colab": {
          "base_uri": "https://localhost:8080/",
          "height": 112
        },
        "id": "MauQSZtARcA6",
        "outputId": "6695036c-d6b9-4004-a7ac-7e788d051af4"
      },
      "execution_count": 27,
      "outputs": [
        {
          "output_type": "execute_result",
          "data": {
            "text/plain": [
              "   Output  n_pregnant\n",
              "0       0         2.0\n",
              "1       1         4.0"
            ],
            "text/html": [
              "\n",
              "  <div id=\"df-68d9ac9d-59da-4943-8f26-33f0dd3e3e70\">\n",
              "    <div class=\"colab-df-container\">\n",
              "      <div>\n",
              "<style scoped>\n",
              "    .dataframe tbody tr th:only-of-type {\n",
              "        vertical-align: middle;\n",
              "    }\n",
              "\n",
              "    .dataframe tbody tr th {\n",
              "        vertical-align: top;\n",
              "    }\n",
              "\n",
              "    .dataframe thead th {\n",
              "        text-align: right;\n",
              "    }\n",
              "</style>\n",
              "<table border=\"1\" class=\"dataframe\">\n",
              "  <thead>\n",
              "    <tr style=\"text-align: right;\">\n",
              "      <th></th>\n",
              "      <th>Output</th>\n",
              "      <th>n_pregnant</th>\n",
              "    </tr>\n",
              "  </thead>\n",
              "  <tbody>\n",
              "    <tr>\n",
              "      <th>0</th>\n",
              "      <td>0</td>\n",
              "      <td>2.0</td>\n",
              "    </tr>\n",
              "    <tr>\n",
              "      <th>1</th>\n",
              "      <td>1</td>\n",
              "      <td>4.0</td>\n",
              "    </tr>\n",
              "  </tbody>\n",
              "</table>\n",
              "</div>\n",
              "      <button class=\"colab-df-convert\" onclick=\"convertToInteractive('df-68d9ac9d-59da-4943-8f26-33f0dd3e3e70')\"\n",
              "              title=\"Convert this dataframe to an interactive table.\"\n",
              "              style=\"display:none;\">\n",
              "        \n",
              "  <svg xmlns=\"http://www.w3.org/2000/svg\" height=\"24px\"viewBox=\"0 0 24 24\"\n",
              "       width=\"24px\">\n",
              "    <path d=\"M0 0h24v24H0V0z\" fill=\"none\"/>\n",
              "    <path d=\"M18.56 5.44l.94 2.06.94-2.06 2.06-.94-2.06-.94-.94-2.06-.94 2.06-2.06.94zm-11 1L8.5 8.5l.94-2.06 2.06-.94-2.06-.94L8.5 2.5l-.94 2.06-2.06.94zm10 10l.94 2.06.94-2.06 2.06-.94-2.06-.94-.94-2.06-.94 2.06-2.06.94z\"/><path d=\"M17.41 7.96l-1.37-1.37c-.4-.4-.92-.59-1.43-.59-.52 0-1.04.2-1.43.59L10.3 9.45l-7.72 7.72c-.78.78-.78 2.05 0 2.83L4 21.41c.39.39.9.59 1.41.59.51 0 1.02-.2 1.41-.59l7.78-7.78 2.81-2.81c.8-.78.8-2.07 0-2.86zM5.41 20L4 18.59l7.72-7.72 1.47 1.35L5.41 20z\"/>\n",
              "  </svg>\n",
              "      </button>\n",
              "      \n",
              "  <style>\n",
              "    .colab-df-container {\n",
              "      display:flex;\n",
              "      flex-wrap:wrap;\n",
              "      gap: 12px;\n",
              "    }\n",
              "\n",
              "    .colab-df-convert {\n",
              "      background-color: #E8F0FE;\n",
              "      border: none;\n",
              "      border-radius: 50%;\n",
              "      cursor: pointer;\n",
              "      display: none;\n",
              "      fill: #1967D2;\n",
              "      height: 32px;\n",
              "      padding: 0 0 0 0;\n",
              "      width: 32px;\n",
              "    }\n",
              "\n",
              "    .colab-df-convert:hover {\n",
              "      background-color: #E2EBFA;\n",
              "      box-shadow: 0px 1px 2px rgba(60, 64, 67, 0.3), 0px 1px 3px 1px rgba(60, 64, 67, 0.15);\n",
              "      fill: #174EA6;\n",
              "    }\n",
              "\n",
              "    [theme=dark] .colab-df-convert {\n",
              "      background-color: #3B4455;\n",
              "      fill: #D2E3FC;\n",
              "    }\n",
              "\n",
              "    [theme=dark] .colab-df-convert:hover {\n",
              "      background-color: #434B5C;\n",
              "      box-shadow: 0px 1px 3px 1px rgba(0, 0, 0, 0.15);\n",
              "      filter: drop-shadow(0px 1px 2px rgba(0, 0, 0, 0.3));\n",
              "      fill: #FFFFFF;\n",
              "    }\n",
              "  </style>\n",
              "\n",
              "      <script>\n",
              "        const buttonEl =\n",
              "          document.querySelector('#df-68d9ac9d-59da-4943-8f26-33f0dd3e3e70 button.colab-df-convert');\n",
              "        buttonEl.style.display =\n",
              "          google.colab.kernel.accessAllowed ? 'block' : 'none';\n",
              "\n",
              "        async function convertToInteractive(key) {\n",
              "          const element = document.querySelector('#df-68d9ac9d-59da-4943-8f26-33f0dd3e3e70');\n",
              "          const dataTable =\n",
              "            await google.colab.kernel.invokeFunction('convertToInteractive',\n",
              "                                                     [key], {});\n",
              "          if (!dataTable) return;\n",
              "\n",
              "          const docLinkHtml = 'Like what you see? Visit the ' +\n",
              "            '<a target=\"_blank\" href=https://colab.research.google.com/notebooks/data_table.ipynb>data table notebook</a>'\n",
              "            + ' to learn more about interactive tables.';\n",
              "          element.innerHTML = '';\n",
              "          dataTable['output_type'] = 'display_data';\n",
              "          await google.colab.output.renderOutput(dataTable, element);\n",
              "          const docLink = document.createElement('div');\n",
              "          docLink.innerHTML = docLinkHtml;\n",
              "          element.appendChild(docLink);\n",
              "        }\n",
              "      </script>\n",
              "    </div>\n",
              "  </div>\n",
              "  "
            ]
          },
          "metadata": {},
          "execution_count": 27
        }
      ]
    },
    {
      "cell_type": "code",
      "source": [
        "df.loc[(df['Output'] == 0 ) & (df['n_pregnant']>13), 'n_pregnant'] = 2\n",
        "df.loc[(df['Output'] == 1 ) & (df['n_pregnant']>13), 'n_pregnant'] = 4"
      ],
      "metadata": {
        "trusted": true,
        "id": "RrpkxnBJRcA6"
      },
      "execution_count": 28,
      "outputs": []
    },
    {
      "cell_type": "code",
      "source": [
        "df['n_pregnant'].value_counts()"
      ],
      "metadata": {
        "trusted": true,
        "colab": {
          "base_uri": "https://localhost:8080/"
        },
        "id": "RcyZWaOnRcA6",
        "outputId": "4f1041a4-ec8c-46f1-83a5-37be86fbd8e8"
      },
      "execution_count": 29,
      "outputs": [
        {
          "output_type": "execute_result",
          "data": {
            "text/plain": [
              "1     135\n",
              "0     111\n",
              "2     103\n",
              "3      75\n",
              "4      72\n",
              "5      57\n",
              "6      50\n",
              "7      45\n",
              "8      38\n",
              "9      28\n",
              "10     24\n",
              "11     11\n",
              "13     10\n",
              "12      9\n",
              "Name: n_pregnant, dtype: int64"
            ]
          },
          "metadata": {},
          "execution_count": 29
        }
      ]
    },
    {
      "cell_type": "code",
      "source": [
        "sns.boxplot(df.bp)"
      ],
      "metadata": {
        "trusted": true,
        "colab": {
          "base_uri": "https://localhost:8080/",
          "height": 354
        },
        "id": "LNuyJgNURcA6",
        "outputId": "51b3403d-6744-4241-bb94-15e763e41eff"
      },
      "execution_count": 30,
      "outputs": [
        {
          "output_type": "stream",
          "name": "stderr",
          "text": [
            "/usr/local/lib/python3.8/dist-packages/seaborn/_decorators.py:36: FutureWarning: Pass the following variable as a keyword arg: x. From version 0.12, the only valid positional argument will be `data`, and passing other arguments without an explicit keyword will result in an error or misinterpretation.\n",
            "  warnings.warn(\n"
          ]
        },
        {
          "output_type": "execute_result",
          "data": {
            "text/plain": [
              "<matplotlib.axes._subplots.AxesSubplot at 0x7fa1802ff5b0>"
            ]
          },
          "metadata": {},
          "execution_count": 30
        },
        {
          "output_type": "display_data",
          "data": {
            "text/plain": [
              "<Figure size 432x288 with 1 Axes>"
            ],
            "image/png": "[encoded data removed]"
          },
          "metadata": {}
        }
      ]
    },
    {
      "cell_type": "code",
      "source": [
        "median_target('bp')"
      ],
      "metadata": {
        "trusted": true,
        "colab": {
          "base_uri": "https://localhost:8080/",
          "height": 112
        },
        "id": "4-XGMehPRcA6",
        "outputId": "1a9ed8a8-e9c1-4e1c-a822-8c317323f41a"
      },
      "execution_count": 31,
      "outputs": [
        {
          "output_type": "execute_result",
          "data": {
            "text/plain": [
              "   Output    bp\n",
              "0       0  70.0\n",
              "1       1  74.5"
            ],
            "text/html": [
              "\n",
              "  <div id=\"df-903d8f7a-ad6b-4f78-97f0-991b08fd5494\">\n",
              "    <div class=\"colab-df-container\">\n",
              "      <div>\n",
              "<style scoped>\n",
              "    .dataframe tbody tr th:only-of-type {\n",
              "        vertical-align: middle;\n",
              "    }\n",
              "\n",
              "    .dataframe tbody tr th {\n",
              "        vertical-align: top;\n",
              "    }\n",
              "\n",
              "    .dataframe thead th {\n",
              "        text-align: right;\n",
              "    }\n",
              "</style>\n",
              "<table border=\"1\" class=\"dataframe\">\n",
              "  <thead>\n",
              "    <tr style=\"text-align: right;\">\n",
              "      <th></th>\n",
              "      <th>Output</th>\n",
              "      <th>bp</th>\n",
              "    </tr>\n",
              "  </thead>\n",
              "  <tbody>\n",
              "    <tr>\n",
              "      <th>0</th>\n",
              "      <td>0</td>\n",
              "      <td>70.0</td>\n",
              "    </tr>\n",
              "    <tr>\n",
              "      <th>1</th>\n",
              "      <td>1</td>\n",
              "      <td>74.5</td>\n",
              "    </tr>\n",
              "  </tbody>\n",
              "</table>\n",
              "</div>\n",
              "      <button class=\"colab-df-convert\" onclick=\"convertToInteractive('df-903d8f7a-ad6b-4f78-97f0-991b08fd5494')\"\n",
              "              title=\"Convert this dataframe to an interactive table.\"\n",
              "              style=\"display:none;\">\n",
              "        \n",
              "  <svg xmlns=\"http://www.w3.org/2000/svg\" height=\"24px\"viewBox=\"0 0 24 24\"\n",
              "       width=\"24px\">\n",
              "    <path d=\"M0 0h24v24H0V0z\" fill=\"none\"/>\n",
              "    <path d=\"M18.56 5.44l.94 2.06.94-2.06 2.06-.94-2.06-.94-.94-2.06-.94 2.06-2.06.94zm-11 1L8.5 8.5l.94-2.06 2.06-.94-2.06-.94L8.5 2.5l-.94 2.06-2.06.94zm10 10l.94 2.06.94-2.06 2.06-.94-2.06-.94-.94-2.06-.94 2.06-2.06.94z\"/><path d=\"M17.41 7.96l-1.37-1.37c-.4-.4-.92-.59-1.43-.59-.52 0-1.04.2-1.43.59L10.3 9.45l-7.72 7.72c-.78.78-.78 2.05 0 2.83L4 21.41c.39.39.9.59 1.41.59.51 0 1.02-.2 1.41-.59l7.78-7.78 2.81-2.81c.8-.78.8-2.07 0-2.86zM5.41 20L4 18.59l7.72-7.72 1.47 1.35L5.41 20z\"/>\n",
              "  </svg>\n",
              "      </button>\n",
              "      \n",
              "  <style>\n",
              "    .colab-df-container {\n",
              "      display:flex;\n",
              "      flex-wrap:wrap;\n",
              "      gap: 12px;\n",
              "    }\n",
              "\n",
              "    .colab-df-convert {\n",
              "      background-color: #E8F0FE;\n",
              "      border: none;\n",
              "      border-radius: 50%;\n",
              "      cursor: pointer;\n",
              "      display: none;\n",
              "      fill: #1967D2;\n",
              "      height: 32px;\n",
              "      padding: 0 0 0 0;\n",
              "      width: 32px;\n",
              "    }\n",
              "\n",
              "    .colab-df-convert:hover {\n",
              "      background-color: #E2EBFA;\n",
              "      box-shadow: 0px 1px 2px rgba(60, 64, 67, 0.3), 0px 1px 3px 1px rgba(60, 64, 67, 0.15);\n",
              "      fill: #174EA6;\n",
              "    }\n",
              "\n",
              "    [theme=dark] .colab-df-convert {\n",
              "      background-color: #3B4455;\n",
              "      fill: #D2E3FC;\n",
              "    }\n",
              "\n",
              "    [theme=dark] .colab-df-convert:hover {\n",
              "      background-color: #434B5C;\n",
              "      box-shadow: 0px 1px 3px 1px rgba(0, 0, 0, 0.15);\n",
              "      filter: drop-shadow(0px 1px 2px rgba(0, 0, 0, 0.3));\n",
              "      fill: #FFFFFF;\n",
              "    }\n",
              "  </style>\n",
              "\n",
              "      <script>\n",
              "        const buttonEl =\n",
              "          document.querySelector('#df-903d8f7a-ad6b-4f78-97f0-991b08fd5494 button.colab-df-convert');\n",
              "        buttonEl.style.display =\n",
              "          google.colab.kernel.accessAllowed ? 'block' : 'none';\n",
              "\n",
              "        async function convertToInteractive(key) {\n",
              "          const element = document.querySelector('#df-903d8f7a-ad6b-4f78-97f0-991b08fd5494');\n",
              "          const dataTable =\n",
              "            await google.colab.kernel.invokeFunction('convertToInteractive',\n",
              "                                                     [key], {});\n",
              "          if (!dataTable) return;\n",
              "\n",
              "          const docLinkHtml = 'Like what you see? Visit the ' +\n",
              "            '<a target=\"_blank\" href=https://colab.research.google.com/notebooks/data_table.ipynb>data table notebook</a>'\n",
              "            + ' to learn more about interactive tables.';\n",
              "          element.innerHTML = '';\n",
              "          dataTable['output_type'] = 'display_data';\n",
              "          await google.colab.output.renderOutput(dataTable, element);\n",
              "          const docLink = document.createElement('div');\n",
              "          docLink.innerHTML = docLinkHtml;\n",
              "          element.appendChild(docLink);\n",
              "        }\n",
              "      </script>\n",
              "    </div>\n",
              "  </div>\n",
              "  "
            ]
          },
          "metadata": {},
          "execution_count": 31
        }
      ]
    },
    {
      "cell_type": "code",
      "source": [
        "df.loc[(df['Output'] == 0 ) & (df['bp']<40), 'bp'] = 70\n",
        "df.loc[(df['Output'] == 1 ) & (df['bp']<40), 'bp'] = 74.5"
      ],
      "metadata": {
        "trusted": true,
        "id": "yKldp5gERcA6"
      },
      "execution_count": 32,
      "outputs": []
    },
    {
      "cell_type": "code",
      "source": [
        "df.loc[(df['Output'] == 0 ) & (df['bp']>103), 'bp'] = 70\n",
        "df.loc[(df['Output'] == 1 ) & (df['bp']>103), 'bp'] = 74.5"
      ],
      "metadata": {
        "trusted": true,
        "id": "zPeRD_0cRcA7"
      },
      "execution_count": 33,
      "outputs": []
    },
    {
      "cell_type": "code",
      "source": [
        "sns.boxplot(df.bp)"
      ],
      "metadata": {
        "trusted": true,
        "colab": {
          "base_uri": "https://localhost:8080/",
          "height": 354
        },
        "id": "9hFNcyjVRcA7",
        "outputId": "27e0f72e-08c5-400f-ab5d-c53101981fa6"
      },
      "execution_count": 34,
      "outputs": [
        {
          "output_type": "stream",
          "name": "stderr",
          "text": [
            "/usr/local/lib/python3.8/dist-packages/seaborn/_decorators.py:36: FutureWarning: Pass the following variable as a keyword arg: x. From version 0.12, the only valid positional argument will be `data`, and passing other arguments without an explicit keyword will result in an error or misinterpretation.\n",
            "  warnings.warn(\n"
          ]
        },
        {
          "output_type": "execute_result",
          "data": {
            "text/plain": [
              "<matplotlib.axes._subplots.AxesSubplot at 0x7fa1801bbaf0>"
            ]
          },
          "metadata": {},
          "execution_count": 34
        },
        {
          "output_type": "display_data",
          "data": {
            "text/plain": [
              "<Figure size 432x288 with 1 Axes>"
            ],
            "image/png": "[encoded data removed]"
          },
          "metadata": {}
        }
      ]
    },
    {
      "cell_type": "code",
      "source": [
        "sns.boxplot(df.skin_len)"
      ],
      "metadata": {
        "trusted": true,
        "colab": {
          "base_uri": "https://localhost:8080/",
          "height": 354
        },
        "id": "_iK-TEHERcA7",
        "outputId": "85f5a05f-8f4c-48d4-fd68-180d6f0b6048"
      },
      "execution_count": 35,
      "outputs": [
        {
          "output_type": "stream",
          "name": "stderr",
          "text": [
            "/usr/local/lib/python3.8/dist-packages/seaborn/_decorators.py:36: FutureWarning: Pass the following variable as a keyword arg: x. From version 0.12, the only valid positional argument will be `data`, and passing other arguments without an explicit keyword will result in an error or misinterpretation.\n",
            "  warnings.warn(\n"
          ]
        },
        {
          "output_type": "execute_result",
          "data": {
            "text/plain": [
              "<matplotlib.axes._subplots.AxesSubplot at 0x7fa18011ae50>"
            ]
          },
          "metadata": {},
          "execution_count": 35
        },
        {
          "output_type": "display_data",
          "data": {
            "text/plain": [
              "<Figure size 432x288 with 1 Axes>"
            ],
            "image/png": "[encoded data removed]"
          },
          "metadata": {}
        }
      ]
    },
    {
      "cell_type": "code",
      "source": [
        "median_target('skin_len')"
      ],
      "metadata": {
        "trusted": true,
        "colab": {
          "base_uri": "https://localhost:8080/",
          "height": 112
        },
        "id": "-zgMGaW-RcA7",
        "outputId": "6f1161de-19b3-44c3-fbbc-3281f8846845"
      },
      "execution_count": 41,
      "outputs": [
        {
          "output_type": "execute_result",
          "data": {
            "text/plain": [
              "   Output  skin_len\n",
              "0       0      27.0\n",
              "1       1      32.0"
            ],
            "text/html": [
              "\n",
              "  <div id=\"df-4972c0f4-1aed-49fa-824f-73b14cb5940e\">\n",
              "    <div class=\"colab-df-container\">\n",
              "      <div>\n",
              "<style scoped>\n",
              "    .dataframe tbody tr th:only-of-type {\n",
              "        vertical-align: middle;\n",
              "    }\n",
              "\n",
              "    .dataframe tbody tr th {\n",
              "        vertical-align: top;\n",
              "    }\n",
              "\n",
              "    .dataframe thead th {\n",
              "        text-align: right;\n",
              "    }\n",
              "</style>\n",
              "<table border=\"1\" class=\"dataframe\">\n",
              "  <thead>\n",
              "    <tr style=\"text-align: right;\">\n",
              "      <th></th>\n",
              "      <th>Output</th>\n",
              "      <th>skin_len</th>\n",
              "    </tr>\n",
              "  </thead>\n",
              "  <tbody>\n",
              "    <tr>\n",
              "      <th>0</th>\n",
              "      <td>0</td>\n",
              "      <td>27.0</td>\n",
              "    </tr>\n",
              "    <tr>\n",
              "      <th>1</th>\n",
              "      <td>1</td>\n",
              "      <td>32.0</td>\n",
              "    </tr>\n",
              "  </tbody>\n",
              "</table>\n",
              "</div>\n",
              "      <button class=\"colab-df-convert\" onclick=\"convertToInteractive('df-4972c0f4-1aed-49fa-824f-73b14cb5940e')\"\n",
              "              title=\"Convert this dataframe to an interactive table.\"\n",
              "              style=\"display:none;\">\n",
              "        \n",
              "  <svg xmlns=\"http://www.w3.org/2000/svg\" height=\"24px\"viewBox=\"0 0 24 24\"\n",
              "       width=\"24px\">\n",
              "    <path d=\"M0 0h24v24H0V0z\" fill=\"none\"/>\n",
              "    <path d=\"M18.56 5.44l.94 2.06.94-2.06 2.06-.94-2.06-.94-.94-2.06-.94 2.06-2.06.94zm-11 1L8.5 8.5l.94-2.06 2.06-.94-2.06-.94L8.5 2.5l-.94 2.06-2.06.94zm10 10l.94 2.06.94-2.06 2.06-.94-2.06-.94-.94-2.06-.94 2.06-2.06.94z\"/><path d=\"M17.41 7.96l-1.37-1.37c-.4-.4-.92-.59-1.43-.59-.52 0-1.04.2-1.43.59L10.3 9.45l-7.72 7.72c-.78.78-.78 2.05 0 2.83L4 21.41c.39.39.9.59 1.41.59.51 0 1.02-.2 1.41-.59l7.78-7.78 2.81-2.81c.8-.78.8-2.07 0-2.86zM5.41 20L4 18.59l7.72-7.72 1.47 1.35L5.41 20z\"/>\n",
              "  </svg>\n",
              "      </button>\n",
              "      \n",
              "  <style>\n",
              "    .colab-df-container {\n",
              "      display:flex;\n",
              "      flex-wrap:wrap;\n",
              "      gap: 12px;\n",
              "    }\n",
              "\n",
              "    .colab-df-convert {\n",
              "      background-color: #E8F0FE;\n",
              "      border: none;\n",
              "      border-radius: 50%;\n",
              "      cursor: pointer;\n",
              "      display: none;\n",
              "      fill: #1967D2;\n",
              "      height: 32px;\n",
              "      padding: 0 0 0 0;\n",
              "      width: 32px;\n",
              "    }\n",
              "\n",
              "    .colab-df-convert:hover {\n",
              "      background-color: #E2EBFA;\n",
              "      box-shadow: 0px 1px 2px rgba(60, 64, 67, 0.3), 0px 1px 3px 1px rgba(60, 64, 67, 0.15);\n",
              "      fill: #174EA6;\n",
              "    }\n",
              "\n",
              "    [theme=dark] .colab-df-convert {\n",
              "      background-color: #3B4455;\n",
              "      fill: #D2E3FC;\n",
              "    }\n",
              "\n",
              "    [theme=dark] .colab-df-convert:hover {\n",
              "      background-color: #434B5C;\n",
              "      box-shadow: 0px 1px 3px 1px rgba(0, 0, 0, 0.15);\n",
              "      filter: drop-shadow(0px 1px 2px rgba(0, 0, 0, 0.3));\n",
              "      fill: #FFFFFF;\n",
              "    }\n",
              "  </style>\n",
              "\n",
              "      <script>\n",
              "        const buttonEl =\n",
              "          document.querySelector('#df-4972c0f4-1aed-49fa-824f-73b14cb5940e button.colab-df-convert');\n",
              "        buttonEl.style.display =\n",
              "          google.colab.kernel.accessAllowed ? 'block' : 'none';\n",
              "\n",
              "        async function convertToInteractive(key) {\n",
              "          const element = document.querySelector('#df-4972c0f4-1aed-49fa-824f-73b14cb5940e');\n",
              "          const dataTable =\n",
              "            await google.colab.kernel.invokeFunction('convertToInteractive',\n",
              "                                                     [key], {});\n",
              "          if (!dataTable) return;\n",
              "\n",
              "          const docLinkHtml = 'Like what you see? Visit the ' +\n",
              "            '<a target=\"_blank\" href=https://colab.research.google.com/notebooks/data_table.ipynb>data table notebook</a>'\n",
              "            + ' to learn more about interactive tables.';\n",
              "          element.innerHTML = '';\n",
              "          dataTable['output_type'] = 'display_data';\n",
              "          await google.colab.output.renderOutput(dataTable, element);\n",
              "          const docLink = document.createElement('div');\n",
              "          docLink.innerHTML = docLinkHtml;\n",
              "          element.appendChild(docLink);\n",
              "        }\n",
              "      </script>\n",
              "    </div>\n",
              "  </div>\n",
              "  "
            ]
          },
          "metadata": {},
          "execution_count": 41
        }
      ]
    },
    {
      "cell_type": "code",
      "source": [
        "df.loc[(df['Output'] == 0 ) & (df['skin_len']>38), 'skin_len'] = 27\n",
        "df.loc[(df['Output'] == 1 ) & (df['skin_len']>38), 'skin_len'] = 32"
      ],
      "metadata": {
        "trusted": true,
        "id": "qg8lNH-ORcA7"
      },
      "execution_count": 42,
      "outputs": []
    },
    {
      "cell_type": "code",
      "source": [
        "df.loc[(df['Output'] == 0 ) & (df['skin_len']<20), 'skin_len'] = 27\n",
        "df.loc[(df['Output'] == 1 ) & (df['skin_len']<20), 'skin_len'] = 32"
      ],
      "metadata": {
        "trusted": true,
        "id": "f2gwJ9aiRcA7"
      },
      "execution_count": 43,
      "outputs": []
    },
    {
      "cell_type": "code",
      "source": [
        "sns.boxplot(df.bmi)"
      ],
      "metadata": {
        "trusted": true,
        "colab": {
          "base_uri": "https://localhost:8080/",
          "height": 354
        },
        "id": "qapvpnzyRcA8",
        "outputId": "d46fb43c-634a-4f0f-caaf-29f00efd1c05"
      },
      "execution_count": 44,
      "outputs": [
        {
          "output_type": "stream",
          "name": "stderr",
          "text": [
            "/usr/local/lib/python3.8/dist-packages/seaborn/_decorators.py:36: FutureWarning: Pass the following variable as a keyword arg: x. From version 0.12, the only valid positional argument will be `data`, and passing other arguments without an explicit keyword will result in an error or misinterpretation.\n",
            "  warnings.warn(\n"
          ]
        },
        {
          "output_type": "execute_result",
          "data": {
            "text/plain": [
              "<matplotlib.axes._subplots.AxesSubplot at 0x7fa18004a6d0>"
            ]
          },
          "metadata": {},
          "execution_count": 44
        },
        {
          "output_type": "display_data",
          "data": {
            "text/plain": [
              "<Figure size 432x288 with 1 Axes>"
            ],
            "image/png": "[encoded data removed]"
          },
          "metadata": {}
        }
      ]
    },
    {
      "cell_type": "code",
      "source": [
        "median_target('bmi')"
      ],
      "metadata": {
        "trusted": true,
        "colab": {
          "base_uri": "https://localhost:8080/",
          "height": 112
        },
        "id": "ZN-cn7pVRcA8",
        "outputId": "1e98e416-1f78-4450-a262-05d9401cd137"
      },
      "execution_count": 45,
      "outputs": [
        {
          "output_type": "execute_result",
          "data": {
            "text/plain": [
              "   Output   bmi\n",
              "0       0  30.1\n",
              "1       1  34.3"
            ],
            "text/html": [
              "\n",
              "  <div id=\"df-f17ddd68-66f2-4eca-b5c6-5dd706355ec9\">\n",
              "    <div class=\"colab-df-container\">\n",
              "      <div>\n",
              "<style scoped>\n",
              "    .dataframe tbody tr th:only-of-type {\n",
              "        vertical-align: middle;\n",
              "    }\n",
              "\n",
              "    .dataframe tbody tr th {\n",
              "        vertical-align: top;\n",
              "    }\n",
              "\n",
              "    .dataframe thead th {\n",
              "        text-align: right;\n",
              "    }\n",
              "</style>\n",
              "<table border=\"1\" class=\"dataframe\">\n",
              "  <thead>\n",
              "    <tr style=\"text-align: right;\">\n",
              "      <th></th>\n",
              "      <th>Output</th>\n",
              "      <th>bmi</th>\n",
              "    </tr>\n",
              "  </thead>\n",
              "  <tbody>\n",
              "    <tr>\n",
              "      <th>0</th>\n",
              "      <td>0</td>\n",
              "      <td>30.1</td>\n",
              "    </tr>\n",
              "    <tr>\n",
              "      <th>1</th>\n",
              "      <td>1</td>\n",
              "      <td>34.3</td>\n",
              "    </tr>\n",
              "  </tbody>\n",
              "</table>\n",
              "</div>\n",
              "      <button class=\"colab-df-convert\" onclick=\"convertToInteractive('df-f17ddd68-66f2-4eca-b5c6-5dd706355ec9')\"\n",
              "              title=\"Convert this dataframe to an interactive table.\"\n",
              "              style=\"display:none;\">\n",
              "        \n",
              "  <svg xmlns=\"http://www.w3.org/2000/svg\" height=\"24px\"viewBox=\"0 0 24 24\"\n",
              "       width=\"24px\">\n",
              "    <path d=\"M0 0h24v24H0V0z\" fill=\"none\"/>\n",
              "    <path d=\"M18.56 5.44l.94 2.06.94-2.06 2.06-.94-2.06-.94-.94-2.06-.94 2.06-2.06.94zm-11 1L8.5 8.5l.94-2.06 2.06-.94-2.06-.94L8.5 2.5l-.94 2.06-2.06.94zm10 10l.94 2.06.94-2.06 2.06-.94-2.06-.94-.94-2.06-.94 2.06-2.06.94z\"/><path d=\"M17.41 7.96l-1.37-1.37c-.4-.4-.92-.59-1.43-.59-.52 0-1.04.2-1.43.59L10.3 9.45l-7.72 7.72c-.78.78-.78 2.05 0 2.83L4 21.41c.39.39.9.59 1.41.59.51 0 1.02-.2 1.41-.59l7.78-7.78 2.81-2.81c.8-.78.8-2.07 0-2.86zM5.41 20L4 18.59l7.72-7.72 1.47 1.35L5.41 20z\"/>\n",
              "  </svg>\n",
              "      </button>\n",
              "      \n",
              "  <style>\n",
              "    .colab-df-container {\n",
              "      display:flex;\n",
              "      flex-wrap:wrap;\n",
              "      gap: 12px;\n",
              "    }\n",
              "\n",
              "    .colab-df-convert {\n",
              "      background-color: #E8F0FE;\n",
              "      border: none;\n",
              "      border-radius: 50%;\n",
              "      cursor: pointer;\n",
              "      display: none;\n",
              "      fill: #1967D2;\n",
              "      height: 32px;\n",
              "      padding: 0 0 0 0;\n",
              "      width: 32px;\n",
              "    }\n",
              "\n",
              "    .colab-df-convert:hover {\n",
              "      background-color: #E2EBFA;\n",
              "      box-shadow: 0px 1px 2px rgba(60, 64, 67, 0.3), 0px 1px 3px 1px rgba(60, 64, 67, 0.15);\n",
              "      fill: #174EA6;\n",
              "    }\n",
              "\n",
              "    [theme=dark] .colab-df-convert {\n",
              "      background-color: #3B4455;\n",
              "      fill: #D2E3FC;\n",
              "    }\n",
              "\n",
              "    [theme=dark] .colab-df-convert:hover {\n",
              "      background-color: #434B5C;\n",
              "      box-shadow: 0px 1px 3px 1px rgba(0, 0, 0, 0.15);\n",
              "      filter: drop-shadow(0px 1px 2px rgba(0, 0, 0, 0.3));\n",
              "      fill: #FFFFFF;\n",
              "    }\n",
              "  </style>\n",
              "\n",
              "      <script>\n",
              "        const buttonEl =\n",
              "          document.querySelector('#df-f17ddd68-66f2-4eca-b5c6-5dd706355ec9 button.colab-df-convert');\n",
              "        buttonEl.style.display =\n",
              "          google.colab.kernel.accessAllowed ? 'block' : 'none';\n",
              "\n",
              "        async function convertToInteractive(key) {\n",
              "          const element = document.querySelector('#df-f17ddd68-66f2-4eca-b5c6-5dd706355ec9');\n",
              "          const dataTable =\n",
              "            await google.colab.kernel.invokeFunction('convertToInteractive',\n",
              "                                                     [key], {});\n",
              "          if (!dataTable) return;\n",
              "\n",
              "          const docLinkHtml = 'Like what you see? Visit the ' +\n",
              "            '<a target=\"_blank\" href=https://colab.research.google.com/notebooks/data_table.ipynb>data table notebook</a>'\n",
              "            + ' to learn more about interactive tables.';\n",
              "          element.innerHTML = '';\n",
              "          dataTable['output_type'] = 'display_data';\n",
              "          await google.colab.output.renderOutput(dataTable, element);\n",
              "          const docLink = document.createElement('div');\n",
              "          docLink.innerHTML = docLinkHtml;\n",
              "          element.appendChild(docLink);\n",
              "        }\n",
              "      </script>\n",
              "    </div>\n",
              "  </div>\n",
              "  "
            ]
          },
          "metadata": {},
          "execution_count": 45
        }
      ]
    },
    {
      "cell_type": "code",
      "source": [
        "df.loc[(df['Output'] == 0 ) & (df['bmi']>48), 'bmi'] = 30.1\n",
        "df.loc[(df['Output'] == 1 ) & (df['bmi']>48), 'bmi'] = 34.3"
      ],
      "metadata": {
        "trusted": true,
        "id": "B0Zn8DHyRcA8"
      },
      "execution_count": 46,
      "outputs": []
    },
    {
      "cell_type": "code",
      "source": [
        "sns.boxplot(df.pedigree_fun)"
      ],
      "metadata": {
        "trusted": true,
        "colab": {
          "base_uri": "https://localhost:8080/",
          "height": 354
        },
        "id": "4NBnAL7LRcA8",
        "outputId": "5fb695b6-cf3e-4e5d-b480-ebf9e9b902d9"
      },
      "execution_count": 47,
      "outputs": [
        {
          "output_type": "stream",
          "name": "stderr",
          "text": [
            "/usr/local/lib/python3.8/dist-packages/seaborn/_decorators.py:36: FutureWarning: Pass the following variable as a keyword arg: x. From version 0.12, the only valid positional argument will be `data`, and passing other arguments without an explicit keyword will result in an error or misinterpretation.\n",
            "  warnings.warn(\n"
          ]
        },
        {
          "output_type": "execute_result",
          "data": {
            "text/plain": [
              "<matplotlib.axes._subplots.AxesSubplot at 0x7fa18004bee0>"
            ]
          },
          "metadata": {},
          "execution_count": 47
        },
        {
          "output_type": "display_data",
          "data": {
            "text/plain": [
              "<Figure size 432x288 with 1 Axes>"
            ],
            "image/png": "[encoded data removed]"
          },
          "metadata": {}
        }
      ]
    },
    {
      "cell_type": "code",
      "source": [
        "median_target('pedigree_fun')"
      ],
      "metadata": {
        "trusted": true,
        "colab": {
          "base_uri": "https://localhost:8080/",
          "height": 112
        },
        "id": "sMuPK_mkRcA8",
        "outputId": "837a53cd-2bf0-4edf-f4e0-532589019b93"
      },
      "execution_count": 48,
      "outputs": [
        {
          "output_type": "execute_result",
          "data": {
            "text/plain": [
              "   Output  pedigree_fun\n",
              "0       0         0.336\n",
              "1       1         0.449"
            ],
            "text/html": [
              "\n",
              "  <div id=\"df-aa974689-5342-4bbc-be12-668cf8db9418\">\n",
              "    <div class=\"colab-df-container\">\n",
              "      <div>\n",
              "<style scoped>\n",
              "    .dataframe tbody tr th:only-of-type {\n",
              "        vertical-align: middle;\n",
              "    }\n",
              "\n",
              "    .dataframe tbody tr th {\n",
              "        vertical-align: top;\n",
              "    }\n",
              "\n",
              "    .dataframe thead th {\n",
              "        text-align: right;\n",
              "    }\n",
              "</style>\n",
              "<table border=\"1\" class=\"dataframe\">\n",
              "  <thead>\n",
              "    <tr style=\"text-align: right;\">\n",
              "      <th></th>\n",
              "      <th>Output</th>\n",
              "      <th>pedigree_fun</th>\n",
              "    </tr>\n",
              "  </thead>\n",
              "  <tbody>\n",
              "    <tr>\n",
              "      <th>0</th>\n",
              "      <td>0</td>\n",
              "      <td>0.336</td>\n",
              "    </tr>\n",
              "    <tr>\n",
              "      <th>1</th>\n",
              "      <td>1</td>\n",
              "      <td>0.449</td>\n",
              "    </tr>\n",
              "  </tbody>\n",
              "</table>\n",
              "</div>\n",
              "      <button class=\"colab-df-convert\" onclick=\"convertToInteractive('df-aa974689-5342-4bbc-be12-668cf8db9418')\"\n",
              "              title=\"Convert this dataframe to an interactive table.\"\n",
              "              style=\"display:none;\">\n",
              "        \n",
              "  <svg xmlns=\"http://www.w3.org/2000/svg\" height=\"24px\"viewBox=\"0 0 24 24\"\n",
              "       width=\"24px\">\n",
              "    <path d=\"M0 0h24v24H0V0z\" fill=\"none\"/>\n",
              "    <path d=\"M18.56 5.44l.94 2.06.94-2.06 2.06-.94-2.06-.94-.94-2.06-.94 2.06-2.06.94zm-11 1L8.5 8.5l.94-2.06 2.06-.94-2.06-.94L8.5 2.5l-.94 2.06-2.06.94zm10 10l.94 2.06.94-2.06 2.06-.94-2.06-.94-.94-2.06-.94 2.06-2.06.94z\"/><path d=\"M17.41 7.96l-1.37-1.37c-.4-.4-.92-.59-1.43-.59-.52 0-1.04.2-1.43.59L10.3 9.45l-7.72 7.72c-.78.78-.78 2.05 0 2.83L4 21.41c.39.39.9.59 1.41.59.51 0 1.02-.2 1.41-.59l7.78-7.78 2.81-2.81c.8-.78.8-2.07 0-2.86zM5.41 20L4 18.59l7.72-7.72 1.47 1.35L5.41 20z\"/>\n",
              "  </svg>\n",
              "      </button>\n",
              "      \n",
              "  <style>\n",
              "    .colab-df-container {\n",
              "      display:flex;\n",
              "      flex-wrap:wrap;\n",
              "      gap: 12px;\n",
              "    }\n",
              "\n",
              "    .colab-df-convert {\n",
              "      background-color: #E8F0FE;\n",
              "      border: none;\n",
              "      border-radius: 50%;\n",
              "      cursor: pointer;\n",
              "      display: none;\n",
              "      fill: #1967D2;\n",
              "      height: 32px;\n",
              "      padding: 0 0 0 0;\n",
              "      width: 32px;\n",
              "    }\n",
              "\n",
              "    .colab-df-convert:hover {\n",
              "      background-color: #E2EBFA;\n",
              "      box-shadow: 0px 1px 2px rgba(60, 64, 67, 0.3), 0px 1px 3px 1px rgba(60, 64, 67, 0.15);\n",
              "      fill: #174EA6;\n",
              "    }\n",
              "\n",
              "    [theme=dark] .colab-df-convert {\n",
              "      background-color: #3B4455;\n",
              "      fill: #D2E3FC;\n",
              "    }\n",
              "\n",
              "    [theme=dark] .colab-df-convert:hover {\n",
              "      background-color: #434B5C;\n",
              "      box-shadow: 0px 1px 3px 1px rgba(0, 0, 0, 0.15);\n",
              "      filter: drop-shadow(0px 1px 2px rgba(0, 0, 0, 0.3));\n",
              "      fill: #FFFFFF;\n",
              "    }\n",
              "  </style>\n",
              "\n",
              "      <script>\n",
              "        const buttonEl =\n",
              "          document.querySelector('#df-aa974689-5342-4bbc-be12-668cf8db9418 button.colab-df-convert');\n",
              "        buttonEl.style.display =\n",
              "          google.colab.kernel.accessAllowed ? 'block' : 'none';\n",
              "\n",
              "        async function convertToInteractive(key) {\n",
              "          const element = document.querySelector('#df-aa974689-5342-4bbc-be12-668cf8db9418');\n",
              "          const dataTable =\n",
              "            await google.colab.kernel.invokeFunction('convertToInteractive',\n",
              "                                                     [key], {});\n",
              "          if (!dataTable) return;\n",
              "\n",
              "          const docLinkHtml = 'Like what you see? Visit the ' +\n",
              "            '<a target=\"_blank\" href=https://colab.research.google.com/notebooks/data_table.ipynb>data table notebook</a>'\n",
              "            + ' to learn more about interactive tables.';\n",
              "          element.innerHTML = '';\n",
              "          dataTable['output_type'] = 'display_data';\n",
              "          await google.colab.output.renderOutput(dataTable, element);\n",
              "          const docLink = document.createElement('div');\n",
              "          docLink.innerHTML = docLinkHtml;\n",
              "          element.appendChild(docLink);\n",
              "        }\n",
              "      </script>\n",
              "    </div>\n",
              "  </div>\n",
              "  "
            ]
          },
          "metadata": {},
          "execution_count": 48
        }
      ]
    },
    {
      "cell_type": "code",
      "source": [
        "df.loc[(df['Output'] == 0 ) & (df['pedigree_fun']>1), 'pedigree_fun'] = 0.336\n",
        "df.loc[(df['Output'] == 1 ) & (df['pedigree_fun']>1), 'pedigree_fun'] = 0.449"
      ],
      "metadata": {
        "trusted": true,
        "id": "BrjOlutFRcA8"
      },
      "execution_count": 49,
      "outputs": []
    },
    {
      "cell_type": "code",
      "source": [
        "sns.boxplot(df.age)"
      ],
      "metadata": {
        "trusted": true,
        "colab": {
          "base_uri": "https://localhost:8080/",
          "height": 354
        },
        "id": "MPyzNRmfRcA8",
        "outputId": "b356e2dd-2244-48e6-de23-66c5ca723c35"
      },
      "execution_count": 50,
      "outputs": [
        {
          "output_type": "stream",
          "name": "stderr",
          "text": [
            "/usr/local/lib/python3.8/dist-packages/seaborn/_decorators.py:36: FutureWarning: Pass the following variable as a keyword arg: x. From version 0.12, the only valid positional argument will be `data`, and passing other arguments without an explicit keyword will result in an error or misinterpretation.\n",
            "  warnings.warn(\n"
          ]
        },
        {
          "output_type": "execute_result",
          "data": {
            "text/plain": [
              "<matplotlib.axes._subplots.AxesSubplot at 0x7fa17ff86a60>"
            ]
          },
          "metadata": {},
          "execution_count": 50
        },
        {
          "output_type": "display_data",
          "data": {
            "text/plain": [
              "<Figure size 432x288 with 1 Axes>"
            ],
            "image/png": "[encoded data removed]"
          },
          "metadata": {}
        }
      ]
    },
    {
      "cell_type": "code",
      "source": [
        "median_target('age')"
      ],
      "metadata": {
        "trusted": true,
        "colab": {
          "base_uri": "https://localhost:8080/",
          "height": 112
        },
        "id": "SRBX74J1RcA8",
        "outputId": "5bf09e80-28f2-47c3-a151-bc5ff485f7e5"
      },
      "execution_count": 51,
      "outputs": [
        {
          "output_type": "execute_result",
          "data": {
            "text/plain": [
              "   Output   age\n",
              "0       0  27.0\n",
              "1       1  36.0"
            ],
            "text/html": [
              "\n",
              "  <div id=\"df-92a8b25d-c5e3-4492-806e-208f9d94d102\">\n",
              "    <div class=\"colab-df-container\">\n",
              "      <div>\n",
              "<style scoped>\n",
              "    .dataframe tbody tr th:only-of-type {\n",
              "        vertical-align: middle;\n",
              "    }\n",
              "\n",
              "    .dataframe tbody tr th {\n",
              "        vertical-align: top;\n",
              "    }\n",
              "\n",
              "    .dataframe thead th {\n",
              "        text-align: right;\n",
              "    }\n",
              "</style>\n",
              "<table border=\"1\" class=\"dataframe\">\n",
              "  <thead>\n",
              "    <tr style=\"text-align: right;\">\n",
              "      <th></th>\n",
              "      <th>Output</th>\n",
              "      <th>age</th>\n",
              "    </tr>\n",
              "  </thead>\n",
              "  <tbody>\n",
              "    <tr>\n",
              "      <th>0</th>\n",
              "      <td>0</td>\n",
              "      <td>27.0</td>\n",
              "    </tr>\n",
              "    <tr>\n",
              "      <th>1</th>\n",
              "      <td>1</td>\n",
              "      <td>36.0</td>\n",
              "    </tr>\n",
              "  </tbody>\n",
              "</table>\n",
              "</div>\n",
              "      <button class=\"colab-df-convert\" onclick=\"convertToInteractive('df-92a8b25d-c5e3-4492-806e-208f9d94d102')\"\n",
              "              title=\"Convert this dataframe to an interactive table.\"\n",
              "              style=\"display:none;\">\n",
              "        \n",
              "  <svg xmlns=\"http://www.w3.org/2000/svg\" height=\"24px\"viewBox=\"0 0 24 24\"\n",
              "       width=\"24px\">\n",
              "    <path d=\"M0 0h24v24H0V0z\" fill=\"none\"/>\n",
              "    <path d=\"M18.56 5.44l.94 2.06.94-2.06 2.06-.94-2.06-.94-.94-2.06-.94 2.06-2.06.94zm-11 1L8.5 8.5l.94-2.06 2.06-.94-2.06-.94L8.5 2.5l-.94 2.06-2.06.94zm10 10l.94 2.06.94-2.06 2.06-.94-2.06-.94-.94-2.06-.94 2.06-2.06.94z\"/><path d=\"M17.41 7.96l-1.37-1.37c-.4-.4-.92-.59-1.43-.59-.52 0-1.04.2-1.43.59L10.3 9.45l-7.72 7.72c-.78.78-.78 2.05 0 2.83L4 21.41c.39.39.9.59 1.41.59.51 0 1.02-.2 1.41-.59l7.78-7.78 2.81-2.81c.8-.78.8-2.07 0-2.86zM5.41 20L4 18.59l7.72-7.72 1.47 1.35L5.41 20z\"/>\n",
              "  </svg>\n",
              "      </button>\n",
              "      \n",
              "  <style>\n",
              "    .colab-df-container {\n",
              "      display:flex;\n",
              "      flex-wrap:wrap;\n",
              "      gap: 12px;\n",
              "    }\n",
              "\n",
              "    .colab-df-convert {\n",
              "      background-color: #E8F0FE;\n",
              "      border: none;\n",
              "      border-radius: 50%;\n",
              "      cursor: pointer;\n",
              "      display: none;\n",
              "      fill: #1967D2;\n",
              "      height: 32px;\n",
              "      padding: 0 0 0 0;\n",
              "      width: 32px;\n",
              "    }\n",
              "\n",
              "    .colab-df-convert:hover {\n",
              "      background-color: #E2EBFA;\n",
              "      box-shadow: 0px 1px 2px rgba(60, 64, 67, 0.3), 0px 1px 3px 1px rgba(60, 64, 67, 0.15);\n",
              "      fill: #174EA6;\n",
              "    }\n",
              "\n",
              "    [theme=dark] .colab-df-convert {\n",
              "      background-color: #3B4455;\n",
              "      fill: #D2E3FC;\n",
              "    }\n",
              "\n",
              "    [theme=dark] .colab-df-convert:hover {\n",
              "      background-color: #434B5C;\n",
              "      box-shadow: 0px 1px 3px 1px rgba(0, 0, 0, 0.15);\n",
              "      filter: drop-shadow(0px 1px 2px rgba(0, 0, 0, 0.3));\n",
              "      fill: #FFFFFF;\n",
              "    }\n",
              "  </style>\n",
              "\n",
              "      <script>\n",
              "        const buttonEl =\n",
              "          document.querySelector('#df-92a8b25d-c5e3-4492-806e-208f9d94d102 button.colab-df-convert');\n",
              "        buttonEl.style.display =\n",
              "          google.colab.kernel.accessAllowed ? 'block' : 'none';\n",
              "\n",
              "        async function convertToInteractive(key) {\n",
              "          const element = document.querySelector('#df-92a8b25d-c5e3-4492-806e-208f9d94d102');\n",
              "          const dataTable =\n",
              "            await google.colab.kernel.invokeFunction('convertToInteractive',\n",
              "                                                     [key], {});\n",
              "          if (!dataTable) return;\n",
              "\n",
              "          const docLinkHtml = 'Like what you see? Visit the ' +\n",
              "            '<a target=\"_blank\" href=https://colab.research.google.com/notebooks/data_table.ipynb>data table notebook</a>'\n",
              "            + ' to learn more about interactive tables.';\n",
              "          element.innerHTML = '';\n",
              "          dataTable['output_type'] = 'display_data';\n",
              "          await google.colab.output.renderOutput(dataTable, element);\n",
              "          const docLink = document.createElement('div');\n",
              "          docLink.innerHTML = docLinkHtml;\n",
              "          element.appendChild(docLink);\n",
              "        }\n",
              "      </script>\n",
              "    </div>\n",
              "  </div>\n",
              "  "
            ]
          },
          "metadata": {},
          "execution_count": 51
        }
      ]
    },
    {
      "cell_type": "code",
      "source": [
        "df.loc[(df['Output'] == 0 ) & (df['age']>61), 'age'] = 27\n",
        "df.loc[(df['Output'] == 1 ) & (df['age']>61), 'age'] = 36"
      ],
      "metadata": {
        "trusted": true,
        "id": "Qq0ETiAjRcA9"
      },
      "execution_count": 52,
      "outputs": []
    },
    {
      "cell_type": "markdown",
      "source": [
        "## Splitting the Data"
      ],
      "metadata": {
        "id": "0KtZMgKkRcA9"
      }
    },
    {
      "cell_type": "code",
      "source": [
        "X = df.drop(['Output'], 1)\n",
        "y = df['Output']"
      ],
      "metadata": {
        "trusted": true,
        "colab": {
          "base_uri": "https://localhost:8080/"
        },
        "id": "2dnTKyHnRcA9",
        "outputId": "9ad7c588-f54f-4e09-e9f0-97f67018e50e"
      },
      "execution_count": 53,
      "outputs": [
        {
          "output_type": "stream",
          "name": "stderr",
          "text": [
            "<ipython-input-53-f05757b13d74>:1: FutureWarning: In a future version of pandas all arguments of DataFrame.drop except for the argument 'labels' will be keyword-only\n",
            "  X = df.drop(['Output'], 1)\n"
          ]
        }
      ]
    },
    {
      "cell_type": "code",
      "source": [
        "x_train,x_test,y_train,y_test=train_test_split(X,y,test_size=0.2,random_state=95)"
      ],
      "metadata": {
        "trusted": true,
        "id": "r04UGnUBRcA9"
      },
      "execution_count": 264,
      "outputs": []
    },
    {
      "cell_type": "markdown",
      "source": [
        "## Scaling the Data"
      ],
      "metadata": {
        "id": "6Ir5z6_WRcA9"
      }
    },
    {
      "cell_type": "code",
      "source": [
        "std = StandardScaler()\n",
        "x_train = std.fit_transform(x_train)\n",
        "x_test = std.transform(x_test)"
      ],
      "metadata": {
        "trusted": true,
        "id": "Rl7hXDgYRcA-"
      },
      "execution_count": 265,
      "outputs": []
    },
    {
      "cell_type": "markdown",
      "source": [
        "## SVM With RBF Kernel"
      ],
      "metadata": {
        "id": "IEnAMuyiRcA-"
      }
    },
    {
      "cell_type": "code",
      "source": [
        "model=SVC(kernel='rbf')\n",
        "model.fit(x_train,y_train)"
      ],
      "metadata": {
        "trusted": true,
        "colab": {
          "base_uri": "https://localhost:8080/"
        },
        "id": "hNpSoXoIRcA-",
        "outputId": "12f903cc-5708-408d-b48f-8119efbb62c0"
      },
      "execution_count": 266,
      "outputs": [
        {
          "output_type": "execute_result",
          "data": {
            "text/plain": [
              "SVC()"
            ]
          },
          "metadata": {},
          "execution_count": 266
        }
      ]
    },
    {
      "cell_type": "code",
      "source": [
        "y_pred=model.predict(x_test)"
      ],
      "metadata": {
        "trusted": true,
        "id": "IzkOc73iRcA-"
      },
      "execution_count": 267,
      "outputs": []
    },
    {
      "cell_type": "code",
      "source": [
        "accuracy_score(y_test,y_pred)"
      ],
      "metadata": {
        "trusted": true,
        "colab": {
          "base_uri": "https://localhost:8080/"
        },
        "id": "-zpkXySuRcA-",
        "outputId": "b1eb1ad6-cdd8-4520-c4db-79ce3b33b4f6"
      },
      "execution_count": 268,
      "outputs": [
        {
          "output_type": "execute_result",
          "data": {
            "text/plain": [
              "0.8961038961038961"
            ]
          },
          "metadata": {},
          "execution_count": 268
        }
      ]
    },
    {
      "cell_type": "code",
      "source": [
        "plot_confusion_matrix(model, x_test, y_test, normalize='true')"
      ],
      "metadata": {
        "colab": {
          "base_uri": "https://localhost:8080/",
          "height": 358
        },
        "id": "KWGPkI06o73S",
        "outputId": "4e2da79e-f943-450d-ec45-3bf45f55e441"
      },
      "execution_count": 269,
      "outputs": [
        {
          "output_type": "stream",
          "name": "stderr",
          "text": [
            "/usr/local/lib/python3.8/dist-packages/sklearn/utils/deprecation.py:87: FutureWarning: Function plot_confusion_matrix is deprecated; Function `plot_confusion_matrix` is deprecated in 1.0 and will be removed in 1.2. Use one of the class methods: ConfusionMatrixDisplay.from_predictions or ConfusionMatrixDisplay.from_estimator.\n",
            "  warnings.warn(msg, category=FutureWarning)\n"
          ]
        },
        {
          "output_type": "execute_result",
          "data": {
            "text/plain": [
              "<sklearn.metrics._plot.confusion_matrix.ConfusionMatrixDisplay at 0x7fa175cc64f0>"
            ]
          },
          "metadata": {},
          "execution_count": 269
        },
        {
          "output_type": "display_data",
          "data": {
            "text/plain": [
              "<Figure size 432x288 with 2 Axes>"
            ],
            "image/png": "[encoded data removed]"
          },
          "metadata": {}
        }
      ]
    },
    {
      "cell_type": "code",
      "source": [
        "confusion_matrix(y_test,y_pred)"
      ],
      "metadata": {
        "trusted": true,
        "colab": {
          "base_uri": "https://localhost:8080/"
        },
        "id": "pW03ysMXRcA-",
        "outputId": "d35dc3fc-f63a-4cc6-c77c-d42e6cabd7da"
      },
      "execution_count": 171,
      "outputs": [
        {
          "output_type": "execute_result",
          "data": {
            "text/plain": [
              "array([[90, 10],\n",
              "       [ 6, 48]])"
            ]
          },
          "metadata": {},
          "execution_count": 171
        }
      ]
    },
    {
      "cell_type": "code",
      "source": [
        "print(classification_report(y_test,y_pred))"
      ],
      "metadata": {
        "trusted": true,
        "colab": {
          "base_uri": "https://localhost:8080/"
        },
        "id": "BTLpQ_1-RcA-",
        "outputId": "f9cc9827-026a-4011-eb1e-b3b7bbaaff1d"
      },
      "execution_count": 172,
      "outputs": [
        {
          "output_type": "stream",
          "name": "stdout",
          "text": [
            "              precision    recall  f1-score   support\n",
            "\n",
            "           0       0.94      0.90      0.92       100\n",
            "           1       0.83      0.89      0.86        54\n",
            "\n",
            "    accuracy                           0.90       154\n",
            "   macro avg       0.88      0.89      0.89       154\n",
            "weighted avg       0.90      0.90      0.90       154\n",
            "\n"
          ]
        }
      ]
    },
    {
      "cell_type": "code",
      "source": [
        "fpr,tpr,_=roc_curve(y_test,y_pred)\n",
        "#calculate AUC\n",
        "roc_auc=auc(fpr,tpr)\n",
        "print('AUC: %0.2f' % roc_auc)\n",
        "#plot of ROC curve for a specified class\n",
        "plt.figure()\n",
        "plt.plot(fpr,tpr,label='ROC curve(area= %2.f)' %roc_auc)\n",
        "plt.plot([0,1],[0,1],'k--')\n",
        "plt.xlim([0.0,1.0])\n",
        "plt.ylim([0.0,1.05])\n",
        "plt.xlabel('False positive rate')\n",
        "plt.ylabel('True positive rate')\n",
        "plt.title('ROC curve')\n",
        "plt.legend(loc='lower right')\n",
        "plt.grid()\n",
        "plt.show()"
      ],
      "metadata": {
        "trusted": true,
        "colab": {
          "base_uri": "https://localhost:8080/",
          "height": 316
        },
        "id": "juWlVkeZRcA-",
        "outputId": "293d170d-228a-42f8-b8c0-e15cbce46242"
      },
      "execution_count": 270,
      "outputs": [
        {
          "output_type": "stream",
          "name": "stdout",
          "text": [
            "AUC: 0.89\n"
          ]
        },
        {
          "output_type": "display_data",
          "data": {
            "text/plain": [
              "<Figure size 432x288 with 1 Axes>"
            ],
            "image/png": "[encoded data removed]"
          },
          "metadata": {}
        }
      ]
    },
    {
      "cell_type": "markdown",
      "source": [
        "**SVM OPTIMIZATION BY CSA**\n",
        "\n",
        "ACCURACY: 0.903\n",
        "\n"
      ],
      "metadata": {
        "id": "-FYiw4e2hzSi"
      }
    },
    {
      "cell_type": "code",
      "source": [
        "# Import necessary libraries\n",
        "import pandas as pd\n",
        "from sklearn import svm\n",
        "from sklearn.model_selection import train_test_split\n",
        "import numpy as np\n",
        "import math\n",
        "\n",
        "def crow_search_algorithm(X, y, max_iterations, population_size, a, b):\n",
        "    # Initialize the population of solutions\n",
        "    solutions = []\n",
        "    for i in range(population_size):\n",
        "        solutions.append(np.random.uniform(-2, 2, size=X.shape[1]))\n",
        "    \n",
        "    # Iterate over the maximum number of iterations\n",
        "    for i in range(max_iterations):\n",
        "        # Calculate the fitness of each solution\n",
        "        fitness = []\n",
        "        for solution in solutions:\n",
        "            model = svm.SVC(kernel='linear', class_weight={0: solution[0], 1: solution[1]})\n",
        "            model.fit(X, y)\n",
        "            accuracy = model.score(X, y)\n",
        "            test = model.score(x_test, y_test)\n",
        "            print(f\"iter: {i} accuracy: {accuracy}, test: {test}\")\n",
        "            fitness.append(accuracy)\n",
        "        \n",
        "        # Sort the solutions based on their fitness\n",
        "        solutions = [solution for _, solution in sorted(zip(fitness, solutions), key=lambda pair: pair[0])]\n",
        "        \n",
        "        # Update the best solution\n",
        "        best_solution = solutions[-1]\n",
        "        \n",
        "        # Update the solutions using the Crow Search Algorithm formula\n",
        "        for j in range(population_size):\n",
        "            solution = solutions[j]\n",
        "            r = np.random.uniform(0, 1)\n",
        "            if r < a:\n",
        "                k = np.random.uniform(-1, 1)\n",
        "                # Exploit the best solution\n",
        "              \n",
        "                solution = best_solution + b*(best_solution - solution)+k\n",
        "            else:\n",
        "                # Explore the solution space\n",
        "                solution = np.random.uniform(-2, 2, size=X.shape[1])\n",
        "            solutions[j] = solution\n",
        "    \n",
        "    # Return the best solution\n",
        "    return best_solution\n",
        "\n",
        "# Load the Pima Indian Diabetes dataset\n",
        "# df = pd.read_csv('https://raw.githubusercontent.com/sheetalbongale/Diabetes-Detection-Using-Deep-Learning/main/data/pima-indians-diabetes.csv')\n",
        "\n",
        "# # Split the data into features and target\n",
        "# X = df.iloc[:, :-1]\n",
        "# y = df.iloc[:, -1]\n",
        "# for r in range(1):\n",
        "#   # Split the data into training and test sets\n",
        "\n",
        "# Optimize the SVM model weights using the Crow Search Algorithm\n",
        "best_weights = crow_search_algorithm(x_train, y_train, max_iterations=20, population_size=10, a=0.1, b=2.2)\n",
        "# Create the optimized SVM model\n",
        "model = svm.SVC(kernel='rbf', class_weight={0: best_weights[0], 1: best_weights[1]})\n",
        "# Train the model on the training data\n",
        "model.fit(x_train, y_train)\n",
        "# Test the model on the test data\n",
        "accuracy = model.score(x_test, y_test)\n",
        "# Print the accuracy of the model\n",
        "print(f'Accuracy: {accuracy:.3f}')\n"
      ],
      "metadata": {
        "colab": {
          "base_uri": "https://localhost:8080/"
        },
        "id": "fKCKf7S0fr6r",
        "outputId": "ea2398bb-c9e0-42e0-a54b-055ce5c0e84c"
      },
      "execution_count": 271,
      "outputs": [
        {
          "output_type": "stream",
          "name": "stdout",
          "text": [
            "iter: 0 accuracy: 0.3485342019543974, test: 0.35064935064935066\n",
            "iter: 0 accuracy: 0.3485342019543974, test: 0.35064935064935066\n",
            "iter: 0 accuracy: 0.3485342019543974, test: 0.35064935064935066\n",
            "iter: 0 accuracy: 0.3485342019543974, test: 0.35064935064935066\n",
            "iter: 0 accuracy: 0.3485342019543974, test: 0.35064935064935066\n",
            "iter: 0 accuracy: 0.6514657980456026, test: 0.6493506493506493\n",
            "iter: 0 accuracy: 0.6514657980456026, test: 0.6493506493506493\n",
            "iter: 0 accuracy: 0.3485342019543974, test: 0.35064935064935066\n",
            "iter: 0 accuracy: 0.3485342019543974, test: 0.35064935064935066\n",
            "iter: 0 accuracy: 0.8094462540716613, test: 0.8116883116883117\n",
            "iter: 1 accuracy: 0.3485342019543974, test: 0.35064935064935066\n",
            "iter: 1 accuracy: 0.3485342019543974, test: 0.35064935064935066\n",
            "iter: 1 accuracy: 0.6514657980456026, test: 0.6493506493506493\n",
            "iter: 1 accuracy: 0.3485342019543974, test: 0.35064935064935066\n",
            "iter: 1 accuracy: 0.3485342019543974, test: 0.35064935064935066\n",
            "iter: 1 accuracy: 0.6514657980456026, test: 0.6493506493506493\n",
            "iter: 1 accuracy: 0.3485342019543974, test: 0.35064935064935066\n",
            "iter: 1 accuracy: 0.3485342019543974, test: 0.35064935064935066\n",
            "iter: 1 accuracy: 0.3485342019543974, test: 0.35064935064935066\n",
            "iter: 1 accuracy: 0.8534201954397395, test: 0.8636363636363636\n",
            "iter: 2 accuracy: 0.6514657980456026, test: 0.6493506493506493\n",
            "iter: 2 accuracy: 0.3485342019543974, test: 0.35064935064935066\n",
            "iter: 2 accuracy: 0.3485342019543974, test: 0.35064935064935066\n",
            "iter: 2 accuracy: 0.3485342019543974, test: 0.35064935064935066\n",
            "iter: 2 accuracy: 0.3485342019543974, test: 0.35064935064935066\n",
            "iter: 2 accuracy: 0.8094462540716613, test: 0.8116883116883117\n",
            "iter: 2 accuracy: 0.8029315960912052, test: 0.8181818181818182\n",
            "iter: 2 accuracy: 0.3485342019543974, test: 0.35064935064935066\n",
            "iter: 2 accuracy: 0.6514657980456026, test: 0.6493506493506493\n",
            "iter: 2 accuracy: 0.3485342019543974, test: 0.35064935064935066\n",
            "iter: 3 accuracy: 0.8371335504885994, test: 0.8506493506493507\n",
            "iter: 3 accuracy: 0.3485342019543974, test: 0.35064935064935066\n",
            "iter: 3 accuracy: 0.3485342019543974, test: 0.35064935064935066\n",
            "iter: 3 accuracy: 0.3485342019543974, test: 0.35064935064935066\n",
            "iter: 3 accuracy: 0.6514657980456026, test: 0.6493506493506493\n",
            "iter: 3 accuracy: 0.8403908794788274, test: 0.8571428571428571\n",
            "iter: 3 accuracy: 0.6514657980456026, test: 0.6493506493506493\n",
            "iter: 3 accuracy: 0.8013029315960912, test: 0.8181818181818182\n",
            "iter: 3 accuracy: 0.6514657980456026, test: 0.6493506493506493\n",
            "iter: 3 accuracy: 0.3485342019543974, test: 0.35064935064935066\n",
            "iter: 4 accuracy: 0.3485342019543974, test: 0.35064935064935066\n",
            "iter: 4 accuracy: 0.3485342019543974, test: 0.35064935064935066\n",
            "iter: 4 accuracy: 0.3485342019543974, test: 0.35064935064935066\n",
            "iter: 4 accuracy: 0.6514657980456026, test: 0.6493506493506493\n",
            "iter: 4 accuracy: 0.3485342019543974, test: 0.35064935064935066\n",
            "iter: 4 accuracy: 0.8159609120521173, test: 0.8376623376623377\n",
            "iter: 4 accuracy: 0.3485342019543974, test: 0.35064935064935066\n",
            "iter: 4 accuracy: 0.3485342019543974, test: 0.35064935064935066\n",
            "iter: 4 accuracy: 0.7182410423452769, test: 0.7337662337662337\n",
            "iter: 4 accuracy: 0.3485342019543974, test: 0.35064935064935066\n",
            "iter: 5 accuracy: 0.3485342019543974, test: 0.35064935064935066\n",
            "iter: 5 accuracy: 0.6514657980456026, test: 0.6493506493506493\n",
            "iter: 5 accuracy: 0.6514657980456026, test: 0.6493506493506493\n",
            "iter: 5 accuracy: 0.741042345276873, test: 0.7467532467532467\n",
            "iter: 5 accuracy: 0.8501628664495114, test: 0.8571428571428571\n",
            "iter: 5 accuracy: 0.3485342019543974, test: 0.35064935064935066\n",
            "iter: 5 accuracy: 0.8485342019543974, test: 0.8701298701298701\n",
            "iter: 5 accuracy: 0.6514657980456026, test: 0.6493506493506493\n",
            "iter: 5 accuracy: 0.3485342019543974, test: 0.35064935064935066\n",
            "iter: 5 accuracy: 0.6514657980456026, test: 0.6493506493506493\n",
            "iter: 6 accuracy: 0.3485342019543974, test: 0.35064935064935066\n",
            "iter: 6 accuracy: 0.6514657980456026, test: 0.6493506493506493\n",
            "iter: 6 accuracy: 0.3485342019543974, test: 0.35064935064935066\n",
            "iter: 6 accuracy: 0.3485342019543974, test: 0.35064935064935066\n",
            "iter: 6 accuracy: 0.6514657980456026, test: 0.6493506493506493\n",
            "iter: 6 accuracy: 0.3485342019543974, test: 0.35064935064935066\n",
            "iter: 6 accuracy: 0.3485342019543974, test: 0.35064935064935066\n",
            "iter: 6 accuracy: 0.6514657980456026, test: 0.6493506493506493\n",
            "iter: 6 accuracy: 0.3485342019543974, test: 0.35064935064935066\n",
            "iter: 6 accuracy: 0.3485342019543974, test: 0.35064935064935066\n",
            "iter: 7 accuracy: 0.6514657980456026, test: 0.6493506493506493\n",
            "iter: 7 accuracy: 0.6514657980456026, test: 0.6493506493506493\n",
            "iter: 7 accuracy: 0.3485342019543974, test: 0.35064935064935066\n",
            "iter: 7 accuracy: 0.6514657980456026, test: 0.6493506493506493\n",
            "iter: 7 accuracy: 0.6514657980456026, test: 0.6493506493506493\n",
            "iter: 7 accuracy: 0.6514657980456026, test: 0.6493506493506493\n",
            "iter: 7 accuracy: 0.6514657980456026, test: 0.6493506493506493\n",
            "iter: 7 accuracy: 0.6514657980456026, test: 0.6493506493506493\n",
            "iter: 7 accuracy: 0.6514657980456026, test: 0.6493506493506493\n",
            "iter: 7 accuracy: 0.3485342019543974, test: 0.35064935064935066\n",
            "iter: 8 accuracy: 0.3485342019543974, test: 0.35064935064935066\n",
            "iter: 8 accuracy: 0.8013029315960912, test: 0.8376623376623377\n",
            "iter: 8 accuracy: 0.3485342019543974, test: 0.35064935064935066\n",
            "iter: 8 accuracy: 0.8029315960912052, test: 0.8311688311688312\n",
            "iter: 8 accuracy: 0.3485342019543974, test: 0.35064935064935066\n",
            "iter: 8 accuracy: 0.6514657980456026, test: 0.6493506493506493\n",
            "iter: 8 accuracy: 0.8566775244299675, test: 0.8636363636363636\n",
            "iter: 8 accuracy: 0.6514657980456026, test: 0.6493506493506493\n",
            "iter: 8 accuracy: 0.3485342019543974, test: 0.35064935064935066\n",
            "iter: 8 accuracy: 0.3485342019543974, test: 0.35064935064935066\n",
            "iter: 9 accuracy: 0.6514657980456026, test: 0.6493506493506493\n",
            "iter: 9 accuracy: 0.8403908794788274, test: 0.8571428571428571\n",
            "iter: 9 accuracy: 0.3485342019543974, test: 0.35064935064935066\n",
            "iter: 9 accuracy: 0.6514657980456026, test: 0.6493506493506493\n",
            "iter: 9 accuracy: 0.8501628664495114, test: 0.8571428571428571\n",
            "iter: 9 accuracy: 0.6514657980456026, test: 0.6493506493506493\n",
            "iter: 9 accuracy: 0.3485342019543974, test: 0.35064935064935066\n",
            "iter: 9 accuracy: 0.3485342019543974, test: 0.35064935064935066\n",
            "iter: 9 accuracy: 0.3485342019543974, test: 0.35064935064935066\n",
            "iter: 9 accuracy: 0.6514657980456026, test: 0.6493506493506493\n",
            "iter: 10 accuracy: 0.3485342019543974, test: 0.35064935064935066\n",
            "iter: 10 accuracy: 0.3485342019543974, test: 0.35064935064935066\n",
            "iter: 10 accuracy: 0.3485342019543974, test: 0.35064935064935066\n",
            "iter: 10 accuracy: 0.3485342019543974, test: 0.35064935064935066\n",
            "iter: 10 accuracy: 0.6872964169381107, test: 0.6818181818181818\n",
            "iter: 10 accuracy: 0.6514657980456026, test: 0.6493506493506493\n",
            "iter: 10 accuracy: 0.6514657980456026, test: 0.6493506493506493\n",
            "iter: 10 accuracy: 0.3485342019543974, test: 0.35064935064935066\n",
            "iter: 10 accuracy: 0.3485342019543974, test: 0.35064935064935066\n",
            "iter: 10 accuracy: 0.8224755700325733, test: 0.8376623376623377\n",
            "iter: 11 accuracy: 0.6514657980456026, test: 0.6493506493506493\n",
            "iter: 11 accuracy: 0.3485342019543974, test: 0.35064935064935066\n",
            "iter: 11 accuracy: 0.3485342019543974, test: 0.35064935064935066\n",
            "iter: 11 accuracy: 0.3485342019543974, test: 0.35064935064935066\n",
            "iter: 11 accuracy: 0.6514657980456026, test: 0.6493506493506493\n",
            "iter: 11 accuracy: 0.3485342019543974, test: 0.35064935064935066\n",
            "iter: 11 accuracy: 0.3485342019543974, test: 0.35064935064935066\n",
            "iter: 11 accuracy: 0.3485342019543974, test: 0.35064935064935066\n",
            "iter: 11 accuracy: 0.3485342019543974, test: 0.35064935064935066\n",
            "iter: 11 accuracy: 0.6514657980456026, test: 0.6493506493506493\n",
            "iter: 12 accuracy: 0.6514657980456026, test: 0.6493506493506493\n",
            "iter: 12 accuracy: 0.6514657980456026, test: 0.6493506493506493\n",
            "iter: 12 accuracy: 0.3485342019543974, test: 0.35064935064935066\n",
            "iter: 12 accuracy: 0.3485342019543974, test: 0.35064935064935066\n",
            "iter: 12 accuracy: 0.6514657980456026, test: 0.6493506493506493\n",
            "iter: 12 accuracy: 0.6514657980456026, test: 0.6493506493506493\n",
            "iter: 12 accuracy: 0.6514657980456026, test: 0.6493506493506493\n",
            "iter: 12 accuracy: 0.3485342019543974, test: 0.35064935064935066\n",
            "iter: 12 accuracy: 0.6514657980456026, test: 0.6493506493506493\n",
            "iter: 12 accuracy: 0.3485342019543974, test: 0.35064935064935066\n",
            "iter: 13 accuracy: 0.3485342019543974, test: 0.35064935064935066\n",
            "iter: 13 accuracy: 0.6514657980456026, test: 0.6493506493506493\n",
            "iter: 13 accuracy: 0.3485342019543974, test: 0.35064935064935066\n",
            "iter: 13 accuracy: 0.6514657980456026, test: 0.6493506493506493\n",
            "iter: 13 accuracy: 0.8420195439739414, test: 0.8571428571428571\n",
            "iter: 13 accuracy: 0.6514657980456026, test: 0.6493506493506493\n",
            "iter: 13 accuracy: 0.3485342019543974, test: 0.35064935064935066\n",
            "iter: 13 accuracy: 0.3485342019543974, test: 0.35064935064935066\n",
            "iter: 13 accuracy: 0.8550488599348535, test: 0.8636363636363636\n",
            "iter: 13 accuracy: 0.3485342019543974, test: 0.35064935064935066\n",
            "iter: 14 accuracy: 0.3485342019543974, test: 0.35064935064935066\n",
            "iter: 14 accuracy: 0.7719869706840391, test: 0.8051948051948052\n",
            "iter: 14 accuracy: 0.3485342019543974, test: 0.35064935064935066\n",
            "iter: 14 accuracy: 0.3485342019543974, test: 0.35064935064935066\n",
            "iter: 14 accuracy: 0.6514657980456026, test: 0.6493506493506493\n",
            "iter: 14 accuracy: 0.7915309446254072, test: 0.7922077922077922\n",
            "iter: 14 accuracy: 0.3485342019543974, test: 0.35064935064935066\n",
            "iter: 14 accuracy: 0.6514657980456026, test: 0.6493506493506493\n",
            "iter: 14 accuracy: 0.7866449511400652, test: 0.8116883116883117\n",
            "iter: 14 accuracy: 0.8566775244299675, test: 0.8636363636363636\n",
            "iter: 15 accuracy: 0.6514657980456026, test: 0.6493506493506493\n",
            "iter: 15 accuracy: 0.7703583061889251, test: 0.7662337662337663\n",
            "iter: 15 accuracy: 0.3485342019543974, test: 0.35064935064935066\n",
            "iter: 15 accuracy: 0.8469055374592834, test: 0.8571428571428571\n",
            "iter: 15 accuracy: 0.6514657980456026, test: 0.6493506493506493\n",
            "iter: 15 accuracy: 0.3485342019543974, test: 0.35064935064935066\n",
            "iter: 15 accuracy: 0.3485342019543974, test: 0.35064935064935066\n",
            "iter: 15 accuracy: 0.3485342019543974, test: 0.35064935064935066\n",
            "iter: 15 accuracy: 0.6514657980456026, test: 0.6493506493506493\n",
            "iter: 15 accuracy: 0.6514657980456026, test: 0.6493506493506493\n",
            "iter: 16 accuracy: 0.6514657980456026, test: 0.6493506493506493\n",
            "iter: 16 accuracy: 0.6514657980456026, test: 0.6493506493506493\n",
            "iter: 16 accuracy: 0.3485342019543974, test: 0.35064935064935066\n",
            "iter: 16 accuracy: 0.3485342019543974, test: 0.35064935064935066\n",
            "iter: 16 accuracy: 0.3485342019543974, test: 0.35064935064935066\n",
            "iter: 16 accuracy: 0.8110749185667753, test: 0.8116883116883117\n",
            "iter: 16 accuracy: 0.8501628664495114, test: 0.8701298701298701\n",
            "iter: 16 accuracy: 0.3485342019543974, test: 0.35064935064935066\n",
            "iter: 16 accuracy: 0.3485342019543974, test: 0.35064935064935066\n",
            "iter: 16 accuracy: 0.6514657980456026, test: 0.6493506493506493\n",
            "iter: 17 accuracy: 0.3485342019543974, test: 0.35064935064935066\n",
            "iter: 17 accuracy: 0.6514657980456026, test: 0.6493506493506493\n",
            "iter: 17 accuracy: 0.3485342019543974, test: 0.35064935064935066\n",
            "iter: 17 accuracy: 0.6514657980456026, test: 0.6493506493506493\n",
            "iter: 17 accuracy: 0.3485342019543974, test: 0.35064935064935066\n",
            "iter: 17 accuracy: 0.3485342019543974, test: 0.35064935064935066\n",
            "iter: 17 accuracy: 0.3485342019543974, test: 0.35064935064935066\n",
            "iter: 17 accuracy: 0.6514657980456026, test: 0.6493506493506493\n",
            "iter: 17 accuracy: 0.7345276872964169, test: 0.7532467532467533\n",
            "iter: 17 accuracy: 0.8061889250814332, test: 0.8181818181818182\n",
            "iter: 18 accuracy: 0.3485342019543974, test: 0.35064935064935066\n",
            "iter: 18 accuracy: 0.3485342019543974, test: 0.35064935064935066\n",
            "iter: 18 accuracy: 0.6514657980456026, test: 0.6493506493506493\n",
            "iter: 18 accuracy: 0.8436482084690554, test: 0.8636363636363636\n",
            "iter: 18 accuracy: 0.7801302931596091, test: 0.8116883116883117\n",
            "iter: 18 accuracy: 0.3485342019543974, test: 0.35064935064935066\n",
            "iter: 18 accuracy: 0.8094462540716613, test: 0.8116883116883117\n",
            "iter: 18 accuracy: 0.6514657980456026, test: 0.6493506493506493\n",
            "iter: 18 accuracy: 0.6514657980456026, test: 0.6493506493506493\n",
            "iter: 18 accuracy: 0.8013029315960912, test: 0.7987012987012987\n",
            "iter: 19 accuracy: 0.3485342019543974, test: 0.35064935064935066\n",
            "iter: 19 accuracy: 0.6514657980456026, test: 0.6493506493506493\n",
            "iter: 19 accuracy: 0.7719869706840391, test: 0.8051948051948052\n",
            "iter: 19 accuracy: 0.8436482084690554, test: 0.8636363636363636\n",
            "iter: 19 accuracy: 0.3485342019543974, test: 0.35064935064935066\n",
            "iter: 19 accuracy: 0.3485342019543974, test: 0.35064935064935066\n",
            "iter: 19 accuracy: 0.3485342019543974, test: 0.35064935064935066\n",
            "iter: 19 accuracy: 0.3485342019543974, test: 0.35064935064935066\n",
            "iter: 19 accuracy: 0.3485342019543974, test: 0.35064935064935066\n",
            "iter: 19 accuracy: 0.3485342019543974, test: 0.35064935064935066\n",
            "Accuracy: 0.903\n"
          ]
        }
      ]
    },
    {
      "cell_type": "code",
      "source": [
        "svm_csa_model = model\n",
        "plot_confusion_matrix(svm_csa_model, x_test, y_test, normalize='true')"
      ],
      "metadata": {
        "colab": {
          "base_uri": "https://localhost:8080/",
          "height": 356
        },
        "id": "QVsvd2mGozox",
        "outputId": "df5ec212-4421-4b65-afcd-061e0d3e139d"
      },
      "execution_count": 272,
      "outputs": [
        {
          "output_type": "stream",
          "name": "stderr",
          "text": [
            "/usr/local/lib/python3.8/dist-packages/sklearn/utils/deprecation.py:87: FutureWarning: Function plot_confusion_matrix is deprecated; Function `plot_confusion_matrix` is deprecated in 1.0 and will be removed in 1.2. Use one of the class methods: ConfusionMatrixDisplay.from_predictions or ConfusionMatrixDisplay.from_estimator.\n",
            "  warnings.warn(msg, category=FutureWarning)\n"
          ]
        },
        {
          "output_type": "execute_result",
          "data": {
            "text/plain": [
              "<sklearn.metrics._plot.confusion_matrix.ConfusionMatrixDisplay at 0x7fa1762ce490>"
            ]
          },
          "metadata": {},
          "execution_count": 272
        },
        {
          "output_type": "display_data",
          "data": {
            "text/plain": [
              "<Figure size 432x288 with 2 Axes>"
            ],
            "image/png": "[encoded data removed]"
          },
          "metadata": {}
        }
      ]
    },
    {
      "cell_type": "markdown",
      "source": [
        "**SVM WITH CSA-BESO FOR CLASSIFICATION**\n",
        "\n",
        "ACCURACY: 91.6"
      ],
      "metadata": {
        "id": "mOflGMPFUXKi"
      }
    },
    {
      "cell_type": "code",
      "source": [
        "# Import necessary libraries\n",
        "import pandas as pd\n",
        "from sklearn import svm\n",
        "from sklearn.model_selection import train_test_split\n",
        "import numpy as np\n",
        "import math\n",
        "\n",
        "# Define the Crow Search Algorithm function\n",
        "def crow_search_algorithm(X, y, max_iterations, population_size, a, b):\n",
        "    # Initialize the population of solutions\n",
        "    r = 2\n",
        "    solutions = []\n",
        "    for i in range(population_size):\n",
        "        solutions.append(np.random.uniform(-2, 2, size=X.shape[1]))\n",
        "    #sum_solutions = solutions.copy()\n",
        "    # Iterate over the maximum number of iterations\n",
        "    for i in range(max_iterations):\n",
        "        # Calculate the fitness of each solution\n",
        "        fitness = []\n",
        "        for solution in solutions:\n",
        "            model = svm.SVC(kernel='rbf', class_weight={0: solution[0], 1: solution[1]})\n",
        "            model.fit(X, y)\n",
        "            accuracy = model.score(X, y)\n",
        "            test = model.score(x_test, y_test)\n",
        "            print(\"iter: \",i,\"accuracy: \", accuracy,\"test: \",test)\n",
        "            fitness.append(accuracy)\n",
        "        # if i>0:\n",
        "        #   sum_solutions += solutions[-1]\n",
        "        # # Sort the solutions based on their fitness\n",
        "        solutions = [solution for _, solution in sorted(zip(fitness, solutions), key=lambda pair: pair[0])]\n",
        "        # Update the best solution\n",
        "        best_solution = solutions[-1]\n",
        "        # Update the solutions using the Crow Search Algorithm formula\n",
        "        for j in range(population_size):\n",
        "            solution = solutions[j]\n",
        "            random_crow = np.random.randint(population_size)\n",
        "            r = np.random.uniform(0, 1)\n",
        "            if r < a:\n",
        "                k = np.random.uniform(-1, 1)\n",
        "                # Exploit the best solution\n",
        "                #solution = best_solution + b*(best_solution - solution)+k\n",
        "                rand = np.random.uniform(-1, 1)\n",
        "                theta_i = 2*math.pi*rand\n",
        "                r_i = theta_i+4*rand\n",
        "                xr_i = r_i*math.sin(theta_i)\n",
        "                yr_i = r_i*math.cos(theta_i)\n",
        "                #print(\"ss\".sum_solutions)\n",
        "                #mean_solution = sum_solutions\n",
        "                solution = best_solution + yr_i*(best_solution - solution)+xr_i*(solutions[random_crow] - solution)\n",
        "\n",
        "            else:\n",
        "                # Explore the solution space\n",
        "                solution = np.random.uniform(-1, 1, size=X.shape[1])\n",
        "            solutions[j] = solution\n",
        "        b = b*6*math.sin(math.pi*b)\n",
        "    # Return the best solution\n",
        "    return best_solution\n",
        "\n",
        "# Load the Pima Indian Diabetes dataset\n",
        "# df = pd.read_csv('https://raw.githubusercontent.com/sheetalbongale/Diabetes-Detection-Using-Deep-Learning/main/data/pima-indians-diabetes.csv')\n",
        "\n",
        "# # Split the data into features and target\n",
        "# X = df.iloc[:, :-1]\n",
        "# y = df.iloc[:, -1]\n",
        "# for r in range(1):\n",
        "#   # Split the data into training and test sets\n",
        "x_train,x_test,y_train,y_test=train_test_split(X,y,test_size=0.2,random_state=0)\n",
        "std = StandardScaler()\n",
        "x_train = std.fit_transform(x_train)\n",
        "x_test = std.transform(x_test)\n",
        "\n",
        "# Optimize the SVM model weights using the Crow Search Algorithm\n",
        "best_weights = crow_search_algorithm(x_train, y_train, max_iterations=20, population_size=10, a=0.1, b=2.0)\n",
        "# Create the optimized SVM model\n",
        "model = svm.SVC(kernel='rbf', class_weight={0: best_weights[0], 1: best_weights[1]})\n",
        "# Train the model on the training data\n",
        "model.fit(x_train, y_train)\n",
        "# Test the model on the test data\n",
        "accuracy = model.score(x_test, y_test)\n",
        "# Print the accuracy of the model\n",
        "print(f'Accuracy: {accuracy:.3f}')\n"
      ],
      "metadata": {
        "colab": {
          "base_uri": "https://localhost:8080/"
        },
        "id": "wzOBU0LYUeNi",
        "outputId": "b3df6b43-df04-4a3f-f104-7f027fa7417e"
      },
      "execution_count": 274,
      "outputs": [
        {
          "output_type": "stream",
          "name": "stdout",
          "text": [
            "iter:  0 accuracy:  0.6563517915309446 test:  0.6948051948051948\n",
            "iter:  0 accuracy:  0.35993485342019543 test:  0.3051948051948052\n",
            "iter:  0 accuracy:  0.35993485342019543 test:  0.3051948051948052\n",
            "iter:  0 accuracy:  0.6400651465798045 test:  0.6948051948051948\n",
            "iter:  0 accuracy:  0.6400651465798045 test:  0.6948051948051948\n",
            "iter:  0 accuracy:  0.6400651465798045 test:  0.6948051948051948\n",
            "iter:  0 accuracy:  0.35993485342019543 test:  0.3051948051948052\n",
            "iter:  0 accuracy:  0.35993485342019543 test:  0.3051948051948052\n",
            "iter:  0 accuracy:  0.35993485342019543 test:  0.3051948051948052\n",
            "iter:  0 accuracy:  0.35993485342019543 test:  0.3051948051948052\n",
            "iter:  1 accuracy:  0.6400651465798045 test:  0.6948051948051948\n",
            "iter:  1 accuracy:  0.6433224755700325 test:  0.6948051948051948\n",
            "iter:  1 accuracy:  0.35993485342019543 test:  0.3051948051948052\n",
            "iter:  1 accuracy:  0.35993485342019543 test:  0.3051948051948052\n",
            "iter:  1 accuracy:  0.35993485342019543 test:  0.3051948051948052\n",
            "iter:  1 accuracy:  0.35993485342019543 test:  0.3051948051948052\n",
            "iter:  1 accuracy:  0.8664495114006515 test:  0.8636363636363636\n",
            "iter:  1 accuracy:  0.8762214983713354 test:  0.8636363636363636\n",
            "iter:  1 accuracy:  0.35993485342019543 test:  0.3051948051948052\n",
            "iter:  1 accuracy:  0.6400651465798045 test:  0.6948051948051948\n",
            "iter:  2 accuracy:  0.9006514657980456 test:  0.9155844155844156\n",
            "iter:  2 accuracy:  0.6400651465798045 test:  0.6948051948051948\n",
            "iter:  2 accuracy:  0.8566775244299675 test:  0.8636363636363636\n",
            "iter:  2 accuracy:  0.35993485342019543 test:  0.3051948051948052\n",
            "iter:  2 accuracy:  0.6400651465798045 test:  0.6948051948051948\n",
            "iter:  2 accuracy:  0.35993485342019543 test:  0.3051948051948052\n",
            "iter:  2 accuracy:  0.8583061889250815 test:  0.8766233766233766\n",
            "iter:  2 accuracy:  0.35993485342019543 test:  0.3051948051948052\n",
            "iter:  2 accuracy:  0.35993485342019543 test:  0.3051948051948052\n",
            "iter:  2 accuracy:  0.35993485342019543 test:  0.3051948051948052\n",
            "iter:  3 accuracy:  0.8794788273615635 test:  0.8571428571428571\n",
            "iter:  3 accuracy:  0.6400651465798045 test:  0.6948051948051948\n",
            "iter:  3 accuracy:  0.35993485342019543 test:  0.3051948051948052\n",
            "iter:  3 accuracy:  0.9462540716612378 test:  0.8831168831168831\n",
            "iter:  3 accuracy:  0.6400651465798045 test:  0.6948051948051948\n",
            "iter:  3 accuracy:  0.8990228013029316 test:  0.8701298701298701\n",
            "iter:  3 accuracy:  0.6400651465798045 test:  0.6948051948051948\n",
            "iter:  3 accuracy:  0.35993485342019543 test:  0.3051948051948052\n",
            "iter:  3 accuracy:  0.8843648208469055 test:  0.9090909090909091\n",
            "iter:  3 accuracy:  0.8843648208469055 test:  0.9090909090909091\n",
            "iter:  4 accuracy:  0.8045602605863192 test:  0.8116883116883117\n",
            "iter:  4 accuracy:  0.8550488599348535 test:  0.8506493506493507\n",
            "iter:  4 accuracy:  0.35993485342019543 test:  0.3051948051948052\n",
            "iter:  4 accuracy:  0.35993485342019543 test:  0.3051948051948052\n",
            "iter:  4 accuracy:  0.35993485342019543 test:  0.3051948051948052\n",
            "iter:  4 accuracy:  0.35993485342019543 test:  0.3051948051948052\n",
            "iter:  4 accuracy:  0.8338762214983714 test:  0.8441558441558441\n",
            "iter:  4 accuracy:  0.6400651465798045 test:  0.6948051948051948\n",
            "iter:  4 accuracy:  0.35993485342019543 test:  0.3051948051948052\n",
            "iter:  4 accuracy:  0.35993485342019543 test:  0.3051948051948052\n",
            "iter:  5 accuracy:  0.35993485342019543 test:  0.3051948051948052\n",
            "iter:  5 accuracy:  0.6400651465798045 test:  0.6948051948051948\n",
            "iter:  5 accuracy:  0.35993485342019543 test:  0.3051948051948052\n",
            "iter:  5 accuracy:  0.35993485342019543 test:  0.3051948051948052\n",
            "iter:  5 accuracy:  0.6400651465798045 test:  0.6948051948051948\n",
            "iter:  5 accuracy:  0.35993485342019543 test:  0.3051948051948052\n",
            "iter:  5 accuracy:  0.6384364820846905 test:  0.6103896103896104\n",
            "iter:  5 accuracy:  0.35993485342019543 test:  0.3051948051948052\n",
            "iter:  5 accuracy:  0.6400651465798045 test:  0.6948051948051948\n",
            "iter:  5 accuracy:  0.6400651465798045 test:  0.6948051948051948\n",
            "iter:  6 accuracy:  0.35993485342019543 test:  0.3051948051948052\n",
            "iter:  6 accuracy:  0.6400651465798045 test:  0.6948051948051948\n",
            "iter:  6 accuracy:  0.35993485342019543 test:  0.3051948051948052\n",
            "iter:  6 accuracy:  0.6840390879478827 test:  0.7207792207792207\n",
            "iter:  6 accuracy:  0.6400651465798045 test:  0.6948051948051948\n",
            "iter:  6 accuracy:  0.6400651465798045 test:  0.6948051948051948\n",
            "iter:  6 accuracy:  0.8745928338762216 test:  0.8636363636363636\n",
            "iter:  6 accuracy:  0.6400651465798045 test:  0.6948051948051948\n",
            "iter:  6 accuracy:  0.6400651465798045 test:  0.6948051948051948\n",
            "iter:  6 accuracy:  0.6400651465798045 test:  0.6948051948051948\n",
            "iter:  7 accuracy:  0.5960912052117264 test:  0.564935064935065\n",
            "iter:  7 accuracy:  0.35993485342019543 test:  0.3051948051948052\n",
            "iter:  7 accuracy:  0.35993485342019543 test:  0.3051948051948052\n",
            "iter:  7 accuracy:  0.6400651465798045 test:  0.6948051948051948\n",
            "iter:  7 accuracy:  0.35993485342019543 test:  0.3051948051948052\n",
            "iter:  7 accuracy:  0.6400651465798045 test:  0.6948051948051948\n",
            "iter:  7 accuracy:  0.7947882736156352 test:  0.8116883116883117\n",
            "iter:  7 accuracy:  0.35993485342019543 test:  0.3051948051948052\n",
            "iter:  7 accuracy:  0.35993485342019543 test:  0.3051948051948052\n",
            "iter:  7 accuracy:  0.8697068403908795 test:  0.8506493506493507\n",
            "iter:  8 accuracy:  0.6400651465798045 test:  0.6948051948051948\n",
            "iter:  8 accuracy:  0.8615635179153095 test:  0.8701298701298701\n",
            "iter:  8 accuracy:  0.35993485342019543 test:  0.3051948051948052\n",
            "iter:  8 accuracy:  0.35993485342019543 test:  0.3051948051948052\n",
            "iter:  8 accuracy:  0.6400651465798045 test:  0.6948051948051948\n",
            "iter:  8 accuracy:  0.8843648208469055 test:  0.8831168831168831\n",
            "iter:  8 accuracy:  0.6400651465798045 test:  0.6948051948051948\n",
            "iter:  8 accuracy:  0.35993485342019543 test:  0.3051948051948052\n",
            "iter:  8 accuracy:  0.35993485342019543 test:  0.3051948051948052\n",
            "iter:  8 accuracy:  0.35993485342019543 test:  0.3051948051948052\n",
            "iter:  9 accuracy:  0.9218241042345277 test:  0.9025974025974026\n",
            "iter:  9 accuracy:  0.35993485342019543 test:  0.3051948051948052\n",
            "iter:  9 accuracy:  0.8859934853420195 test:  0.8961038961038961\n",
            "iter:  9 accuracy:  0.8648208469055375 test:  0.8376623376623377\n",
            "iter:  9 accuracy:  0.8420195439739414 test:  0.8701298701298701\n",
            "iter:  9 accuracy:  0.8599348534201955 test:  0.8441558441558441\n",
            "iter:  9 accuracy:  0.8843648208469055 test:  0.8701298701298701\n",
            "iter:  9 accuracy:  0.35993485342019543 test:  0.3051948051948052\n",
            "iter:  9 accuracy:  0.35993485342019543 test:  0.3051948051948052\n",
            "iter:  9 accuracy:  0.35993485342019543 test:  0.3051948051948052\n",
            "iter:  10 accuracy:  0.6400651465798045 test:  0.6948051948051948\n",
            "iter:  10 accuracy:  0.8827361563517915 test:  0.9025974025974026\n",
            "iter:  10 accuracy:  0.35993485342019543 test:  0.3051948051948052\n",
            "iter:  10 accuracy:  0.6400651465798045 test:  0.6948051948051948\n",
            "iter:  10 accuracy:  0.6400651465798045 test:  0.6948051948051948\n",
            "iter:  10 accuracy:  0.8615635179153095 test:  0.8701298701298701\n",
            "iter:  10 accuracy:  0.35993485342019543 test:  0.3051948051948052\n",
            "iter:  10 accuracy:  0.8794788273615635 test:  0.9025974025974026\n",
            "iter:  10 accuracy:  0.35993485342019543 test:  0.3051948051948052\n",
            "iter:  10 accuracy:  0.35993485342019543 test:  0.3051948051948052\n",
            "iter:  11 accuracy:  0.35993485342019543 test:  0.3051948051948052\n",
            "iter:  11 accuracy:  0.6400651465798045 test:  0.6948051948051948\n",
            "iter:  11 accuracy:  0.6400651465798045 test:  0.6948051948051948\n",
            "iter:  11 accuracy:  0.6400651465798045 test:  0.6948051948051948\n",
            "iter:  11 accuracy:  0.35993485342019543 test:  0.3051948051948052\n",
            "iter:  11 accuracy:  0.6400651465798045 test:  0.6948051948051948\n",
            "iter:  11 accuracy:  0.35993485342019543 test:  0.3051948051948052\n",
            "iter:  11 accuracy:  0.35993485342019543 test:  0.3051948051948052\n",
            "iter:  11 accuracy:  0.35993485342019543 test:  0.3051948051948052\n",
            "iter:  11 accuracy:  0.6400651465798045 test:  0.6948051948051948\n",
            "iter:  12 accuracy:  0.35993485342019543 test:  0.3051948051948052\n",
            "iter:  12 accuracy:  0.35993485342019543 test:  0.3051948051948052\n",
            "iter:  12 accuracy:  0.8599348534201955 test:  0.8636363636363636\n",
            "iter:  12 accuracy:  0.6400651465798045 test:  0.6948051948051948\n",
            "iter:  12 accuracy:  0.35993485342019543 test:  0.3051948051948052\n",
            "iter:  12 accuracy:  0.35993485342019543 test:  0.3051948051948052\n",
            "iter:  12 accuracy:  0.35993485342019543 test:  0.3051948051948052\n",
            "iter:  12 accuracy:  0.7736156351791531 test:  0.8051948051948052\n",
            "iter:  12 accuracy:  0.6400651465798045 test:  0.6948051948051948\n",
            "iter:  12 accuracy:  0.6400651465798045 test:  0.6948051948051948\n",
            "iter:  13 accuracy:  0.35993485342019543 test:  0.3051948051948052\n",
            "iter:  13 accuracy:  0.35993485342019543 test:  0.3051948051948052\n",
            "iter:  13 accuracy:  0.35993485342019543 test:  0.3051948051948052\n",
            "iter:  13 accuracy:  0.35993485342019543 test:  0.3051948051948052\n",
            "iter:  13 accuracy:  0.35993485342019543 test:  0.3051948051948052\n",
            "iter:  13 accuracy:  0.6400651465798045 test:  0.6948051948051948\n",
            "iter:  13 accuracy:  0.6400651465798045 test:  0.6948051948051948\n",
            "iter:  13 accuracy:  0.8843648208469055 test:  0.9090909090909091\n",
            "iter:  13 accuracy:  0.6400651465798045 test:  0.6948051948051948\n",
            "iter:  13 accuracy:  0.6514657980456026 test:  0.6948051948051948\n",
            "iter:  14 accuracy:  0.6400651465798045 test:  0.6948051948051948\n",
            "iter:  14 accuracy:  0.35993485342019543 test:  0.3051948051948052\n",
            "iter:  14 accuracy:  0.6400651465798045 test:  0.6948051948051948\n",
            "iter:  14 accuracy:  0.8631921824104235 test:  0.8376623376623377\n",
            "iter:  14 accuracy:  0.35993485342019543 test:  0.3051948051948052\n",
            "iter:  14 accuracy:  0.35993485342019543 test:  0.3051948051948052\n",
            "iter:  14 accuracy:  0.35993485342019543 test:  0.3051948051948052\n",
            "iter:  14 accuracy:  0.6400651465798045 test:  0.6948051948051948\n",
            "iter:  14 accuracy:  0.6400651465798045 test:  0.6948051948051948\n",
            "iter:  14 accuracy:  0.35993485342019543 test:  0.3051948051948052\n",
            "iter:  15 accuracy:  0.8729641693811075 test:  0.8701298701298701\n",
            "iter:  15 accuracy:  0.35993485342019543 test:  0.3051948051948052\n",
            "iter:  15 accuracy:  0.6400651465798045 test:  0.6948051948051948\n",
            "iter:  15 accuracy:  0.35993485342019543 test:  0.3051948051948052\n",
            "iter:  15 accuracy:  0.6400651465798045 test:  0.6948051948051948\n",
            "iter:  15 accuracy:  0.6400651465798045 test:  0.6948051948051948\n",
            "iter:  15 accuracy:  0.6400651465798045 test:  0.6948051948051948\n",
            "iter:  15 accuracy:  0.8110749185667753 test:  0.8441558441558441\n",
            "iter:  15 accuracy:  0.35993485342019543 test:  0.3051948051948052\n",
            "iter:  15 accuracy:  0.6400651465798045 test:  0.6948051948051948\n",
            "iter:  16 accuracy:  0.8859934853420195 test:  0.8766233766233766\n",
            "iter:  16 accuracy:  0.6400651465798045 test:  0.6948051948051948\n",
            "iter:  16 accuracy:  0.35993485342019543 test:  0.3051948051948052\n",
            "iter:  16 accuracy:  0.6400651465798045 test:  0.6948051948051948\n",
            "iter:  16 accuracy:  0.8908794788273615 test:  0.9090909090909091\n",
            "iter:  16 accuracy:  0.35993485342019543 test:  0.3051948051948052\n",
            "iter:  16 accuracy:  0.6400651465798045 test:  0.6948051948051948\n",
            "iter:  16 accuracy:  0.6400651465798045 test:  0.6948051948051948\n",
            "iter:  16 accuracy:  0.35993485342019543 test:  0.3051948051948052\n",
            "iter:  16 accuracy:  0.35993485342019543 test:  0.3051948051948052\n",
            "iter:  17 accuracy:  0.6400651465798045 test:  0.6948051948051948\n",
            "iter:  17 accuracy:  0.35993485342019543 test:  0.3051948051948052\n",
            "iter:  17 accuracy:  0.9739413680781759 test:  0.8701298701298701\n",
            "iter:  17 accuracy:  0.35993485342019543 test:  0.3051948051948052\n",
            "iter:  17 accuracy:  0.35993485342019543 test:  0.3051948051948052\n",
            "iter:  17 accuracy:  0.9462540716612378 test:  0.8896103896103896\n",
            "iter:  17 accuracy:  0.35993485342019543 test:  0.3051948051948052\n",
            "iter:  17 accuracy:  0.6400651465798045 test:  0.6948051948051948\n",
            "iter:  17 accuracy:  0.6400651465798045 test:  0.6948051948051948\n",
            "iter:  17 accuracy:  0.9511400651465798 test:  0.8961038961038961\n",
            "iter:  18 accuracy:  0.35993485342019543 test:  0.3051948051948052\n",
            "iter:  18 accuracy:  0.6400651465798045 test:  0.6948051948051948\n",
            "iter:  18 accuracy:  0.35993485342019543 test:  0.3051948051948052\n",
            "iter:  18 accuracy:  0.35993485342019543 test:  0.3051948051948052\n",
            "iter:  18 accuracy:  0.35993485342019543 test:  0.3051948051948052\n",
            "iter:  18 accuracy:  0.8713355048859935 test:  0.8701298701298701\n",
            "iter:  18 accuracy:  0.8990228013029316 test:  0.922077922077922\n",
            "iter:  18 accuracy:  0.6400651465798045 test:  0.6948051948051948\n",
            "iter:  18 accuracy:  0.35993485342019543 test:  0.3051948051948052\n",
            "iter:  18 accuracy:  0.6400651465798045 test:  0.6948051948051948\n",
            "iter:  19 accuracy:  0.35993485342019543 test:  0.3051948051948052\n",
            "iter:  19 accuracy:  0.6400651465798045 test:  0.6948051948051948\n",
            "iter:  19 accuracy:  0.35993485342019543 test:  0.3051948051948052\n",
            "iter:  19 accuracy:  0.9022801302931596 test:  0.9155844155844156\n",
            "iter:  19 accuracy:  0.6400651465798045 test:  0.6948051948051948\n",
            "iter:  19 accuracy:  0.8159609120521173 test:  0.8441558441558441\n",
            "iter:  19 accuracy:  0.35993485342019543 test:  0.3051948051948052\n",
            "iter:  19 accuracy:  0.35993485342019543 test:  0.3051948051948052\n",
            "iter:  19 accuracy:  0.7703583061889251 test:  0.7922077922077922\n",
            "iter:  19 accuracy:  0.35993485342019543 test:  0.3051948051948052\n",
            "Accuracy: 0.916\n"
          ]
        }
      ]
    },
    {
      "cell_type": "code",
      "source": [
        "svm_csa_beso_model = model\n",
        "plot_confusion_matrix(svm_csa_beso_model, x_test, y_test, normalize='true')"
      ],
      "metadata": {
        "colab": {
          "base_uri": "https://localhost:8080/",
          "height": 354
        },
        "id": "XAPWLhPKpMor",
        "outputId": "86b0827a-d85a-4a5a-83e5-c960541fd288"
      },
      "execution_count": 275,
      "outputs": [
        {
          "output_type": "stream",
          "name": "stderr",
          "text": [
            "/usr/local/lib/python3.8/dist-packages/sklearn/utils/deprecation.py:87: FutureWarning: Function plot_confusion_matrix is deprecated; Function `plot_confusion_matrix` is deprecated in 1.0 and will be removed in 1.2. Use one of the class methods: ConfusionMatrixDisplay.from_predictions or ConfusionMatrixDisplay.from_estimator.\n",
            "  warnings.warn(msg, category=FutureWarning)\n"
          ]
        },
        {
          "output_type": "execute_result",
          "data": {
            "text/plain": [
              "<sklearn.metrics._plot.confusion_matrix.ConfusionMatrixDisplay at 0x7fa176471160>"
            ]
          },
          "metadata": {},
          "execution_count": 275
        },
        {
          "output_type": "display_data",
          "data": {
            "text/plain": [
              "<Figure size 432x288 with 2 Axes>"
            ],
            "image/png": "[encoded data removed]"
          },
          "metadata": {}
        }
      ]
    },
    {
      "cell_type": "markdown",
      "source": [
        "**RANDOM FOREST RFE FEATURE SELECTION**"
      ],
      "metadata": {
        "id": "UiSpLszwVRrm"
      }
    },
    {
      "cell_type": "code",
      "source": [
        "# Load libraries\n",
        "import pandas as pd\n",
        "from sklearn.ensemble import RandomForestClassifier\n",
        "from sklearn.feature_selection import RFE\n",
        "\n",
        "clf = RandomForestClassifier(random_state=28)\n",
        "\n",
        "# Create the RFE model and select 3 attributes\n",
        "rfe = RFE(clf)\n",
        "rfe = rfe.fit(X,y)\n",
        "\n",
        "# Print the feature ranking\n",
        "print(X.columns)\n",
        "print(rfe.ranking_)\n",
        "print(X.columns[rfe.support_])\n",
        "X_selected = X[X.columns[rfe.support_]]\n",
        "print(X_selected)"
      ],
      "metadata": {
        "colab": {
          "base_uri": "https://localhost:8080/"
        },
        "id": "nL1K8bK0VRB8",
        "outputId": "9c2ce9f3-643e-4ef6-bc8f-7a9d0fd4f5b3"
      },
      "execution_count": 276,
      "outputs": [
        {
          "output_type": "stream",
          "name": "stdout",
          "text": [
            "Index(['n_pregnant', 'glucose_conc', 'bp', 'skin_len', 'insulin', 'bmi',\n",
            "       'pedigree_fun', 'age'],\n",
            "      dtype='object')\n",
            "[4 1 5 1 1 2 3 1]\n",
            "Index(['glucose_conc', 'skin_len', 'insulin', 'age'], dtype='object')\n",
            "     glucose_conc  skin_len  insulin  age\n",
            "0           148.0      35.0    169.5   50\n",
            "1            85.0      29.0    102.5   31\n",
            "2           183.0      32.0    169.5   32\n",
            "3            89.0      23.0     94.0   21\n",
            "4           137.0      35.0    168.0   33\n",
            "..            ...       ...      ...  ...\n",
            "763         101.0      27.0    180.0   27\n",
            "764         122.0      27.0    102.5   27\n",
            "765         121.0      23.0    112.0   30\n",
            "766         126.0      32.0    169.5   47\n",
            "767          93.0      31.0    102.5   23\n",
            "\n",
            "[768 rows x 4 columns]\n"
          ]
        }
      ]
    },
    {
      "cell_type": "markdown",
      "source": [
        "**SVM CLASSIFICATION SELECTED FEATURES**\n",
        "\n",
        "ACCURACY: 0.935"
      ],
      "metadata": {
        "id": "aq2oqH24VvEk"
      }
    },
    {
      "cell_type": "code",
      "source": [
        "x_train,x_test,y_train,y_test=train_test_split(X_selected,y,test_size=0.2,random_state=95)\n",
        "std = StandardScaler()\n",
        "x_train = std.fit_transform(x_train)\n",
        "x_test = std.transform(x_test)\n",
        "model=SVC(kernel='rbf')\n",
        "model.fit(x_train,y_train)\n",
        "y_pred=model.predict(x_test)\n",
        "accuracy_score(y_test,y_pred)"
      ],
      "metadata": {
        "colab": {
          "base_uri": "https://localhost:8080/"
        },
        "id": "mewBHPpSV0mk",
        "outputId": "56431264-1570-46c6-bb0d-bfade1fc0255"
      },
      "execution_count": 277,
      "outputs": [
        {
          "output_type": "execute_result",
          "data": {
            "text/plain": [
              "0.935064935064935"
            ]
          },
          "metadata": {},
          "execution_count": 277
        }
      ]
    },
    {
      "cell_type": "code",
      "source": [
        "plot_confusion_matrix(model, x_test, y_test, normalize='true')"
      ],
      "metadata": {
        "colab": {
          "base_uri": "https://localhost:8080/",
          "height": 354
        },
        "id": "o7dw918ypj3P",
        "outputId": "63593dfd-6cf7-4c52-8d85-a5015c3ab569"
      },
      "execution_count": 278,
      "outputs": [
        {
          "output_type": "stream",
          "name": "stderr",
          "text": [
            "/usr/local/lib/python3.8/dist-packages/sklearn/utils/deprecation.py:87: FutureWarning: Function plot_confusion_matrix is deprecated; Function `plot_confusion_matrix` is deprecated in 1.0 and will be removed in 1.2. Use one of the class methods: ConfusionMatrixDisplay.from_predictions or ConfusionMatrixDisplay.from_estimator.\n",
            "  warnings.warn(msg, category=FutureWarning)\n"
          ]
        },
        {
          "output_type": "execute_result",
          "data": {
            "text/plain": [
              "<sklearn.metrics._plot.confusion_matrix.ConfusionMatrixDisplay at 0x7fa17fe97460>"
            ]
          },
          "metadata": {},
          "execution_count": 278
        },
        {
          "output_type": "display_data",
          "data": {
            "text/plain": [
              "<Figure size 432x288 with 2 Axes>"
            ],
            "image/png": "[encoded data removed]"
          },
          "metadata": {}
        }
      ]
    },
    {
      "cell_type": "markdown",
      "source": [
        "**SVM-CSA CLASSIFICATION**\n",
        "\n",
        "Accuracy: 0.942"
      ],
      "metadata": {
        "id": "TgCHty_rinMN"
      }
    },
    {
      "cell_type": "code",
      "source": [
        "# Import necessary libraries\n",
        "import pandas as pd\n",
        "from sklearn import svm\n",
        "from sklearn.model_selection import train_test_split\n",
        "import numpy as np\n",
        "import math\n",
        "\n",
        "def crow_search_algorithm(X, y, max_iterations, population_size, a, b):\n",
        "    # Initialize the population of solutions\n",
        "    solutions = []\n",
        "    for i in range(population_size):\n",
        "        solutions.append(np.random.uniform(-2, 2, size=X.shape[1]))\n",
        "    \n",
        "    # Iterate over the maximum number of iterations\n",
        "    for i in range(max_iterations):\n",
        "        # Calculate the fitness of each solution\n",
        "        fitness = []\n",
        "        for solution in solutions:\n",
        "            model = svm.SVC(kernel='rbf', class_weight={0: solution[0], 1: solution[1]})\n",
        "            model.fit(X, y)\n",
        "            accuracy = model.score(X, y)\n",
        "            test = model.score(x_test, y_test)\n",
        "            print(f\"iter: {i} accuracy: {accuracy}, test: {test}\")\n",
        "            fitness.append(accuracy)\n",
        "        \n",
        "        # Sort the solutions based on their fitness\n",
        "        solutions = [solution for _, solution in sorted(zip(fitness, solutions), key=lambda pair: pair[0])]\n",
        "        \n",
        "        # Update the best solution\n",
        "        best_solution = solutions[-1]\n",
        "        \n",
        "        # Update the solutions using the Crow Search Algorithm formula\n",
        "        for j in range(population_size):\n",
        "            solution = solutions[j]\n",
        "            r = np.random.uniform(0, 1)\n",
        "            if r < a:\n",
        "                k = np.random.uniform(-1, 1)\n",
        "                # Exploit the best solution\n",
        "              \n",
        "                solution = best_solution + b*(best_solution - solution)+k\n",
        "            else:\n",
        "                # Explore the solution space\n",
        "                solution = np.random.uniform(-2, 2, size=X.shape[1])\n",
        "            solutions[j] = solution\n",
        "    \n",
        "    # Return the best solution\n",
        "    return best_solution\n",
        "\n",
        "# Load the Pima Indian Diabetes dataset\n",
        "# df = pd.read_csv('https://raw.githubusercontent.com/sheetalbongale/Diabetes-Detection-Using-Deep-Learning/main/data/pima-indians-diabetes.csv')\n",
        "\n",
        "# # Split the data into features and target\n",
        "# X = df.iloc[:, :-1]\n",
        "# y = df.iloc[:, -1]\n",
        "# for r in range(1):\n",
        "#   # Split the data into training and test sets\n",
        "\n",
        "# Optimize the SVM model weights using the Crow Search Algorithm\n",
        "best_weights = crow_search_algorithm(x_train, y_train, max_iterations=20, population_size=10, a=0.1, b=0.9)\n",
        "# Create the optimized SVM model\n",
        "model = svm.SVC(kernel='rbf', class_weight={0: best_weights[0], 1: best_weights[1]})\n",
        "# Train the model on the training data\n",
        "model.fit(x_train, y_train)\n",
        "# Test the model on the test data\n",
        "accuracy = model.score(x_test, y_test)\n",
        "# Print the accuracy of the model\n",
        "print(f'Accuracy: {accuracy:.3f}')\n"
      ],
      "metadata": {
        "colab": {
          "base_uri": "https://localhost:8080/"
        },
        "id": "LA9m2AjriaA0",
        "outputId": "07bc8558-fd00-4d57-9652-d4cdff8991f8"
      },
      "execution_count": 252,
      "outputs": [
        {
          "output_type": "stream",
          "name": "stdout",
          "text": [
            "iter: 0 accuracy: 0.3485342019543974, test: 0.35064935064935066\n",
            "iter: 0 accuracy: 0.750814332247557, test: 0.7532467532467533\n",
            "iter: 0 accuracy: 0.6514657980456026, test: 0.6493506493506493\n",
            "iter: 0 accuracy: 0.6514657980456026, test: 0.6493506493506493\n",
            "iter: 0 accuracy: 0.6514657980456026, test: 0.6493506493506493\n",
            "iter: 0 accuracy: 0.3485342019543974, test: 0.35064935064935066\n",
            "iter: 0 accuracy: 0.3485342019543974, test: 0.35064935064935066\n",
            "iter: 0 accuracy: 0.6514657980456026, test: 0.6493506493506493\n",
            "iter: 0 accuracy: 0.6514657980456026, test: 0.6493506493506493\n",
            "iter: 0 accuracy: 0.3485342019543974, test: 0.35064935064935066\n",
            "iter: 1 accuracy: 0.6514657980456026, test: 0.6493506493506493\n",
            "iter: 1 accuracy: 0.3485342019543974, test: 0.35064935064935066\n",
            "iter: 1 accuracy: 0.3485342019543974, test: 0.35064935064935066\n",
            "iter: 1 accuracy: 0.3485342019543974, test: 0.35064935064935066\n",
            "iter: 1 accuracy: 0.3485342019543974, test: 0.35064935064935066\n",
            "iter: 1 accuracy: 0.3485342019543974, test: 0.35064935064935066\n",
            "iter: 1 accuracy: 0.3485342019543974, test: 0.35064935064935066\n",
            "iter: 1 accuracy: 0.7801302931596091, test: 0.7987012987012987\n",
            "iter: 1 accuracy: 0.3485342019543974, test: 0.35064935064935066\n",
            "iter: 1 accuracy: 0.6514657980456026, test: 0.6493506493506493\n",
            "iter: 2 accuracy: 0.3485342019543974, test: 0.35064935064935066\n",
            "iter: 2 accuracy: 0.8762214983713354, test: 0.8961038961038961\n",
            "iter: 2 accuracy: 0.7231270358306189, test: 0.7727272727272727\n",
            "iter: 2 accuracy: 0.3485342019543974, test: 0.35064935064935066\n",
            "iter: 2 accuracy: 0.3485342019543974, test: 0.35064935064935066\n",
            "iter: 2 accuracy: 0.8843648208469055, test: 0.922077922077922\n",
            "iter: 2 accuracy: 0.4723127035830619, test: 0.4675324675324675\n",
            "iter: 2 accuracy: 0.6514657980456026, test: 0.6493506493506493\n",
            "iter: 2 accuracy: 0.9006514657980456, test: 0.935064935064935\n",
            "iter: 2 accuracy: 0.8485342019543974, test: 0.8571428571428571\n",
            "iter: 3 accuracy: 0.6514657980456026, test: 0.6493506493506493\n",
            "iter: 3 accuracy: 0.6514657980456026, test: 0.6493506493506493\n",
            "iter: 3 accuracy: 0.8892508143322475, test: 0.935064935064935\n",
            "iter: 3 accuracy: 0.8990228013029316, test: 0.935064935064935\n",
            "iter: 3 accuracy: 0.3485342019543974, test: 0.35064935064935066\n",
            "iter: 3 accuracy: 0.3485342019543974, test: 0.35064935064935066\n",
            "iter: 3 accuracy: 0.6514657980456026, test: 0.6493506493506493\n",
            "iter: 3 accuracy: 0.6514657980456026, test: 0.6493506493506493\n",
            "iter: 3 accuracy: 0.3485342019543974, test: 0.35064935064935066\n",
            "iter: 3 accuracy: 0.3485342019543974, test: 0.35064935064935066\n",
            "iter: 4 accuracy: 0.3485342019543974, test: 0.35064935064935066\n",
            "iter: 4 accuracy: 0.3485342019543974, test: 0.35064935064935066\n",
            "iter: 4 accuracy: 0.3485342019543974, test: 0.35064935064935066\n",
            "iter: 4 accuracy: 0.3485342019543974, test: 0.35064935064935066\n",
            "iter: 4 accuracy: 0.9120521172638436, test: 0.922077922077922\n",
            "iter: 4 accuracy: 0.3485342019543974, test: 0.35064935064935066\n",
            "iter: 4 accuracy: 0.3485342019543974, test: 0.35064935064935066\n",
            "iter: 4 accuracy: 0.8208469055374593, test: 0.8571428571428571\n",
            "iter: 4 accuracy: 0.6514657980456026, test: 0.6493506493506493\n",
            "iter: 4 accuracy: 0.3485342019543974, test: 0.35064935064935066\n",
            "iter: 5 accuracy: 0.8794788273615635, test: 0.9415584415584416\n",
            "iter: 5 accuracy: 0.3485342019543974, test: 0.35064935064935066\n",
            "iter: 5 accuracy: 0.3485342019543974, test: 0.35064935064935066\n",
            "iter: 5 accuracy: 0.8599348534201955, test: 0.9285714285714286\n",
            "iter: 5 accuracy: 0.6514657980456026, test: 0.6493506493506493\n",
            "iter: 5 accuracy: 0.3485342019543974, test: 0.35064935064935066\n",
            "iter: 5 accuracy: 0.6514657980456026, test: 0.6493506493506493\n",
            "iter: 5 accuracy: 0.3485342019543974, test: 0.35064935064935066\n",
            "iter: 5 accuracy: 0.3485342019543974, test: 0.35064935064935066\n",
            "iter: 5 accuracy: 0.6514657980456026, test: 0.6493506493506493\n",
            "iter: 6 accuracy: 0.6514657980456026, test: 0.6493506493506493\n",
            "iter: 6 accuracy: 0.3485342019543974, test: 0.35064935064935066\n",
            "iter: 6 accuracy: 0.6514657980456026, test: 0.6493506493506493\n",
            "iter: 6 accuracy: 0.6514657980456026, test: 0.6493506493506493\n",
            "iter: 6 accuracy: 0.3485342019543974, test: 0.35064935064935066\n",
            "iter: 6 accuracy: 0.6514657980456026, test: 0.6493506493506493\n",
            "iter: 6 accuracy: 0.8876221498371335, test: 0.948051948051948\n",
            "iter: 6 accuracy: 0.9022801302931596, test: 0.935064935064935\n",
            "iter: 6 accuracy: 0.3485342019543974, test: 0.35064935064935066\n",
            "iter: 6 accuracy: 0.3485342019543974, test: 0.35064935064935066\n",
            "iter: 7 accuracy: 0.3485342019543974, test: 0.35064935064935066\n",
            "iter: 7 accuracy: 0.7149837133550488, test: 0.7532467532467533\n",
            "iter: 7 accuracy: 0.3485342019543974, test: 0.35064935064935066\n",
            "iter: 7 accuracy: 0.3485342019543974, test: 0.35064935064935066\n",
            "iter: 7 accuracy: 0.9169381107491856, test: 0.922077922077922\n",
            "iter: 7 accuracy: 0.6514657980456026, test: 0.6493506493506493\n",
            "iter: 7 accuracy: 0.3485342019543974, test: 0.35064935064935066\n",
            "iter: 7 accuracy: 0.6514657980456026, test: 0.6493506493506493\n",
            "iter: 7 accuracy: 0.3485342019543974, test: 0.35064935064935066\n",
            "iter: 7 accuracy: 0.3485342019543974, test: 0.35064935064935066\n",
            "iter: 8 accuracy: 0.8876221498371335, test: 0.948051948051948\n",
            "iter: 8 accuracy: 0.760586319218241, test: 0.8116883116883117\n",
            "iter: 8 accuracy: 0.6514657980456026, test: 0.6493506493506493\n",
            "iter: 8 accuracy: 0.6514657980456026, test: 0.6493506493506493\n",
            "iter: 8 accuracy: 0.6514657980456026, test: 0.6493506493506493\n",
            "iter: 8 accuracy: 0.3485342019543974, test: 0.35064935064935066\n",
            "iter: 8 accuracy: 0.6514657980456026, test: 0.6493506493506493\n",
            "iter: 8 accuracy: 0.6514657980456026, test: 0.6493506493506493\n",
            "iter: 8 accuracy: 0.9136807817589576, test: 0.9285714285714286\n",
            "iter: 8 accuracy: 0.3485342019543974, test: 0.35064935064935066\n",
            "iter: 9 accuracy: 0.6514657980456026, test: 0.6493506493506493\n",
            "iter: 9 accuracy: 0.8973941368078175, test: 0.922077922077922\n",
            "iter: 9 accuracy: 0.3485342019543974, test: 0.35064935064935066\n",
            "iter: 9 accuracy: 0.3485342019543974, test: 0.35064935064935066\n",
            "iter: 9 accuracy: 0.8876221498371335, test: 0.948051948051948\n",
            "iter: 9 accuracy: 0.6514657980456026, test: 0.6493506493506493\n",
            "iter: 9 accuracy: 0.8925081433224755, test: 0.935064935064935\n",
            "iter: 9 accuracy: 0.9234527687296417, test: 0.935064935064935\n",
            "iter: 9 accuracy: 0.6514657980456026, test: 0.6493506493506493\n",
            "iter: 9 accuracy: 0.3485342019543974, test: 0.35064935064935066\n",
            "iter: 10 accuracy: 0.3485342019543974, test: 0.35064935064935066\n",
            "iter: 10 accuracy: 0.3485342019543974, test: 0.35064935064935066\n",
            "iter: 10 accuracy: 0.3485342019543974, test: 0.35064935064935066\n",
            "iter: 10 accuracy: 0.3485342019543974, test: 0.35064935064935066\n",
            "iter: 10 accuracy: 0.6514657980456026, test: 0.6493506493506493\n",
            "iter: 10 accuracy: 0.3485342019543974, test: 0.35064935064935066\n",
            "iter: 10 accuracy: 0.6514657980456026, test: 0.6493506493506493\n",
            "iter: 10 accuracy: 0.8322475570032574, test: 0.8311688311688312\n",
            "iter: 10 accuracy: 0.8843648208469055, test: 0.922077922077922\n",
            "iter: 10 accuracy: 0.3485342019543974, test: 0.35064935064935066\n",
            "iter: 11 accuracy: 0.3485342019543974, test: 0.35064935064935066\n",
            "iter: 11 accuracy: 0.8729641693811075, test: 0.9025974025974026\n",
            "iter: 11 accuracy: 0.6514657980456026, test: 0.6493506493506493\n",
            "iter: 11 accuracy: 0.6514657980456026, test: 0.6493506493506493\n",
            "iter: 11 accuracy: 0.3485342019543974, test: 0.35064935064935066\n",
            "iter: 11 accuracy: 0.3485342019543974, test: 0.35064935064935066\n",
            "iter: 11 accuracy: 0.8892508143322475, test: 0.935064935064935\n",
            "iter: 11 accuracy: 0.3485342019543974, test: 0.35064935064935066\n",
            "iter: 11 accuracy: 0.3485342019543974, test: 0.35064935064935066\n",
            "iter: 11 accuracy: 0.8648208469055375, test: 0.8896103896103896\n",
            "iter: 12 accuracy: 0.6514657980456026, test: 0.6493506493506493\n",
            "iter: 12 accuracy: 0.3485342019543974, test: 0.35064935064935066\n",
            "iter: 12 accuracy: 0.8762214983713354, test: 0.9025974025974026\n",
            "iter: 12 accuracy: 0.7752442996742671, test: 0.8181818181818182\n",
            "iter: 12 accuracy: 0.8892508143322475, test: 0.948051948051948\n",
            "iter: 12 accuracy: 0.6514657980456026, test: 0.6493506493506493\n",
            "iter: 12 accuracy: 0.9022801302931596, test: 0.9285714285714286\n",
            "iter: 12 accuracy: 0.6514657980456026, test: 0.6493506493506493\n",
            "iter: 12 accuracy: 0.3485342019543974, test: 0.35064935064935066\n",
            "iter: 12 accuracy: 0.3485342019543974, test: 0.35064935064935066\n",
            "iter: 13 accuracy: 0.3485342019543974, test: 0.35064935064935066\n",
            "iter: 13 accuracy: 0.3485342019543974, test: 0.35064935064935066\n",
            "iter: 13 accuracy: 0.8517915309446255, test: 0.922077922077922\n",
            "iter: 13 accuracy: 0.752442996742671, test: 0.7792207792207793\n",
            "iter: 13 accuracy: 0.6514657980456026, test: 0.6493506493506493\n",
            "iter: 13 accuracy: 0.6514657980456026, test: 0.6493506493506493\n",
            "iter: 13 accuracy: 0.3485342019543974, test: 0.35064935064935066\n",
            "iter: 13 accuracy: 0.3485342019543974, test: 0.35064935064935066\n",
            "iter: 13 accuracy: 0.6514657980456026, test: 0.6493506493506493\n",
            "iter: 13 accuracy: 0.3485342019543974, test: 0.35064935064935066\n",
            "iter: 14 accuracy: 0.3485342019543974, test: 0.35064935064935066\n",
            "iter: 14 accuracy: 0.6514657980456026, test: 0.6493506493506493\n",
            "iter: 14 accuracy: 0.7638436482084691, test: 0.8181818181818182\n",
            "iter: 14 accuracy: 0.3485342019543974, test: 0.35064935064935066\n",
            "iter: 14 accuracy: 0.6514657980456026, test: 0.6493506493506493\n",
            "iter: 14 accuracy: 0.6514657980456026, test: 0.6493506493506493\n",
            "iter: 14 accuracy: 0.3485342019543974, test: 0.35064935064935066\n",
            "iter: 14 accuracy: 0.3485342019543974, test: 0.35064935064935066\n",
            "iter: 14 accuracy: 0.3485342019543974, test: 0.35064935064935066\n",
            "iter: 14 accuracy: 0.3485342019543974, test: 0.35064935064935066\n",
            "iter: 15 accuracy: 0.3485342019543974, test: 0.35064935064935066\n",
            "iter: 15 accuracy: 0.8859934853420195, test: 0.935064935064935\n",
            "iter: 15 accuracy: 0.6514657980456026, test: 0.6493506493506493\n",
            "iter: 15 accuracy: 0.3485342019543974, test: 0.35064935064935066\n",
            "iter: 15 accuracy: 0.6514657980456026, test: 0.6493506493506493\n",
            "iter: 15 accuracy: 0.3485342019543974, test: 0.35064935064935066\n",
            "iter: 15 accuracy: 0.6514657980456026, test: 0.6493506493506493\n",
            "iter: 15 accuracy: 0.3485342019543974, test: 0.35064935064935066\n",
            "iter: 15 accuracy: 0.3485342019543974, test: 0.35064935064935066\n",
            "iter: 15 accuracy: 0.3485342019543974, test: 0.35064935064935066\n",
            "iter: 16 accuracy: 0.3485342019543974, test: 0.35064935064935066\n",
            "iter: 16 accuracy: 0.6514657980456026, test: 0.6493506493506493\n",
            "iter: 16 accuracy: 0.3485342019543974, test: 0.35064935064935066\n",
            "iter: 16 accuracy: 0.6514657980456026, test: 0.6493506493506493\n",
            "iter: 16 accuracy: 0.8159609120521173, test: 0.7987012987012987\n",
            "iter: 16 accuracy: 0.8925081433224755, test: 0.935064935064935\n",
            "iter: 16 accuracy: 0.3485342019543974, test: 0.35064935064935066\n",
            "iter: 16 accuracy: 0.6514657980456026, test: 0.6493506493506493\n",
            "iter: 16 accuracy: 0.6514657980456026, test: 0.6493506493506493\n",
            "iter: 16 accuracy: 0.8908794788273615, test: 0.9415584415584416\n",
            "iter: 17 accuracy: 0.3485342019543974, test: 0.35064935064935066\n",
            "iter: 17 accuracy: 0.9022801302931596, test: 0.9415584415584416\n",
            "iter: 17 accuracy: 0.8957654723127035, test: 0.935064935064935\n",
            "iter: 17 accuracy: 0.3485342019543974, test: 0.35064935064935066\n",
            "iter: 17 accuracy: 0.8925081433224755, test: 0.9415584415584416\n",
            "iter: 17 accuracy: 0.8941368078175895, test: 0.935064935064935\n",
            "iter: 17 accuracy: 0.3485342019543974, test: 0.35064935064935066\n",
            "iter: 17 accuracy: 0.6514657980456026, test: 0.6493506493506493\n",
            "iter: 17 accuracy: 0.6514657980456026, test: 0.6493506493506493\n",
            "iter: 17 accuracy: 0.8420195439739414, test: 0.8506493506493507\n",
            "iter: 18 accuracy: 0.3485342019543974, test: 0.35064935064935066\n",
            "iter: 18 accuracy: 0.9153094462540716, test: 0.9415584415584416\n",
            "iter: 18 accuracy: 0.8436482084690554, test: 0.9025974025974026\n",
            "iter: 18 accuracy: 0.3485342019543974, test: 0.35064935064935066\n",
            "iter: 18 accuracy: 0.6514657980456026, test: 0.6493506493506493\n",
            "iter: 18 accuracy: 0.3485342019543974, test: 0.35064935064935066\n",
            "iter: 18 accuracy: 0.3485342019543974, test: 0.35064935064935066\n",
            "iter: 18 accuracy: 0.3485342019543974, test: 0.35064935064935066\n",
            "iter: 18 accuracy: 0.3485342019543974, test: 0.35064935064935066\n",
            "iter: 18 accuracy: 0.3485342019543974, test: 0.35064935064935066\n",
            "iter: 19 accuracy: 0.3485342019543974, test: 0.35064935064935066\n",
            "iter: 19 accuracy: 0.6514657980456026, test: 0.6493506493506493\n",
            "iter: 19 accuracy: 0.9006514657980456, test: 0.9415584415584416\n",
            "iter: 19 accuracy: 0.3485342019543974, test: 0.35064935064935066\n",
            "iter: 19 accuracy: 0.8957654723127035, test: 0.9415584415584416\n",
            "iter: 19 accuracy: 0.3485342019543974, test: 0.35064935064935066\n",
            "iter: 19 accuracy: 0.6514657980456026, test: 0.6493506493506493\n",
            "iter: 19 accuracy: 0.6514657980456026, test: 0.6493506493506493\n",
            "iter: 19 accuracy: 0.8941368078175895, test: 0.9155844155844156\n",
            "iter: 19 accuracy: 0.6514657980456026, test: 0.6493506493506493\n",
            "Accuracy: 0.942\n"
          ]
        }
      ]
    },
    {
      "cell_type": "code",
      "source": [],
      "metadata": {
        "id": "ehFEvzPyopbQ"
      },
      "execution_count": null,
      "outputs": []
    },
    {
      "cell_type": "code",
      "source": [
        "import pandas as pd\n",
        "from sklearn import svm\n",
        "from sklearn.model_selection import train_test_split\n",
        "from sklearn.model_selection import learning_curve\n",
        "from sklearn.preprocessing import StandardScaler\n",
        "from sklearn.metrics import plot_confusion_matrix, plot_roc_curve\n",
        "\n",
        "svm_csa = model\n",
        "\n",
        "accuracy = model.score(x_test, y_test)\n",
        "# Print the accuracy of the model\n",
        "print(f'Accuracy: {accuracy:.2f}')\n",
        "plot_confusion_matrix(svm_csa, x_test, y_test, cmap='Blues', normalize='true')\n",
        "print(best_weights)"
      ],
      "metadata": {
        "colab": {
          "base_uri": "https://localhost:8080/",
          "height": 371
        },
        "id": "S7uFqP0gnL4h",
        "outputId": "b5c29f65-1acb-48d4-9890-19cdbff16b23"
      },
      "execution_count": 253,
      "outputs": [
        {
          "output_type": "stream",
          "name": "stdout",
          "text": [
            "Accuracy: 0.94\n",
            "[ 1.65760115  1.40264966 -1.14640625  1.6796343 ]\n"
          ]
        },
        {
          "output_type": "stream",
          "name": "stderr",
          "text": [
            "/usr/local/lib/python3.8/dist-packages/sklearn/utils/deprecation.py:87: FutureWarning: Function plot_confusion_matrix is deprecated; Function `plot_confusion_matrix` is deprecated in 1.0 and will be removed in 1.2. Use one of the class methods: ConfusionMatrixDisplay.from_predictions or ConfusionMatrixDisplay.from_estimator.\n",
            "  warnings.warn(msg, category=FutureWarning)\n"
          ]
        },
        {
          "output_type": "display_data",
          "data": {
            "text/plain": [
              "<Figure size 432x288 with 2 Axes>"
            ],
            "image/png": "[encoded data removed]"
          },
          "metadata": {}
        }
      ]
    },
    {
      "cell_type": "code",
      "source": [
        "import matplotlib.pyplot as plt\n",
        "\n",
        "def plot_curves(model,X,y):\n",
        "  plot_confusion_matrix(model, x_test, y_test, normalize='true')"
      ],
      "metadata": {
        "id": "FaQAdSzznyQs"
      },
      "execution_count": 260,
      "outputs": []
    },
    {
      "cell_type": "code",
      "source": [
        "plot_curves(svm_csa, X_selected,y)"
      ],
      "metadata": {
        "colab": {
          "base_uri": "https://localhost:8080/",
          "height": 337
        },
        "id": "ClveaKPWn0jT",
        "outputId": "061a3830-f685-4281-e164-da35669425bd"
      },
      "execution_count": 261,
      "outputs": [
        {
          "output_type": "stream",
          "name": "stderr",
          "text": [
            "/usr/local/lib/python3.8/dist-packages/sklearn/utils/deprecation.py:87: FutureWarning: Function plot_confusion_matrix is deprecated; Function `plot_confusion_matrix` is deprecated in 1.0 and will be removed in 1.2. Use one of the class methods: ConfusionMatrixDisplay.from_predictions or ConfusionMatrixDisplay.from_estimator.\n",
            "  warnings.warn(msg, category=FutureWarning)\n"
          ]
        },
        {
          "output_type": "display_data",
          "data": {
            "text/plain": [
              "<Figure size 432x288 with 2 Axes>"
            ],
            "image/png": "[encoded data removed]"
          },
          "metadata": {}
        }
      ]
    },
    {
      "cell_type": "markdown",
      "source": [
        "**SVM-CSA-BESO CLASSIFICATION**\n",
        "\n",
        "ACCURACY: 0.95\n",
        "\n",
        "\n"
      ],
      "metadata": {
        "id": "iXGGZm7uiTU-"
      }
    },
    {
      "cell_type": "code",
      "source": [
        "# Import necessary libraries\n",
        "import pandas as pd\n",
        "from sklearn import svm\n",
        "from sklearn.model_selection import train_test_split\n",
        "import numpy as np\n",
        "import math\n",
        "\n",
        "# Define the Crow Search Algorithm function\n",
        "def crow_search_algorithm(X, y, max_iterations, population_size, a, b):\n",
        "    # Initialize the population of solutions\n",
        "    r = 2\n",
        "    solutions = []\n",
        "    for i in range(population_size):\n",
        "        solutions.append(np.random.uniform(-2, 2, size=X.shape[1]))\n",
        "    #sum_solutions = solutions.copy()\n",
        "    # Iterate over the maximum number of iterations\n",
        "    for i in range(max_iterations):\n",
        "        # Calculate the fitness of each solution\n",
        "        fitness = []\n",
        "        for solution in solutions:\n",
        "            model = svm.SVC(kernel='linear', class_weight={0: solution[0], 1: solution[1]})\n",
        "            model.fit(X, y)\n",
        "            accuracy = model.score(X, y)\n",
        "            test = model.score(x_test, y_test)\n",
        "            print(\"iter: \",i,\"accuracy: \", accuracy,\"test: \",test)\n",
        "            fitness.append(accuracy)\n",
        "        # if i>0:\n",
        "        #   sum_solutions += solutions[-1]\n",
        "        # # Sort the solutions based on their fitness\n",
        "        solutions = [solution for _, solution in sorted(zip(fitness, solutions), key=lambda pair: pair[0])]\n",
        "        # Update the best solution\n",
        "        best_solution = solutions[-1]\n",
        "        # Update the solutions using the Crow Search Algorithm formula\n",
        "        for j in range(population_size):\n",
        "            solution = solutions[j]\n",
        "            random_crow = np.random.randint(population_size)\n",
        "            r = np.random.uniform(0, 1)\n",
        "            if r < a:\n",
        "                k = np.random.uniform(-1, 1)\n",
        "                # Exploit the best solution\n",
        "                #solution = best_solution + b*(best_solution - solution)+k\n",
        "                rand = np.random.uniform(-1, 1)\n",
        "                theta_i = 2*math.pi*rand\n",
        "                r_i = theta_i+4*rand\n",
        "                xr_i = r_i*math.sin(theta_i)\n",
        "                yr_i = r_i*math.cos(theta_i)\n",
        "                #print(\"ss\".sum_solutions)\n",
        "                #mean_solution = sum_solutions\n",
        "                solution = best_solution + yr_i*(best_solution - solution)+xr_i*(best_solution - solution)\n",
        "\n",
        "            else:\n",
        "                # Explore the solution space\n",
        "                solution = np.random.uniform(-3, 3, size=X.shape[1])\n",
        "            solutions[j] = solution\n",
        "       # b = b*2*math.sin(math.pi*b)\n",
        "    # Return the best solution\n",
        "    return best_solution\n",
        "\n",
        "# Load the Pima Indian Diabetes dataset\n",
        "# df = pd.read_csv('https://raw.githubusercontent.com/sheetalbongale/Diabetes-Detection-Using-Deep-Learning/main/data/pima-indians-diabetes.csv')\n",
        "\n",
        "# # Split the data into features and target\n",
        "# X = df.iloc[:, :-1]\n",
        "# y = df.iloc[:, -1]\n",
        "# for r in range(1):\n",
        "#   # Split the data into training and test sets\n",
        "\n",
        "# Optimize the SVM model weights using the Crow Search Algorithm\n",
        "best_weights = crow_search_algorithm(x_train, y_train, max_iterations=20, population_size=10, a=0.1, b=0.8)\n",
        "# Create the optimized SVM model\n",
        "model = svm.SVC(kernel='rbf', class_weight={0: best_weights[0], 1: best_weights[1]})\n",
        "# Train the model on the training data\n",
        "model.fit(x_train, y_train)\n",
        "# Test the model on the test data\n",
        "accuracy = model.score(x_test, y_test)\n",
        "# Print the accuracy of the model\n",
        "print(f'Accuracy: {accuracy:.3f}')\n"
      ],
      "metadata": {
        "colab": {
          "base_uri": "https://localhost:8080/"
        },
        "id": "IG-yu_Kxi4hd",
        "outputId": "42a8cf09-0b7a-4573-bbe0-b007ba373c8f"
      },
      "execution_count": 225,
      "outputs": [
        {
          "output_type": "stream",
          "name": "stdout",
          "text": [
            "iter:  0 accuracy:  0.7703583061889251 test:  0.7792207792207793\n",
            "iter:  0 accuracy:  0.6514657980456026 test:  0.6493506493506493\n",
            "iter:  0 accuracy:  0.3485342019543974 test:  0.35064935064935066\n",
            "iter:  0 accuracy:  0.3485342019543974 test:  0.35064935064935066\n",
            "iter:  0 accuracy:  0.3485342019543974 test:  0.35064935064935066\n",
            "iter:  0 accuracy:  0.3485342019543974 test:  0.35064935064935066\n",
            "iter:  0 accuracy:  0.8322475570032574 test:  0.8506493506493507\n",
            "iter:  0 accuracy:  0.3485342019543974 test:  0.35064935064935066\n",
            "iter:  0 accuracy:  0.3485342019543974 test:  0.35064935064935066\n",
            "iter:  0 accuracy:  0.6514657980456026 test:  0.6493506493506493\n",
            "iter:  1 accuracy:  0.6514657980456026 test:  0.6493506493506493\n",
            "iter:  1 accuracy:  0.3485342019543974 test:  0.35064935064935066\n",
            "iter:  1 accuracy:  0.8257328990228013 test:  0.8506493506493507\n",
            "iter:  1 accuracy:  0.8420195439739414 test:  0.8441558441558441\n",
            "iter:  1 accuracy:  0.6514657980456026 test:  0.6493506493506493\n",
            "iter:  1 accuracy:  0.8224755700325733 test:  0.8376623376623377\n",
            "iter:  1 accuracy:  0.6938110749185668 test:  0.7077922077922078\n",
            "iter:  1 accuracy:  0.6514657980456026 test:  0.6493506493506493\n",
            "iter:  1 accuracy:  0.3485342019543974 test:  0.35064935064935066\n",
            "iter:  1 accuracy:  0.3485342019543974 test:  0.35064935064935066\n",
            "iter:  2 accuracy:  0.6742671009771987 test:  0.6753246753246753\n",
            "iter:  2 accuracy:  0.3485342019543974 test:  0.35064935064935066\n",
            "iter:  2 accuracy:  0.3485342019543974 test:  0.35064935064935066\n",
            "iter:  2 accuracy:  0.6514657980456026 test:  0.6493506493506493\n",
            "iter:  2 accuracy:  0.3485342019543974 test:  0.35064935064935066\n",
            "iter:  2 accuracy:  0.6514657980456026 test:  0.6493506493506493\n",
            "iter:  2 accuracy:  0.6514657980456026 test:  0.6493506493506493\n",
            "iter:  2 accuracy:  0.3485342019543974 test:  0.35064935064935066\n",
            "iter:  2 accuracy:  0.6514657980456026 test:  0.6493506493506493\n",
            "iter:  2 accuracy:  0.3485342019543974 test:  0.35064935064935066\n",
            "iter:  3 accuracy:  0.8257328990228013 test:  0.8376623376623377\n",
            "iter:  3 accuracy:  0.7166123778501629 test:  0.7272727272727273\n",
            "iter:  3 accuracy:  0.3485342019543974 test:  0.35064935064935066\n",
            "iter:  3 accuracy:  0.6514657980456026 test:  0.6493506493506493\n",
            "iter:  3 accuracy:  0.6514657980456026 test:  0.6493506493506493\n",
            "iter:  3 accuracy:  0.3485342019543974 test:  0.35064935064935066\n",
            "iter:  3 accuracy:  0.6514657980456026 test:  0.6493506493506493\n",
            "iter:  3 accuracy:  0.3485342019543974 test:  0.35064935064935066\n",
            "iter:  3 accuracy:  0.3485342019543974 test:  0.35064935064935066\n",
            "iter:  3 accuracy:  0.3485342019543974 test:  0.35064935064935066\n",
            "iter:  4 accuracy:  0.3485342019543974 test:  0.35064935064935066\n",
            "iter:  4 accuracy:  0.6514657980456026 test:  0.6493506493506493\n",
            "iter:  4 accuracy:  0.6514657980456026 test:  0.6493506493506493\n",
            "iter:  4 accuracy:  0.3485342019543974 test:  0.35064935064935066\n",
            "iter:  4 accuracy:  0.8485342019543974 test:  0.8506493506493507\n",
            "iter:  4 accuracy:  0.755700325732899 test:  0.7532467532467533\n",
            "iter:  4 accuracy:  0.3485342019543974 test:  0.35064935064935066\n",
            "iter:  4 accuracy:  0.8485342019543974 test:  0.8506493506493507\n",
            "iter:  4 accuracy:  0.3485342019543974 test:  0.35064935064935066\n",
            "iter:  4 accuracy:  0.6514657980456026 test:  0.6493506493506493\n",
            "iter:  5 accuracy:  0.3485342019543974 test:  0.35064935064935066\n",
            "iter:  5 accuracy:  0.3485342019543974 test:  0.35064935064935066\n",
            "iter:  5 accuracy:  0.3485342019543974 test:  0.35064935064935066\n",
            "iter:  5 accuracy:  0.3485342019543974 test:  0.35064935064935066\n",
            "iter:  5 accuracy:  0.6514657980456026 test:  0.6493506493506493\n",
            "iter:  5 accuracy:  0.6514657980456026 test:  0.6493506493506493\n",
            "iter:  5 accuracy:  0.3485342019543974 test:  0.35064935064935066\n",
            "iter:  5 accuracy:  0.3485342019543974 test:  0.35064935064935066\n",
            "iter:  5 accuracy:  0.3485342019543974 test:  0.35064935064935066\n",
            "iter:  5 accuracy:  0.3485342019543974 test:  0.35064935064935066\n",
            "iter:  6 accuracy:  0.3485342019543974 test:  0.35064935064935066\n",
            "iter:  6 accuracy:  0.3485342019543974 test:  0.35064935064935066\n",
            "iter:  6 accuracy:  0.6514657980456026 test:  0.6493506493506493\n",
            "iter:  6 accuracy:  0.3485342019543974 test:  0.35064935064935066\n",
            "iter:  6 accuracy:  0.6514657980456026 test:  0.6493506493506493\n",
            "iter:  6 accuracy:  0.8306188925081434 test:  0.8506493506493507\n",
            "iter:  6 accuracy:  0.3485342019543974 test:  0.35064935064935066\n",
            "iter:  6 accuracy:  0.6514657980456026 test:  0.6493506493506493\n",
            "iter:  6 accuracy:  0.6514657980456026 test:  0.6493506493506493\n",
            "iter:  6 accuracy:  0.3485342019543974 test:  0.35064935064935066\n",
            "iter:  7 accuracy:  0.3485342019543974 test:  0.35064935064935066\n",
            "iter:  7 accuracy:  0.3485342019543974 test:  0.35064935064935066\n",
            "iter:  7 accuracy:  0.8452768729641694 test:  0.8571428571428571\n",
            "iter:  7 accuracy:  0.6514657980456026 test:  0.6493506493506493\n",
            "iter:  7 accuracy:  0.3485342019543974 test:  0.35064935064935066\n",
            "iter:  7 accuracy:  0.3485342019543974 test:  0.35064935064935066\n",
            "iter:  7 accuracy:  0.3485342019543974 test:  0.35064935064935066\n",
            "iter:  7 accuracy:  0.3485342019543974 test:  0.35064935064935066\n",
            "iter:  7 accuracy:  0.6514657980456026 test:  0.6493506493506493\n",
            "iter:  7 accuracy:  0.3485342019543974 test:  0.35064935064935066\n",
            "iter:  8 accuracy:  0.6514657980456026 test:  0.6493506493506493\n",
            "iter:  8 accuracy:  0.8289902280130294 test:  0.8376623376623377\n",
            "iter:  8 accuracy:  0.3485342019543974 test:  0.35064935064935066\n",
            "iter:  8 accuracy:  0.7214983713355049 test:  0.7337662337662337\n",
            "iter:  8 accuracy:  0.6514657980456026 test:  0.6493506493506493\n",
            "iter:  8 accuracy:  0.6514657980456026 test:  0.6493506493506493\n",
            "iter:  8 accuracy:  0.760586319218241 test:  0.8376623376623377\n",
            "iter:  8 accuracy:  0.6514657980456026 test:  0.6493506493506493\n",
            "iter:  8 accuracy:  0.6514657980456026 test:  0.6493506493506493\n",
            "iter:  8 accuracy:  0.3485342019543974 test:  0.35064935064935066\n",
            "iter:  9 accuracy:  0.8403908794788274 test:  0.8636363636363636\n",
            "iter:  9 accuracy:  0.6514657980456026 test:  0.6493506493506493\n",
            "iter:  9 accuracy:  0.3485342019543974 test:  0.35064935064935066\n",
            "iter:  9 accuracy:  0.6514657980456026 test:  0.6493506493506493\n",
            "iter:  9 accuracy:  0.3485342019543974 test:  0.35064935064935066\n",
            "iter:  9 accuracy:  0.752442996742671 test:  0.7987012987012987\n",
            "iter:  9 accuracy:  0.6514657980456026 test:  0.6493506493506493\n",
            "iter:  9 accuracy:  0.6514657980456026 test:  0.6493506493506493\n",
            "iter:  9 accuracy:  0.8289902280130294 test:  0.8376623376623377\n",
            "iter:  9 accuracy:  0.6514657980456026 test:  0.6493506493506493\n",
            "iter:  10 accuracy:  0.3485342019543974 test:  0.35064935064935066\n",
            "iter:  10 accuracy:  0.8420195439739414 test:  0.8506493506493507\n",
            "iter:  10 accuracy:  0.3485342019543974 test:  0.35064935064935066\n",
            "iter:  10 accuracy:  0.6514657980456026 test:  0.6493506493506493\n",
            "iter:  10 accuracy:  0.7817589576547231 test:  0.8311688311688312\n",
            "iter:  10 accuracy:  0.3485342019543974 test:  0.35064935064935066\n",
            "iter:  10 accuracy:  0.8420195439739414 test:  0.8571428571428571\n",
            "iter:  10 accuracy:  0.3485342019543974 test:  0.35064935064935066\n",
            "iter:  10 accuracy:  0.3485342019543974 test:  0.35064935064935066\n",
            "iter:  10 accuracy:  0.3485342019543974 test:  0.35064935064935066\n",
            "iter:  11 accuracy:  0.8371335504885994 test:  0.8441558441558441\n",
            "iter:  11 accuracy:  0.8257328990228013 test:  0.8506493506493507\n",
            "iter:  11 accuracy:  0.7785016286644951 test:  0.8246753246753247\n",
            "iter:  11 accuracy:  0.3485342019543974 test:  0.35064935064935066\n",
            "iter:  11 accuracy:  0.6514657980456026 test:  0.6493506493506493\n",
            "iter:  11 accuracy:  0.8501628664495114 test:  0.8506493506493507\n",
            "iter:  11 accuracy:  0.7182410423452769 test:  0.7337662337662337\n",
            "iter:  11 accuracy:  0.3485342019543974 test:  0.35064935064935066\n",
            "iter:  11 accuracy:  0.3485342019543974 test:  0.35064935064935066\n",
            "iter:  11 accuracy:  0.3485342019543974 test:  0.35064935064935066\n",
            "iter:  12 accuracy:  0.6514657980456026 test:  0.6493506493506493\n",
            "iter:  12 accuracy:  0.8371335504885994 test:  0.8441558441558441\n",
            "iter:  12 accuracy:  0.6514657980456026 test:  0.6493506493506493\n",
            "iter:  12 accuracy:  0.3485342019543974 test:  0.35064935064935066\n",
            "iter:  12 accuracy:  0.3485342019543974 test:  0.35064935064935066\n",
            "iter:  12 accuracy:  0.3485342019543974 test:  0.35064935064935066\n",
            "iter:  12 accuracy:  0.8550488599348535 test:  0.8506493506493507\n",
            "iter:  12 accuracy:  0.8517915309446255 test:  0.8571428571428571\n",
            "iter:  12 accuracy:  0.3485342019543974 test:  0.35064935064935066\n",
            "iter:  12 accuracy:  0.3485342019543974 test:  0.35064935064935066\n",
            "iter:  13 accuracy:  0.3485342019543974 test:  0.35064935064935066\n",
            "iter:  13 accuracy:  0.3485342019543974 test:  0.35064935064935066\n",
            "iter:  13 accuracy:  0.8469055374592834 test:  0.8571428571428571\n",
            "iter:  13 accuracy:  0.6514657980456026 test:  0.6493506493506493\n",
            "iter:  13 accuracy:  0.8485342019543974 test:  0.8571428571428571\n",
            "iter:  13 accuracy:  0.3485342019543974 test:  0.35064935064935066\n",
            "iter:  13 accuracy:  0.8534201954397395 test:  0.8506493506493507\n",
            "iter:  13 accuracy:  0.3485342019543974 test:  0.35064935064935066\n",
            "iter:  13 accuracy:  0.8469055374592834 test:  0.8571428571428571\n",
            "iter:  13 accuracy:  0.3485342019543974 test:  0.35064935064935066\n",
            "iter:  14 accuracy:  0.3485342019543974 test:  0.35064935064935066\n",
            "iter:  14 accuracy:  0.7915309446254072 test:  0.8441558441558441\n",
            "iter:  14 accuracy:  0.3485342019543974 test:  0.35064935064935066\n",
            "iter:  14 accuracy:  0.3485342019543974 test:  0.35064935064935066\n",
            "iter:  14 accuracy:  0.6514657980456026 test:  0.6493506493506493\n",
            "iter:  14 accuracy:  0.8420195439739414 test:  0.8441558441558441\n",
            "iter:  14 accuracy:  0.3485342019543974 test:  0.35064935064935066\n",
            "iter:  14 accuracy:  0.3485342019543974 test:  0.35064935064935066\n",
            "iter:  14 accuracy:  0.3485342019543974 test:  0.35064935064935066\n",
            "iter:  14 accuracy:  0.8355048859934854 test:  0.8441558441558441\n",
            "iter:  15 accuracy:  0.6514657980456026 test:  0.6493506493506493\n",
            "iter:  15 accuracy:  0.6514657980456026 test:  0.6493506493506493\n",
            "iter:  15 accuracy:  0.3485342019543974 test:  0.35064935064935066\n",
            "iter:  15 accuracy:  0.6514657980456026 test:  0.6493506493506493\n",
            "iter:  15 accuracy:  0.3485342019543974 test:  0.35064935064935066\n",
            "iter:  15 accuracy:  0.3485342019543974 test:  0.35064935064935066\n",
            "iter:  15 accuracy:  0.8371335504885994 test:  0.8506493506493507\n",
            "iter:  15 accuracy:  0.3485342019543974 test:  0.35064935064935066\n",
            "iter:  15 accuracy:  0.3485342019543974 test:  0.35064935064935066\n",
            "iter:  15 accuracy:  0.8306188925081434 test:  0.8506493506493507\n",
            "iter:  16 accuracy:  0.7866449511400652 test:  0.8376623376623377\n",
            "iter:  16 accuracy:  0.3485342019543974 test:  0.35064935064935066\n",
            "iter:  16 accuracy:  0.8420195439739414 test:  0.8571428571428571\n",
            "iter:  16 accuracy:  0.3485342019543974 test:  0.35064935064935066\n",
            "iter:  16 accuracy:  0.8550488599348535 test:  0.8571428571428571\n",
            "iter:  16 accuracy:  0.6514657980456026 test:  0.6493506493506493\n",
            "iter:  16 accuracy:  0.6514657980456026 test:  0.6493506493506493\n",
            "iter:  16 accuracy:  0.3485342019543974 test:  0.35064935064935066\n",
            "iter:  16 accuracy:  0.3485342019543974 test:  0.35064935064935066\n",
            "iter:  16 accuracy:  0.8371335504885994 test:  0.8506493506493507\n",
            "iter:  17 accuracy:  0.6514657980456026 test:  0.6493506493506493\n",
            "iter:  17 accuracy:  0.3485342019543974 test:  0.35064935064935066\n",
            "iter:  17 accuracy:  0.6514657980456026 test:  0.6493506493506493\n",
            "iter:  17 accuracy:  0.745928338762215 test:  0.7337662337662337\n",
            "iter:  17 accuracy:  0.3485342019543974 test:  0.35064935064935066\n",
            "iter:  17 accuracy:  0.3485342019543974 test:  0.35064935064935066\n",
            "iter:  17 accuracy:  0.7980456026058632 test:  0.8441558441558441\n",
            "iter:  17 accuracy:  0.3485342019543974 test:  0.35064935064935066\n",
            "iter:  17 accuracy:  0.3485342019543974 test:  0.35064935064935066\n",
            "iter:  17 accuracy:  0.8045602605863192 test:  0.8116883116883117\n",
            "iter:  18 accuracy:  0.3485342019543974 test:  0.35064935064935066\n",
            "iter:  18 accuracy:  0.7850162866449512 test:  0.8376623376623377\n",
            "iter:  18 accuracy:  0.6514657980456026 test:  0.6493506493506493\n",
            "iter:  18 accuracy:  0.8224755700325733 test:  0.8376623376623377\n",
            "iter:  18 accuracy:  0.3485342019543974 test:  0.35064935064935066\n",
            "iter:  18 accuracy:  0.3485342019543974 test:  0.35064935064935066\n",
            "iter:  18 accuracy:  0.6514657980456026 test:  0.6493506493506493\n",
            "iter:  18 accuracy:  0.3485342019543974 test:  0.35064935064935066\n",
            "iter:  18 accuracy:  0.3485342019543974 test:  0.35064935064935066\n",
            "iter:  18 accuracy:  0.3485342019543974 test:  0.35064935064935066\n",
            "iter:  19 accuracy:  0.3485342019543974 test:  0.35064935064935066\n",
            "iter:  19 accuracy:  0.3485342019543974 test:  0.35064935064935066\n",
            "iter:  19 accuracy:  0.8289902280130294 test:  0.8376623376623377\n",
            "iter:  19 accuracy:  0.3485342019543974 test:  0.35064935064935066\n",
            "iter:  19 accuracy:  0.6514657980456026 test:  0.6493506493506493\n",
            "iter:  19 accuracy:  0.8110749185667753 test:  0.8116883116883117\n",
            "iter:  19 accuracy:  0.6514657980456026 test:  0.6493506493506493\n",
            "iter:  19 accuracy:  0.6514657980456026 test:  0.6493506493506493\n",
            "iter:  19 accuracy:  0.7899022801302932 test:  0.8116883116883117\n",
            "iter:  19 accuracy:  0.6514657980456026 test:  0.6493506493506493\n",
            "Accuracy: 0.948\n"
          ]
        }
      ]
    },
    {
      "cell_type": "code",
      "source": [
        "import pandas as pd\n",
        "from sklearn import svm\n",
        "from sklearn.model_selection import train_test_split\n",
        "from sklearn.model_selection import learning_curve\n",
        "from sklearn.preprocessing import StandardScaler\n",
        "from sklearn.metrics import plot_confusion_matrix, plot_roc_curve\n",
        "\n",
        "svm_csa_beso = model\n",
        "\n",
        "accuracy = model.score(x_test, y_test)\n",
        "# Print the accuracy of the model\n",
        "print(f'Accuracy: {accuracy:.2f}')\n",
        "plot_confusion_matrix(svm_csa_beso, x_test, y_test, cmap='Blues', normalize='true')\n",
        "print(best_weights)"
      ],
      "metadata": {
        "colab": {
          "base_uri": "https://localhost:8080/",
          "height": 371
        },
        "id": "5vsgDTdMlFqs",
        "outputId": "3bd7aee6-6287-48f8-a798-cf7af3cc974e"
      },
      "execution_count": 241,
      "outputs": [
        {
          "output_type": "stream",
          "name": "stdout",
          "text": [
            "Accuracy: 0.95\n",
            "[ 1.90884817  1.30847572 -1.43494883 -2.62415266]\n"
          ]
        },
        {
          "output_type": "stream",
          "name": "stderr",
          "text": [
            "/usr/local/lib/python3.8/dist-packages/sklearn/utils/deprecation.py:87: FutureWarning: Function plot_confusion_matrix is deprecated; Function `plot_confusion_matrix` is deprecated in 1.0 and will be removed in 1.2. Use one of the class methods: ConfusionMatrixDisplay.from_predictions or ConfusionMatrixDisplay.from_estimator.\n",
            "  warnings.warn(msg, category=FutureWarning)\n"
          ]
        },
        {
          "output_type": "display_data",
          "data": {
            "text/plain": [
              "<Figure size 432x288 with 2 Axes>"
            ],
            "image/png": "[encoded data removed]"
          },
          "metadata": {}
        }
      ]
    },
    {
      "cell_type": "code",
      "source": [
        "plot_curves(svm_csa_beso,X_selected,y)"
      ],
      "metadata": {
        "colab": {
          "base_uri": "https://localhost:8080/",
          "height": 337
        },
        "id": "xb_3UdGhoSEH",
        "outputId": "f3e9d7a8-e7e0-432f-d8ca-caf8edd1ee53"
      },
      "execution_count": 262,
      "outputs": [
        {
          "output_type": "stream",
          "name": "stderr",
          "text": [
            "/usr/local/lib/python3.8/dist-packages/sklearn/utils/deprecation.py:87: FutureWarning: Function plot_confusion_matrix is deprecated; Function `plot_confusion_matrix` is deprecated in 1.0 and will be removed in 1.2. Use one of the class methods: ConfusionMatrixDisplay.from_predictions or ConfusionMatrixDisplay.from_estimator.\n",
            "  warnings.warn(msg, category=FutureWarning)\n"
          ]
        },
        {
          "output_type": "display_data",
          "data": {
            "text/plain": [
              "<Figure size 432x288 with 2 Axes>"
            ],
            "image/png": "[encoded data removed]"
          },
          "metadata": {}
        }
      ]
    },
    {
      "cell_type": "markdown",
      "source": [
        "## SVM With Linear Kernel"
      ],
      "metadata": {
        "id": "C_01M35iRcA_"
      }
    },
    {
      "cell_type": "code",
      "source": [],
      "metadata": {
        "id": "fCm_RWaYUc5E"
      },
      "execution_count": null,
      "outputs": []
    },
    {
      "cell_type": "code",
      "source": [
        "model=SVC(kernel='linear')\n",
        "model.fit(x_train,y_train)"
      ],
      "metadata": {
        "trusted": true,
        "colab": {
          "base_uri": "https://localhost:8080/"
        },
        "id": "x68OYnshRcA_",
        "outputId": "27b9076d-1f1e-4dce-dc64-292a6d0a6c6a"
      },
      "execution_count": 62,
      "outputs": [
        {
          "output_type": "execute_result",
          "data": {
            "text/plain": [
              "SVC(kernel='linear')"
            ]
          },
          "metadata": {},
          "execution_count": 62
        }
      ]
    },
    {
      "cell_type": "code",
      "source": [
        "y_pred=model.predict(x_test)"
      ],
      "metadata": {
        "trusted": true,
        "id": "ldGEctmYRcA_"
      },
      "execution_count": 63,
      "outputs": []
    },
    {
      "cell_type": "code",
      "source": [
        "accuracy_score(y_test,y_pred)"
      ],
      "metadata": {
        "trusted": true,
        "colab": {
          "base_uri": "https://localhost:8080/"
        },
        "id": "mZCTNNHdRcA_",
        "outputId": "2ac6896e-e0ac-478e-ec36-58b31f042783"
      },
      "execution_count": 64,
      "outputs": [
        {
          "output_type": "execute_result",
          "data": {
            "text/plain": [
              "0.8961038961038961"
            ]
          },
          "metadata": {},
          "execution_count": 64
        }
      ]
    },
    {
      "cell_type": "code",
      "source": [
        "confusion_matrix(y_test,y_pred)"
      ],
      "metadata": {
        "trusted": true,
        "colab": {
          "base_uri": "https://localhost:8080/"
        },
        "id": "x3dzHTtjRcA_",
        "outputId": "f95604c4-9c27-4448-be52-9d3a878dc1bd"
      },
      "execution_count": 65,
      "outputs": [
        {
          "output_type": "execute_result",
          "data": {
            "text/plain": [
              "array([[96, 11],\n",
              "       [ 5, 42]])"
            ]
          },
          "metadata": {},
          "execution_count": 65
        }
      ]
    },
    {
      "cell_type": "code",
      "source": [
        "print(classification_report(y_test,y_pred))"
      ],
      "metadata": {
        "trusted": true,
        "colab": {
          "base_uri": "https://localhost:8080/"
        },
        "id": "s7SpdCoIRcA_",
        "outputId": "87c77830-0941-4715-c51f-53828a57d444"
      },
      "execution_count": 66,
      "outputs": [
        {
          "output_type": "stream",
          "name": "stdout",
          "text": [
            "              precision    recall  f1-score   support\n",
            "\n",
            "           0       0.95      0.90      0.92       107\n",
            "           1       0.79      0.89      0.84        47\n",
            "\n",
            "    accuracy                           0.90       154\n",
            "   macro avg       0.87      0.90      0.88       154\n",
            "weighted avg       0.90      0.90      0.90       154\n",
            "\n"
          ]
        }
      ]
    },
    {
      "cell_type": "code",
      "source": [
        "fpr,tpr,_=roc_curve(y_test,y_pred)\n",
        "#calculate AUC\n",
        "roc_auc=auc(fpr,tpr)\n",
        "print('ROC AUC: %0.2f' % roc_auc)\n",
        "#plot of ROC curve for a specified class\n",
        "plt.figure()\n",
        "plt.plot(fpr,tpr,label='ROC curve(area= %2.f)' %roc_auc)\n",
        "plt.plot([0,1],[0,1],'k--')\n",
        "plt.xlim([0.0,1.0])\n",
        "plt.ylim([0.0,1.05])\n",
        "plt.xlabel('False positive rate')\n",
        "plt.ylabel('True positive rate')\n",
        "plt.title('ROC curve')\n",
        "plt.legend(loc='lower right')\n",
        "plt.grid()\n",
        "plt.show()"
      ],
      "metadata": {
        "trusted": true,
        "colab": {
          "base_uri": "https://localhost:8080/",
          "height": 316
        },
        "id": "iOlcvfsiRcA_",
        "outputId": "dc1ad220-51ab-4e90-b927-7c88a98eb2bb"
      },
      "execution_count": 67,
      "outputs": [
        {
          "output_type": "stream",
          "name": "stdout",
          "text": [
            "ROC AUC: 0.90\n"
          ]
        },
        {
          "output_type": "display_data",
          "data": {
            "text/plain": [
              "<Figure size 432x288 with 1 Axes>"
            ],
            "image/png": "[encoded data removed]"
          },
          "metadata": {}
        }
      ]
    },
    {
      "cell_type": "markdown",
      "source": [
        "## Artificial Neural Networks"
      ],
      "metadata": {
        "id": "DvaCkCuzRcBC"
      }
    },
    {
      "cell_type": "code",
      "source": [
        "model = Sequential()\n",
        "model.add(Dense(32,input_shape=(x_train.shape[1],)))\n",
        "model.add(Activation('relu'))\n",
        "model.add(Dense(64,input_shape=(x_train.shape[1],)))\n",
        "model.add(Activation('relu'))\n",
        "model.add(Dense(64,input_shape=(x_train.shape[1],)))\n",
        "model.add(Activation('relu'))\n",
        "model.add(Dense(128,input_shape=(x_train.shape[1],)))\n",
        "model.add(Activation('relu'))\n",
        "model.add(Dense(128,input_shape=(x_train.shape[1],)))\n",
        "model.add(Activation('relu'))\n",
        "model.add(Dense(256,input_shape=(x_train.shape[1],)))\n",
        "model.add(Activation('relu'))\n",
        "model.add(Dense(256,input_shape=(x_train.shape[1],)))\n",
        "model.add(Activation('relu'))\n",
        "model.add(Dense(2))\n",
        "model.add(Activation('softmax'))"
      ],
      "metadata": {
        "trusted": true,
        "id": "BvuvSDhDRcBC"
      },
      "execution_count": 164,
      "outputs": []
    },
    {
      "cell_type": "code",
      "source": [
        "print(model.summary())\n",
        "model.compile(loss='sparse_categorical_crossentropy',\n",
        "              optimizer=\"sgd\",metrics=['accuracy'])\n",
        "model.fit(x_train, y_train, batch_size=10, epochs=50, verbose=1, validation_data=(x_test, y_test))\n",
        "loss, accuracy = model.evaluate(x_test,y_test, verbose=0)\n",
        "print(\"Loss : \"+str(loss))\n",
        "print(\"Accuracy :\"+str(accuracy*100.0))"
      ],
      "metadata": {
        "trusted": true,
        "colab": {
          "base_uri": "https://localhost:8080/"
        },
        "id": "8PfFXU4nRcBD",
        "outputId": "eb76d478-7eb8-4bc0-a07f-e5dd8a27209b"
      },
      "execution_count": 165,
      "outputs": [
        {
          "output_type": "stream",
          "name": "stdout",
          "text": [
            "Model: \"sequential_1\"\n",
            "_________________________________________________________________\n",
            " Layer (type)                Output Shape              Param #   \n",
            "=================================================================\n",
            " dense_8 (Dense)             (None, 32)                160       \n",
            "                                                                 \n",
            " activation_8 (Activation)   (None, 32)                0         \n",
            "                                                                 \n",
            " dense_9 (Dense)             (None, 64)                2112      \n",
            "                                                                 \n",
            " activation_9 (Activation)   (None, 64)                0         \n",
            "                                                                 \n",
            " dense_10 (Dense)            (None, 64)                4160      \n",
            "                                                                 \n",
            " activation_10 (Activation)  (None, 64)                0         \n",
            "                                                                 \n",
            " dense_11 (Dense)            (None, 128)               8320      \n",
            "                                                                 \n",
            " activation_11 (Activation)  (None, 128)               0         \n",
            "                                                                 \n",
            " dense_12 (Dense)            (None, 128)               16512     \n",
            "                                                                 \n",
            " activation_12 (Activation)  (None, 128)               0         \n",
            "                                                                 \n",
            " dense_13 (Dense)            (None, 256)               33024     \n",
            "                                                                 \n",
            " activation_13 (Activation)  (None, 256)               0         \n",
            "                                                                 \n",
            " dense_14 (Dense)            (None, 256)               65792     \n",
            "                                                                 \n",
            " activation_14 (Activation)  (None, 256)               0         \n",
            "                                                                 \n",
            " dense_15 (Dense)            (None, 2)                 514       \n",
            "                                                                 \n",
            " activation_15 (Activation)  (None, 2)                 0         \n",
            "                                                                 \n",
            "=================================================================\n",
            "Total params: 130,594\n",
            "Trainable params: 130,594\n",
            "Non-trainable params: 0\n",
            "_________________________________________________________________\n",
            "None\n",
            "Epoch 1/50\n",
            "62/62 [==============================] - 1s 8ms/step - loss: 0.6657 - accuracy: 0.6498 - val_loss: 0.6426 - val_accuracy: 0.6494\n",
            "Epoch 2/50\n",
            "62/62 [==============================] - 0s 4ms/step - loss: 0.6315 - accuracy: 0.6515 - val_loss: 0.6155 - val_accuracy: 0.6494\n",
            "Epoch 3/50\n",
            "62/62 [==============================] - 0s 5ms/step - loss: 0.6056 - accuracy: 0.6515 - val_loss: 0.5835 - val_accuracy: 0.6494\n",
            "Epoch 4/50\n",
            "62/62 [==============================] - 0s 5ms/step - loss: 0.5710 - accuracy: 0.6629 - val_loss: 0.5402 - val_accuracy: 0.7208\n",
            "Epoch 5/50\n",
            "62/62 [==============================] - 0s 5ms/step - loss: 0.5243 - accuracy: 0.7541 - val_loss: 0.4803 - val_accuracy: 0.8442\n",
            "Epoch 6/50\n",
            "62/62 [==============================] - 0s 5ms/step - loss: 0.4700 - accuracy: 0.8241 - val_loss: 0.4251 - val_accuracy: 0.8701\n",
            "Epoch 7/50\n",
            "62/62 [==============================] - 0s 4ms/step - loss: 0.4261 - accuracy: 0.8469 - val_loss: 0.3837 - val_accuracy: 0.8636\n",
            "Epoch 8/50\n",
            "62/62 [==============================] - 0s 5ms/step - loss: 0.3988 - accuracy: 0.8420 - val_loss: 0.3635 - val_accuracy: 0.8636\n",
            "Epoch 9/50\n",
            "62/62 [==============================] - 0s 5ms/step - loss: 0.3845 - accuracy: 0.8469 - val_loss: 0.3478 - val_accuracy: 0.8636\n",
            "Epoch 10/50\n",
            "62/62 [==============================] - 0s 5ms/step - loss: 0.3753 - accuracy: 0.8518 - val_loss: 0.3307 - val_accuracy: 0.8766\n",
            "Epoch 11/50\n",
            "62/62 [==============================] - 0s 5ms/step - loss: 0.3663 - accuracy: 0.8518 - val_loss: 0.3415 - val_accuracy: 0.8571\n",
            "Epoch 12/50\n",
            "62/62 [==============================] - 0s 5ms/step - loss: 0.3560 - accuracy: 0.8632 - val_loss: 0.3124 - val_accuracy: 0.9026\n",
            "Epoch 13/50\n",
            "62/62 [==============================] - 0s 5ms/step - loss: 0.3549 - accuracy: 0.8550 - val_loss: 0.3201 - val_accuracy: 0.8636\n",
            "Epoch 14/50\n",
            "62/62 [==============================] - 0s 5ms/step - loss: 0.3459 - accuracy: 0.8583 - val_loss: 0.3167 - val_accuracy: 0.8636\n",
            "Epoch 15/50\n",
            "62/62 [==============================] - 0s 5ms/step - loss: 0.3375 - accuracy: 0.8648 - val_loss: 0.3033 - val_accuracy: 0.8701\n",
            "Epoch 16/50\n",
            "62/62 [==============================] - 0s 5ms/step - loss: 0.3296 - accuracy: 0.8681 - val_loss: 0.2817 - val_accuracy: 0.8896\n",
            "Epoch 17/50\n",
            "62/62 [==============================] - 0s 5ms/step - loss: 0.3261 - accuracy: 0.8583 - val_loss: 0.2900 - val_accuracy: 0.8766\n",
            "Epoch 18/50\n",
            "62/62 [==============================] - 0s 5ms/step - loss: 0.3196 - accuracy: 0.8648 - val_loss: 0.2752 - val_accuracy: 0.8896\n",
            "Epoch 19/50\n",
            "62/62 [==============================] - 0s 5ms/step - loss: 0.3131 - accuracy: 0.8648 - val_loss: 0.2675 - val_accuracy: 0.8961\n",
            "Epoch 20/50\n",
            "62/62 [==============================] - 0s 5ms/step - loss: 0.3055 - accuracy: 0.8811 - val_loss: 0.2683 - val_accuracy: 0.8896\n",
            "Epoch 21/50\n",
            "62/62 [==============================] - 0s 5ms/step - loss: 0.3013 - accuracy: 0.8779 - val_loss: 0.2450 - val_accuracy: 0.9026\n",
            "Epoch 22/50\n",
            "62/62 [==============================] - 0s 5ms/step - loss: 0.2931 - accuracy: 0.8730 - val_loss: 0.2574 - val_accuracy: 0.9416\n",
            "Epoch 23/50\n",
            "62/62 [==============================] - 0s 5ms/step - loss: 0.2877 - accuracy: 0.8681 - val_loss: 0.2487 - val_accuracy: 0.9351\n",
            "Epoch 24/50\n",
            "62/62 [==============================] - 0s 5ms/step - loss: 0.2850 - accuracy: 0.8860 - val_loss: 0.2335 - val_accuracy: 0.9156\n",
            "Epoch 25/50\n",
            "62/62 [==============================] - 0s 5ms/step - loss: 0.2811 - accuracy: 0.8811 - val_loss: 0.2342 - val_accuracy: 0.9286\n",
            "Epoch 26/50\n",
            "62/62 [==============================] - 0s 5ms/step - loss: 0.2747 - accuracy: 0.8860 - val_loss: 0.2398 - val_accuracy: 0.9416\n",
            "Epoch 27/50\n",
            "62/62 [==============================] - 0s 5ms/step - loss: 0.2697 - accuracy: 0.8893 - val_loss: 0.2357 - val_accuracy: 0.9351\n",
            "Epoch 28/50\n",
            "62/62 [==============================] - 0s 5ms/step - loss: 0.2752 - accuracy: 0.8876 - val_loss: 0.2150 - val_accuracy: 0.9351\n",
            "Epoch 29/50\n",
            "62/62 [==============================] - 0s 5ms/step - loss: 0.2703 - accuracy: 0.8860 - val_loss: 0.2131 - val_accuracy: 0.9416\n",
            "Epoch 30/50\n",
            "62/62 [==============================] - 0s 5ms/step - loss: 0.2660 - accuracy: 0.8795 - val_loss: 0.2341 - val_accuracy: 0.9091\n",
            "Epoch 31/50\n",
            "62/62 [==============================] - 0s 5ms/step - loss: 0.2635 - accuracy: 0.8860 - val_loss: 0.2053 - val_accuracy: 0.9416\n",
            "Epoch 32/50\n",
            "62/62 [==============================] - 0s 5ms/step - loss: 0.2586 - accuracy: 0.8941 - val_loss: 0.2127 - val_accuracy: 0.9416\n",
            "Epoch 33/50\n",
            "62/62 [==============================] - 0s 5ms/step - loss: 0.2601 - accuracy: 0.8860 - val_loss: 0.2156 - val_accuracy: 0.9221\n",
            "Epoch 34/50\n",
            "62/62 [==============================] - 0s 5ms/step - loss: 0.2562 - accuracy: 0.8925 - val_loss: 0.2152 - val_accuracy: 0.9351\n",
            "Epoch 35/50\n",
            "62/62 [==============================] - 0s 5ms/step - loss: 0.2556 - accuracy: 0.8974 - val_loss: 0.2077 - val_accuracy: 0.9416\n",
            "Epoch 36/50\n",
            "62/62 [==============================] - 0s 5ms/step - loss: 0.2602 - accuracy: 0.8893 - val_loss: 0.2394 - val_accuracy: 0.9156\n",
            "Epoch 37/50\n",
            "62/62 [==============================] - 0s 5ms/step - loss: 0.2544 - accuracy: 0.8941 - val_loss: 0.2028 - val_accuracy: 0.9351\n",
            "Epoch 38/50\n",
            "62/62 [==============================] - 0s 5ms/step - loss: 0.2503 - accuracy: 0.8990 - val_loss: 0.2274 - val_accuracy: 0.9091\n",
            "Epoch 39/50\n",
            "62/62 [==============================] - 0s 6ms/step - loss: 0.2463 - accuracy: 0.9023 - val_loss: 0.1992 - val_accuracy: 0.9416\n",
            "Epoch 40/50\n",
            "62/62 [==============================] - 0s 6ms/step - loss: 0.2459 - accuracy: 0.8958 - val_loss: 0.2123 - val_accuracy: 0.9416\n",
            "Epoch 41/50\n",
            "62/62 [==============================] - 0s 5ms/step - loss: 0.2436 - accuracy: 0.8876 - val_loss: 0.2051 - val_accuracy: 0.9351\n",
            "Epoch 42/50\n",
            "62/62 [==============================] - 0s 5ms/step - loss: 0.2420 - accuracy: 0.9039 - val_loss: 0.2061 - val_accuracy: 0.9091\n",
            "Epoch 43/50\n",
            "62/62 [==============================] - 0s 5ms/step - loss: 0.2416 - accuracy: 0.8925 - val_loss: 0.2005 - val_accuracy: 0.9286\n",
            "Epoch 44/50\n",
            "62/62 [==============================] - 0s 5ms/step - loss: 0.2367 - accuracy: 0.9007 - val_loss: 0.1975 - val_accuracy: 0.9286\n",
            "Epoch 45/50\n",
            "62/62 [==============================] - 0s 5ms/step - loss: 0.2415 - accuracy: 0.9055 - val_loss: 0.2030 - val_accuracy: 0.9351\n",
            "Epoch 46/50\n",
            "62/62 [==============================] - 0s 5ms/step - loss: 0.2398 - accuracy: 0.8958 - val_loss: 0.2253 - val_accuracy: 0.9286\n",
            "Epoch 47/50\n",
            "62/62 [==============================] - 0s 5ms/step - loss: 0.2396 - accuracy: 0.8974 - val_loss: 0.2031 - val_accuracy: 0.9286\n",
            "Epoch 48/50\n",
            "62/62 [==============================] - 0s 5ms/step - loss: 0.2345 - accuracy: 0.8974 - val_loss: 0.2109 - val_accuracy: 0.9221\n",
            "Epoch 49/50\n",
            "62/62 [==============================] - 0s 5ms/step - loss: 0.2338 - accuracy: 0.9007 - val_loss: 0.1897 - val_accuracy: 0.9351\n",
            "Epoch 50/50\n",
            "62/62 [==============================] - 0s 5ms/step - loss: 0.2311 - accuracy: 0.8974 - val_loss: 0.2160 - val_accuracy: 0.9026\n",
            "Loss : 0.21603389084339142\n",
            "Accuracy :90.2597427368164\n"
          ]
        }
      ]
    }
  ]
}